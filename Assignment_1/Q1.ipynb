{
 "cells": [
  {
   "cell_type": "code",
   "execution_count": 25,
   "source": [
    "import pandas as pd\r\n",
    "import numpy as np\r\n",
    "import matplotlib.pyplot as plt\r\n",
    "from sklearn.linear_model import Ridge, Lasso\r\n",
    "from sklearn.model_selection import GridSearchCV\r\n",
    "import seaborn as sbn\r\n"
   ],
   "outputs": [],
   "metadata": {}
  },
  {
   "cell_type": "code",
   "execution_count": 26,
   "source": [
    "np.random.seed(0)"
   ],
   "outputs": [],
   "metadata": {}
  },
  {
   "cell_type": "code",
   "execution_count": 27,
   "source": [
    "def readData():\r\n",
    "    ''' Used to read the data from the csv format file into a pandas dataframe\r\n",
    "        return a pandas DataFrame\r\n",
    "    '''\r\n",
    "    df = pd.read_csv('./data/abalone.csv', names = ['sex', 'length', 'diameter', 'height', 'wholeW', 'shuckedW', 'visceraW', 'shellW', 'rings']) #the names field is used to name the columns for easier visualization, since headings werer missing, I have hardcoded the same.\r\n",
    "    return df"
   ],
   "outputs": [],
   "metadata": {}
  },
  {
   "cell_type": "code",
   "execution_count": 28,
   "source": [
    "def preprocessData(data):\r\n",
    "    ''' Used to preprocess the data. The input argument is a dataframe object.\r\n",
    "        Modifies the dataframe in place.\r\n",
    "    '''\r\n",
    "    #Three new columns are added namely : 'M' , 'F' and 'I'.\r\n",
    "    # Values are placed such that if a creature is male(sex==\"M\"), the column 'M' will be set to 1 and 'F','I' are set to 0. And similarly for female and infants.\r\n",
    "    #In other words, a one hot encoding is applied to the representation\r\n",
    "    data['M'] = np.where(data['sex'] == 'M', 1, 0)  #basically checks the dataframe, where 'sex' column is equal to \"M\", it puts 1 in the column 'M' otherwise zero \r\n",
    "    data['F'] = np.where(data['sex'] == 'F', 1, 0)  #basically checks the dataframe, where 'sex' column is equal to \"F\", it puts 1 in the column 'F' otherwise zero\r\n",
    "    data['I'] = np.where(data['sex'] == 'I', 1, 0)  #basically checks the dataframe, where 'sex' column is equal to \"I\", it puts 1 in the column 'I' otherwise zero\r\n"
   ],
   "outputs": [],
   "metadata": {}
  },
  {
   "cell_type": "code",
   "execution_count": 29,
   "source": [
    "def extractFeatureAndResult(data):\r\n",
    "    ''' Used to split the dataframe into input(features data) and the outcome(output result data)\r\n",
    "        Input: pandas dataframe object\r\n",
    "        returns two splitted data object : a dataframe with the input(feature data) and a series with the output(result/outcome) data.\r\n",
    "    '''\r\n",
    "    featureData = data.drop(['rings', 'sex'], axis='columns') #Extract and store the input feature data in featureData.Dropping the column 'sex' because I have replaced it with three new columns as explain in the block above. Also, drop the column 'rings' as it is the output/result column.\r\n",
    "    Y_actual = data['rings'] #Similarly extract and store the ouput/result data ('rings' column) into the Y_actual\r\n",
    "    return featureData, Y_actual"
   ],
   "outputs": [],
   "metadata": {}
  },
  {
   "cell_type": "code",
   "execution_count": 30,
   "source": [
    "def transposeAndConvertType(data):\r\n",
    "    '''A utility method is used to convert a dataframe object into a numpy array which is then transposed and its datatype is modified to float64\r\n",
    "       Input is a pandas dataframe or series and the method returns a numpy array after transforming it by the method explained.\r\n",
    "    '''\r\n",
    "    transposedData = np.transpose(np.array(data))\r\n",
    "    transposedData = transposedData.astype(np.float64)  \r\n",
    "    return transposedData\r\n"
   ],
   "outputs": [],
   "metadata": {}
  },
  {
   "cell_type": "code",
   "execution_count": 31,
   "source": [
    "def split_test_train(feature_df, output_df, test_size):\r\n",
    "    ''' Used to split the dataset into training and testing set.\r\n",
    "        Input are two pandas data-based objects, feature_df: feature(input data) and output_df: the outcome(output/result) data, \r\n",
    "        And test_size : a positive float value in range [0,1] representing ratio of test data size to the whole dataset\r\n",
    "        Returns four numpy arrays : train_feature - Training feature(input) data, test_feature - Testing feature(input) data, \r\n",
    "        train_Y - Training result/output data, test_Y - Testing result/output data\r\n",
    "    '''\r\n",
    "    feature_data = np.array(feature_df) #convert to numpy ndarray\r\n",
    "    output_data = np.array(output_df) #convert to numpy ndarray\r\n",
    "    M = feature_data.shape[0]\r\n",
    "\r\n",
    "    num_train_sample = int((1 - test_size)*M) #computing training data size from the test_size\r\n",
    "    \r\n",
    "    #slicing operations to form training, validation, testing splits.\r\n",
    "    train_feature = feature_data[:num_train_sample]  #splitting and extracting training input feature data from the whole feature data\r\n",
    "    train_Y = output_data[:num_train_sample]         #splitting and extracting training output result data from the whole output result data\r\n",
    "    test_feature = feature_data[num_train_sample:]   #splitting and extracting testing input feature data from the whole feature data\r\n",
    "    test_Y = output_data[num_train_sample:]          #splitting and extracting testing output result data from the whole output result data\r\n",
    "    return train_feature, test_feature, train_Y, test_Y\r\n"
   ],
   "outputs": [],
   "metadata": {}
  },
  {
   "cell_type": "code",
   "execution_count": 32,
   "source": [
    "def splitAndConvert(feature_data, output_data, test_split_size):\r\n",
    "    ''' Used for handling/processing the data further.This method calls the splitting method internally to get the train,test splitted data \r\n",
    "        and then transforms it to numpy array formats by converting its type and taking its transposed, and then inserting a row of zeros(to handle bias term)\r\n",
    "        Input are two pandas data-based objects, feature_data: feature(input data) and output_data: the outcome(output/result) data, \r\n",
    "        And test_split_size : a positive float value in range [0,1] representing ratio of test data size to the whole dataset\r\n",
    "        Returns four transformed numpy arrays containg our data: inputTrain - Training feature(input) data, inputTest - Testing feature(input) data, \r\n",
    "        YTrain - Training result/output data, YTest - Testing result/output data\r\n",
    "        \r\n",
    "    '''\r\n",
    "\r\n",
    "    featureTrainData, featureTestData, YTrainData, YTestData = split_test_train(feature_data, output_data, test_split_size) #used to split the dataset\r\n",
    "\r\n",
    "    inputTrain = transposeAndConvertType(featureTrainData) #take transpose adn convert type to numpy.float64\r\n",
    "    inputTest = transposeAndConvertType(featureTestData) #take transpose adn convert type to numpy.float64\r\n",
    "    YTrain = transposeAndConvertType(YTrainData) #take transpose adn convert type to numpy.float64\r\n",
    "    YTest = transposeAndConvertType(YTestData) #take transpose adn convert type to numpy.float64\r\n",
    "\r\n",
    "    #Note : I have taken transpose here because I have considered input to be in form of column vectors. i.e- for N input features and M number of training samples, size of my input matrix is NxM where each column represents a sample.\r\n",
    "    #       The output (result) i.e - notationally Y is of the form 1XM where i^th column of the first and the only row represents i^th indexed outcome/result value\r\n",
    "    \r\n",
    "    inputTrain = np.insert(inputTrain, inputTrain.shape[0], values=1, axis=0) #insert a row of ones in the input/feature dataset to handle the bias term\r\n",
    "    inputTest = np.insert(inputTest, inputTest.shape[0], values=1, axis=0) #insert a row of ones in the input/feature dataset to handle the bias term\r\n",
    "\r\n",
    "    num_data_train = YTrain.shape[0] \r\n",
    "    num_data_test = YTest.shape[0]\r\n",
    "    YTrain = YTrain.reshape((1, num_data_train))\r\n",
    "    YTest = YTest.reshape((1, num_data_test))\r\n",
    "    \r\n",
    "    return inputTrain, inputTest, YTrain, YTest\r\n"
   ],
   "outputs": [],
   "metadata": {}
  },
  {
   "cell_type": "code",
   "execution_count": 33,
   "source": [
    "def plotHistogram(dataset):\r\n",
    "    sbn.histplot(dataset.length)\r\n",
    "    plt.show()\r\n",
    "    sbn.histplot(dataset.diameter)\r\n",
    "    plt.show()\r\n",
    "    sbn.histplot(dataset.height)\r\n",
    "    plt.show()\r\n",
    "    sbn.histplot(dataset.wholeW)\r\n",
    "    plt.show()\r\n",
    "    sbn.histplot(dataset.shuckedW)\r\n",
    "    plt.show()\r\n",
    "    sbn.histplot(dataset.visceraW)\r\n",
    "    plt.show()\r\n",
    "    sbn.histplot(dataset.shellW)\r\n",
    "    plt.show()"
   ],
   "outputs": [],
   "metadata": {}
  },
  {
   "cell_type": "code",
   "execution_count": 34,
   "source": [
    "def performDataOperations():\r\n",
    "    ''' This function is calls all the above made functions and is kind of a master function that internally performs all data handling operations \r\n",
    "        that is reading, extracting, spliting and formatting/transforming the data according to our requirement.\r\n",
    "        Returns four numpy arrays : X_train - Training feature(input) data, X_test - Testing feature(input) data, \r\n",
    "        Y_train - Training result/output data, Y_test - Testing result/output data. These are further used in the code to access the data from.\r\n",
    "    '''\r\n",
    "    dataset = readData() #read the dataset\r\n",
    "    \r\n",
    "    preprocessData(dataset) #preprocess it (Add columns)\r\n",
    "\r\n",
    "    featureData, Y_actual = extractFeatureAndResult(dataset) #drop unecessary columns and extract the feature and outcome/result data from the dataframe.\r\n",
    "    # print(featureData)\r\n",
    "    # print(Y_actual)\r\n",
    "    X_train, X_test, Y_train, Y_test = splitAndConvert(featureData, Y_actual, 0.2) #split the dataset with testing data size 0.2 times the original data size (20%) and convert it into required form\r\n",
    "\r\n",
    "\r\n",
    "    return X_train, X_test, Y_train, Y_test\r\n"
   ],
   "outputs": [],
   "metadata": {}
  },
  {
   "cell_type": "markdown",
   "source": [
    "Q1.1 Implementing Linear Regression from scratch"
   ],
   "metadata": {}
  },
  {
   "cell_type": "code",
   "execution_count": 35,
   "source": [
    "def getPredictedValue(X, theta):\r\n",
    "  ''' This function is used to find the predicted value given an input X and a theta value. \r\n",
    "      Input : X - numpy nd array containing the input feature data in column vector format (one column is one sample). \r\n",
    "      Also a theta : parameter (coefficients) of size Nx1, where N is number of features (including the column of all zeros inserted to handle bias term).\r\n",
    "      Returns : A numpy ndarray Y_hat having the predicted values corresponding to each column(sample) in the input matrix X.It is of size 1xM where M is number of samples (comlumns) in input parameter X.\r\n",
    "  '''\r\n",
    "  theta_transpose = np.transpose(theta) #firstly take transpose of theta\r\n",
    "  Y_hat = np.dot(theta_transpose, X) #apply the formula of dot product of theta transpose and X to get the preducted outcome/result values.\r\n",
    "  return Y_hat"
   ],
   "outputs": [],
   "metadata": {}
  },
  {
   "cell_type": "code",
   "execution_count": 36,
   "source": [
    "def getMSE(Y, Y_hat):\r\n",
    "  ''' The function is used to find Mean Square Error.\r\n",
    "      Input : Y_hat - the predicted values, Y - the actual true results/values corresponding to the predicted valuesSizes of both are (1 X K) where K = no. of samples you have predicted the outcome for.\r\n",
    "      Returns a decimal number representing the mean square error\r\n",
    "  '''\r\n",
    "  sq_err = np.square(np.subtract(Y_hat, Y)) #Finding the square of difference of Y_hat and Y\r\n",
    "  sigma_sq_err = np.sum(sq_err) #finding the sum of all such terms to calculate the sigma of squared error[(Y_hat - Y)^2].\r\n",
    "  mean_square_error = sigma_sq_err / (2*(Y.shape[1])) #finding the mean of the same(note we divide by 2 times the number of samples in Y_hat or Y. This is to facilitate easier derivatives later in theory.)\r\n",
    "  return mean_square_error"
   ],
   "outputs": [],
   "metadata": {}
  },
  {
   "cell_type": "code",
   "execution_count": 37,
   "source": [
    "def getRMSE(Y, Y_hat):\r\n",
    "    ''' The function is used to find Root Mean Square Error.\r\n",
    "        Input : Y_hat - the predicted values, Y - the actual true results/values corresponding to the predicted values.Sizes of both are (1 X K) where K = no. of samples you have predicted the outcome for.\r\n",
    "        Returns a decimal number representing the Root mean square error\r\n",
    "    '''\r\n",
    "    sq_err = np.square(np.subtract(Y_hat, Y)) #Finding the square of difference of Y_hat and Y\r\n",
    "    sigma_sq_err = np.sum(sq_err) #finding the sum of all such terms to calculate the sigma of squared error[(Y_hat - Y)^2].\r\n",
    "    root_mean_square_error = np.sqrt(sigma_sq_err / (Y.shape[1])) #finding the root of the mean of the squared error\r\n",
    "    return root_mean_square_error"
   ],
   "outputs": [],
   "metadata": {}
  },
  {
   "cell_type": "code",
   "execution_count": 38,
   "source": [
    "def performGradientDescent(curr_theta, alpha, X, Y):\r\n",
    "  ''' The gradient descent function. Used to perform one iteration of the gradient descent algorithm.The functions calculates \r\n",
    "      the gradient with respect to a particular input(X) and output(Y) sample.\r\n",
    "      Input : curr_theta - the current value of theta(coefficients) before performing an iteration of gradient descent.alpha - learning rate.\r\n",
    "              X, Y - user gives valid feature data(X) and valid output data(Y) \r\n",
    "      Returns the updated value of theta/coefficients after performing one iteration of gradient descent\r\n",
    "  '''\r\n",
    "  M = X.shape[1]\r\n",
    "  Y_hat = getPredictedValue(X, curr_theta) #firstly find the predicted value\r\n",
    "  dJ_theta = (np.dot(X, np.transpose((Y_hat - Y)))) / (M)  #calculate the gradient term which is partial derivative of cost wrt to theta.\r\n",
    "  updated_theta = curr_theta - (alpha * dJ_theta) #update theta using the value of the gradient and the learning rate(alpha)\r\n",
    "\r\n",
    "  return updated_theta  "
   ],
   "outputs": [],
   "metadata": {}
  },
  {
   "cell_type": "code",
   "execution_count": 39,
   "source": [
    "def performLinearRegression(X, Y, number_of_epochs, alpha_value):\r\n",
    "  ''' This function is the main function that performs linear regression.Uses the gradient descent function and runs for certain epochs to perform linear\r\n",
    "      regression and find a estimate for the best model coefficients.\r\n",
    "      Input : X, anumpy ndarray, is the feature dataset used to train the model (acts as the training set feature data for the model). \r\n",
    "              Y, anumpy ndarray, is the output/outcome/result dataset used to train the model (acts as the training set output/outcome/result data for the model).\r\n",
    "              number_of_epochs is the number of epochs for the algorithm to perform gradient descent.\r\n",
    "              alpha_value : The learning rate for the model\r\n",
    "      Returns the best model coefficients computed for the given training data by performing linear regression.\r\n",
    "  '''\r\n",
    "  num_epochs = number_of_epochs\r\n",
    "  theta_params = np.random.rand(X.shape[0], 1) #a randomly initialized numpy ndarray to hold the model coefficients in column wise form.\r\n",
    "  learning_rate = alpha_value #the learning rate for the model\r\n",
    "  cost_list = [] #the list to hold the cost/loss at all epochs on the training data using the current value of model coefficients.Used for plotting loss vs epochs curve\r\n",
    "\r\n",
    "  for i in range(num_epochs):\r\n",
    "    predicted_value = getPredictedValue(X, theta_params) #find the predicted value using current value of theta\r\n",
    "    iteration_cost = getMSE(Y, predicted_value) #find the MSE for the prediction on training input set for the current epoch\r\n",
    "    cost_list.append(iteration_cost)\r\n",
    "    update_theta = performGradientDescent(theta_params, learning_rate, X, Y) #perform gradient descent algorithm using current value of theta and alpha. This is used to update the value of theta at every epoch.\r\n",
    "    theta_params = update_theta\r\n",
    "\r\n",
    "  #piece of code used to plot the MSE vs epochs plot\r\n",
    "  plt.plot(cost_list)\r\n",
    "  plt.xlabel('epochs')\r\n",
    "  plt.ylabel('Loss (MSE)')\r\n",
    "  plt.title('Train loss (MSE) vs epochs')\r\n",
    "  # plt.savefig('./plots/Q1/linear_regression.png', facecolor='white', transparent=False)\r\n",
    "  plt.show()\r\n",
    "  \r\n",
    "  return theta_params"
   ],
   "outputs": [],
   "metadata": {}
  },
  {
   "cell_type": "code",
   "execution_count": 40,
   "source": [
    "# A block to test linear regression\r\n",
    "input_train, input_test, Y_actual_train, Y_actual_test = performDataOperations() #used to gather the data using the performDataOperations() function which inside, handles all the data operations.\r\n",
    "model_parameters = performLinearRegression(input_train, Y_actual_train, 1000, 0.5) #perform linear regression and train on training data\r\n",
    "trainRMSE = getRMSE(Y_actual_train, getPredictedValue(input_train, model_parameters)) #calculate the RMSE on Training data\r\n",
    "testRMSE = getRMSE(Y_actual_test, getPredictedValue(input_test, model_parameters)) #calculate the RMSE on Testing data\r\n",
    "print(f'RMSE on Training Data: {trainRMSE}')\r\n",
    "print(f'RMSE on Testing Data: {testRMSE}')"
   ],
   "outputs": [
    {
     "output_type": "display_data",
     "data": {
      "image/png": "[encoded data removed]",
      "text/plain": [
       "<Figure size 432x288 with 1 Axes>"
      ]
     },
     "metadata": {
      "needs_background": "light"
     }
    },
    {
     "output_type": "stream",
     "name": "stdout",
     "text": [
      "RMSE on Training Data: 2.269647839399355\n",
      "RMSE on Testing Data: 2.005072099966354\n"
     ]
    }
   ],
   "metadata": {}
  },
  {
   "cell_type": "markdown",
   "source": [
    "Q1.2 (A)"
   ],
   "metadata": {}
  },
  {
   "cell_type": "code",
   "execution_count": 41,
   "source": [
    "def performRidgeRegression(XTrain_data, YTrain_data, XTest_data, YTest_data, alpha_desc):\r\n",
    "    ''' Function is used to apply ridgeregularization technique to regression. A range of learning rates (alpha values) are chosen and the model fitted on the training dataset using these alphas\r\n",
    "        one at a time is used to predict output value on the testing input and thus find the RMSE for that prediction. This process is continued for all values of alpha in the alpha range list.\r\n",
    "        Input : (XTrain_data, YTrain_data) : training dataset, (XTest_data, YTest_data) : testing dataset, alpha_desc is a list of size 3 containing alpha's range's lower limit,\r\n",
    "        upperlimit and step-size respectively in order.\r\n",
    "        It plots the variation of RMSE for the prediction v/s the value of learning rate alpha\r\n",
    "        Returns : The list with all alphas(learning rates) used, a list containig the RMSEs for all values of alphas used, a dictionary with the model coefficients for the used values of alphas(keys) in the model, and a dictionary with model parameters for used alpha values\r\n",
    "\r\n",
    "    '''\r\n",
    "    testRMSE_ridge_list = [] #used to hold the testing data's RMSEs for ridge regression\r\n",
    "    alpha_range = np.arange(alpha_desc[0], alpha_desc[1], alpha_desc[2]) #make a range list for all the alpha values to be used\r\n",
    "    model_coeffs = {} #a dictionary with the model coefficients for the used values of alphas(used as keys) in the model\r\n",
    "    model_params = {} #a dictionary with the model parameter for the used values of alphas(used as keys) in the model\r\n",
    "\r\n",
    "    for i in range(len(alpha_range)):\r\n",
    "\r\n",
    "        model = Ridge(alpha=alpha_range[i]) #create the Ridge model with the value of alpha from the range list of alphas\r\n",
    "        model.fit(XTrain_data, YTrain_data) #fit the model using the training datasets\r\n",
    "\r\n",
    "        YPredict_data = model.predict(XTest_data) #predict through model using the testing dataset input\r\n",
    "        model_coeffs[alpha_range[i]] = model.coef_.reshape((XTrain_data.shape[1], 1)) #finding and storing the model coefficient for the current model\r\n",
    "        model_params[alpha_range[i]] = model.get_params() #finding and storing the model parameters for the current model\r\n",
    "        testRMSE_ridge = getRMSE(np.transpose(YTest_data), np.transpose(YPredict_data)) #calculate the test data's RMSE for the current model prediction \r\n",
    "        testRMSE_ridge_list.append(testRMSE_ridge)\r\n",
    "\r\n",
    "\r\n",
    "    #plotting the plot for variation of testing data RMSE vs alpha value\r\n",
    "    plt.plot(alpha_range, testRMSE_ridge_list)\r\n",
    "    plt.xlabel('Alpha')\r\n",
    "    plt.ylabel('RMSE')\r\n",
    "    plt.title(\"Ridge\")\r\n",
    "    # plt.savefig('./plots/Q1/ridge_regression.png', facecolor='white', transparent=False)\r\n",
    "    plt.show()\r\n",
    "    \r\n",
    "\r\n",
    "    return alpha_range, model_coeffs, testRMSE_ridge_list, model_params\r\n"
   ],
   "outputs": [],
   "metadata": {}
  },
  {
   "cell_type": "code",
   "execution_count": 42,
   "source": [
    "def performLassoRegression(XTrain_data, YTrain_data, XTest_data, YTest_data, alpha_desc):\r\n",
    "    '''Function is used to apply lasso regularization technique to regression. A range of learning rates (alpha values) are chosen and the model fitted on the training dataset using these alphas\r\n",
    "        one at a time is used to predict output value on the testing input and thus find the RMSE for that prediction. This process is continued for all values of alpha in the alpha range list.\r\n",
    "        Input : (XTrain_data, YTrain_data) : training dataset, (XTest_data, YTest_data) : testing dataset, alpha_desc is a list of size 3 containing alpha's range's lower limit,\r\n",
    "        upperlimit and step-size respectively in order.\r\n",
    "        It plots the variation of RMSE for the prediction v/s the value of learning rate alpha\r\n",
    "        Returns : The list with all alphas(learning rates) used, a list containig the RMSEs for all values of alphas used, a dictionary with the model coefficients for the used values of alphas(keys) in the model, and a dictionary with model parameters for used alpha values\r\n",
    "    '''\r\n",
    "    testRMSE_lasso_list = [] #used to hold the testing data's RMSEs for lasso regression\r\n",
    "    alpha_range = np.arange(alpha_desc[0], alpha_desc[1], alpha_desc[2]) #make a range list for all the alpha values to be used\r\n",
    "    model_coeffs = {} #a dictionary with the model coefficients for the used values of alphas(used as keys) in the model\r\n",
    "    model_params = {} #a dictionary with the model parameter for the used values of alphas(used as keys) in the model\r\n",
    "    for i in range(len(alpha_range)):\r\n",
    "\r\n",
    "        model = Lasso(alpha=alpha_range[i]) #create the Ridge model with the value of alpha from the range list of alphas\r\n",
    "        model.fit(XTrain_data, YTrain_data) #fit the model using the training datasets\r\n",
    "\r\n",
    "        YPredict_data = model.predict(XTest_data) #predict through model using the testing dataset input\r\n",
    "        model_coeffs[alpha_range[i]] = model.coef_.reshape((XTrain_data.shape[1], 1)) #finding and storing the model coefficient for the current model\r\n",
    "        model_params[alpha_range[i]] = model.get_params() #finding and storing the model parameters for the current model\r\n",
    "        testRMSE_lasso = getRMSE(np.transpose(YTest_data), np.transpose(YPredict_data)) #calculate the test data's RMSE for the current model prediction\r\n",
    "        testRMSE_lasso_list.append(testRMSE_lasso)\r\n",
    "\r\n",
    "    #plotting the plot for variation of testing data RMSE vs alpha value\r\n",
    "    plt.plot(alpha_range, testRMSE_lasso_list)\r\n",
    "    plt.xlabel('Alpha')\r\n",
    "    plt.ylabel('RMSE')\r\n",
    "    plt.title(\"Lasso\")\r\n",
    "    # plt.savefig('./plots/Q1/lasso_regression.png', facecolor='white', transparent=False)\r\n",
    "    plt.show()\r\n",
    "\r\n",
    "    return alpha_range, model_coeffs, testRMSE_lasso_list, model_params\r\n"
   ],
   "outputs": [],
   "metadata": {}
  },
  {
   "cell_type": "code",
   "execution_count": 43,
   "source": [
    "#The block to test and run ridge and lasso regression\r\n",
    "\r\n",
    "#taking transpose of the numpy arrays for the training data and testing data\r\n",
    "original_train_X = np.transpose(input_train)\r\n",
    "original_test_X = np.transpose(input_test)\r\n",
    "original_train_Y = np.transpose(Y_actual_train)\r\n",
    "original_test_Y = np.transpose(Y_actual_test)\r\n",
    "\r\n",
    "alpha_desc_ridge = [0.001, 3, 0.1] #alpha range for ridge [(low,high,step-size)]\r\n",
    "alpha_desc_lasso = [0.001, 3, 0.1] #alpha range for lasso [(low,high,step-size)]\r\n",
    "alpha_range_ridge, coeff_ridge, testRMSE_ridge,params_ridge = performRidgeRegression(original_train_X, original_train_Y, original_test_X, original_test_Y, alpha_desc_ridge)\r\n",
    "alpha_range_lasso, coeff_lasso, testRMSE_lasso, params_lasso = performLassoRegression(original_train_X, original_train_Y, original_test_X, original_test_Y, alpha_desc_lasso)\r\n",
    "\r\n",
    "ridge_min = testRMSE_ridge.index(min(testRMSE_ridge)) #finding the minimum RMSE for ridge case\r\n",
    "best_coeff_ridge = coeff_ridge[alpha_range_ridge[ridge_min]] #finding the best coefficient (corresponding to lowest RMSE) for ridge case\r\n",
    "best_params_ridge = params_ridge[alpha_range_ridge[ridge_min]] #finding the best parameter(alpha) (corresponding to lowest RMSE) for ridge case\r\n",
    "print(f'Ridge Regression\\nMin Test RMSE: {min(testRMSE_ridge)}\\nBest Coeff:\\n {best_coeff_ridge} \\nAlpha: {best_params_ridge[\"alpha\"]} ')\r\n",
    "\r\n",
    "lasso_min = testRMSE_lasso.index(min(testRMSE_lasso)) #finding the minimum RMSE for lasso case\r\n",
    "best_coeff_lasso = coeff_lasso[alpha_range_lasso[lasso_min]] #finding the best coefficient (corresponding to lowest RMSE) for lasso case\r\n",
    "best_params_lasso = params_lasso[alpha_range_lasso[lasso_min]] #finding the best parameter(alpha) (corresponding to lowest RMSE) for lasso case\r\n",
    "print(f'Lasso Regression\\nMin Test RMSE: {min(testRMSE_lasso)}\\nBest Coeff:\\n {best_coeff_lasso} \\nAlpha: {best_params_lasso[\"alpha\"]}')"
   ],
   "outputs": [
    {
     "output_type": "display_data",
     "data": {
      "image/png": "[encoded data removed]",
      "text/plain": [
       "<Figure size 432x288 with 1 Axes>"
      ]
     },
     "metadata": {
      "needs_background": "light"
     }
    },
    {
     "output_type": "display_data",
     "data": {
      "image/png": "[encoded data removed]",
      "text/plain": [
       "<Figure size 432x288 with 1 Axes>"
      ]
     },
     "metadata": {
      "needs_background": "light"
     }
    },
    {
     "output_type": "stream",
     "name": "stdout",
     "text": [
      "Ridge Regression\n",
      "Min Test RMSE: 1.991365202774594\n",
      "Best Coeff:\n",
      " [[  1.26009921]\n",
      " [  8.94763706]\n",
      " [  7.69302601]\n",
      " [  7.74571831]\n",
      " [-18.49644112]\n",
      " [ -8.44308261]\n",
      " [ 10.54362886]\n",
      " [  0.29995697]\n",
      " [  0.30347425]\n",
      " [ -0.60343122]\n",
      " [  0.        ]] \n",
      "Alpha: 0.501 \n",
      "Lasso Regression\n",
      "Min Test RMSE: 1.9931470657708505\n",
      "Best Coeff:\n",
      " [[ 0.00000000e+00]\n",
      " [ 1.06629548e+01]\n",
      " [ 7.77979057e+00]\n",
      " [ 8.39102025e+00]\n",
      " [-1.93555392e+01]\n",
      " [-9.04584875e+00]\n",
      " [ 9.92156069e+00]\n",
      " [ 9.33238839e-04]\n",
      " [-0.00000000e+00]\n",
      " [-8.83524714e-01]\n",
      " [ 0.00000000e+00]] \n",
      "Alpha: 0.001\n"
     ]
    }
   ],
   "metadata": {}
  },
  {
   "cell_type": "markdown",
   "source": [
    "Q 1.2 (B)"
   ],
   "metadata": {}
  },
  {
   "cell_type": "code",
   "execution_count": 44,
   "source": [
    "def performGridSearch(x_train, y_train, method, alpha_desc):\r\n",
    "    ''' This function is used for selecting the best alpha, coefficient and rmse value for the model using sklearn's grid search function GridSearchCV.\r\n",
    "        Input : (x_train, y_train) - training dataset, method : a string value in which is either \"Ridge\" or \"Lasso\" depending on what type of \r\n",
    "        regularization technique is to be chosen, alpha_desc: A list of size 3 containing alpha's range's lower limit, upperlimit and step-size respectively in order.\r\n",
    "        Returns : best_alpha - the best case alpha value, best_coefficient - best case model coefficient, best_rmse - best case RMSE \r\n",
    "    '''\r\n",
    "    if(method == \"Ridge\"):\r\n",
    "        model = Ridge() #if method is \"Ridge\" create a Ridge model\r\n",
    "    elif(method == \"Lasso\"):\r\n",
    "        model = Lasso() #if method is \"Lasso\" create a Ridge model\r\n",
    "    alpha_list = np.arange(alpha_desc[0], alpha_desc[1], alpha_desc[2]) #make a range list for all the alpha values to be used\r\n",
    "    alpha_params = {'alpha':alpha_list} #dictionary with a key 'alpha; corresponding to value alpha_list (the list of all alphas)\r\n",
    "    grid = GridSearchCV(estimator=model, param_grid=alpha_params, scoring='neg_mean_squared_error') #calling the GridSearchCV method of sklearn to perform the technqiue, the estimator is passed as the model created, grid parameters are the alpha list values, scoring used is 'neg_mean_squared_error'\r\n",
    "    grid.fit(x_train, y_train) #run the fit with training dataset\r\n",
    "    \r\n",
    "    best_coefficient = grid.best_estimator_.coef_ #finding the best model coefficient\r\n",
    "    best_coefficient = best_coefficient.reshape((x_train.shape[1], 1)) #reshaping it to ((N x 1)) where N is number of features (including the added column for the bias term)\r\n",
    "    best_alpha = grid.best_params_ #finding the best alpha (parameters)\r\n",
    "\r\n",
    "    return best_alpha, best_coefficient"
   ],
   "outputs": [],
   "metadata": {}
  },
  {
   "cell_type": "code",
   "execution_count": 45,
   "source": [
    "# A block to test and perform the grid search on the data to finding best alpha, model coefficients and best RMSE for both ridge and lasso.\r\n",
    "\r\n",
    "best_alpha_lasso, best_coeff_lasso_grid = performGridSearch(original_train_X, original_train_Y, \"Lasso\", [0.001, 3, 0.1])\r\n",
    "best_alpha_ridge, best_coeff_ridge_grid = performGridSearch(original_train_X, original_train_Y, \"Ridge\", [0.001, 3, 0.1])\r\n",
    "\r\n",
    "print(f'Ridge Regression\\nBest Alpha : {best_alpha_ridge}\\nBest Coefficient:\\n{best_coeff_ridge_grid}\\n')\r\n",
    "print(f'Lasso Regression\\nBest Alpha : {best_alpha_lasso}\\nBest Coefficient:\\n{best_coeff_lasso_grid}\\n')"
   ],
   "outputs": [
    {
     "output_type": "stream",
     "name": "stdout",
     "text": [
      "Ridge Regression\n",
      "Best Alpha : {'alpha': 0.401}\n",
      "Best Coefficient:\n",
      "[[  0.92322767]\n",
      " [  9.43128582]\n",
      " [  7.93748047]\n",
      " [  7.97325832]\n",
      " [-18.76787046]\n",
      " [ -8.83672402]\n",
      " [ 10.35585794]\n",
      " [  0.29916879]\n",
      " [  0.30021564]\n",
      " [ -0.59938443]\n",
      " [  0.        ]]\n",
      "\n",
      "Lasso Regression\n",
      "Best Alpha : {'alpha': 0.001}\n",
      "Best Coefficient:\n",
      "[[ 0.00000000e+00]\n",
      " [ 1.06629548e+01]\n",
      " [ 7.77979057e+00]\n",
      " [ 8.39102025e+00]\n",
      " [-1.93555392e+01]\n",
      " [-9.04584875e+00]\n",
      " [ 9.92156069e+00]\n",
      " [ 9.33238839e-04]\n",
      " [-0.00000000e+00]\n",
      " [-8.83524714e-01]\n",
      " [ 0.00000000e+00]]\n",
      "\n"
     ]
    }
   ],
   "metadata": {}
  },
  {
   "cell_type": "code",
   "execution_count": 46,
   "source": [
    "def compareCoefficients (grid_coeffs, model_coeffs):\r\n",
    "    euclidean_distance = np.sqrt(np.sum(np.square(grid_coeffs - model_coeffs)))\r\n",
    "    return euclidean_distance"
   ],
   "outputs": [],
   "metadata": {}
  },
  {
   "cell_type": "code",
   "execution_count": 47,
   "source": [
    "comparison_ridge = compareCoefficients(best_coeff_ridge_grid, best_coeff_ridge)\r\n",
    "comparison_lasso = compareCoefficients(best_coeff_lasso_grid, best_coeff_lasso)\r\n",
    "print(f'Ridge :{comparison_ridge}')\r\n",
    "print(f'Lasso : {comparison_lasso}')"
   ],
   "outputs": [
    {
     "output_type": "stream",
     "name": "stdout",
     "text": [
      "Ridge :0.8502023171814787\n",
      "Lasso : 0.0\n"
     ]
    }
   ],
   "metadata": {}
  }
 ],
 "metadata": {
  "orig_nbformat": 4,
  "language_info": {
   "name": "python",
   "version": "3.9.5",
   "mimetype": "text/x-python",
   "codemirror_mode": {
    "name": "ipython",
    "version": 3
   },
   "pygments_lexer": "ipython3",
   "nbconvert_exporter": "python",
   "file_extension": ".py"
  },
  "kernelspec": {
   "name": "python3",
   "display_name": "Python 3.9.5 64-bit"
  },
  "interpreter": {
   "hash": "95998ac47eb65ec9e5c98c2254b1cb40f9c7258e6e03781a4daecb7b0f9a0cae"
  }
 },
 "nbformat": 4,
 "nbformat_minor": 2
}