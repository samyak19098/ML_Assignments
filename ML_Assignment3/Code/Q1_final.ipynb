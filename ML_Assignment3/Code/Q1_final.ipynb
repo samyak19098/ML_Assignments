{
 "cells": [
  {
   "cell_type": "code",
   "execution_count": 1,
   "metadata": {},
   "outputs": [],
   "source": [
    "import numpy as np\n",
    "import pandas as pd\n",
    "import matplotlib.pyplot as plt\n",
    "from sklearn import preprocessing\n",
    "from pyclustering.cluster.kmedians import kmedians\n",
    "from pyclustering.cluster import cluster_visualizer\n",
    "from pyclustering.cluster import cluster_visualizer_multidim\n",
    "from sklearn.decomposition import PCA\n",
    "import pickle\n",
    "from tqdm.notebook import tqdm"
   ]
  },
  {
   "cell_type": "code",
   "execution_count": 2,
   "metadata": {},
   "outputs": [],
   "source": [
    "dataset_description = pd.read_csv('../Data/Dataset_Description.csv')"
   ]
  },
  {
   "cell_type": "code",
   "execution_count": 3,
   "metadata": {},
   "outputs": [],
   "source": [
    "# dataset_description"
   ]
  },
  {
   "cell_type": "code",
   "execution_count": 4,
   "metadata": {},
   "outputs": [],
   "source": [
    "population_data_raw = pd.read_csv('../Data/population.csv')\n",
    "more_than_50_raw = pd.read_csv('../Data/more_than_50k.csv')\n",
    "\n",
    "# population_data_raw "
   ]
  },
  {
   "cell_type": "code",
   "execution_count": 5,
   "metadata": {},
   "outputs": [],
   "source": [
    "def preprocessing(df):\n",
    "\n",
    "    #replace ? with Nan\n",
    "    df = df.replace({' ?' :  np.nan})\n",
    "\n",
    "    #drop columns with more than 40$ NaN values\n",
    "    cols = df.columns\n",
    "    missing_percentages = (df.isna().sum() / len(df)) * 100\n",
    "    cols_to_drop = []\n",
    "    for col in cols:\n",
    "        if(missing_percentages[col] > 40.0):\n",
    "            cols_to_drop.append(col)\n",
    "    print(f'Dropping = {cols_to_drop}')\n",
    "    df = df.drop(cols_to_drop, axis=1)\n",
    "    return df"
   ]
  },
  {
   "cell_type": "code",
   "execution_count": 6,
   "metadata": {},
   "outputs": [
    {
     "name": "stdout",
     "output_type": "stream",
     "text": [
      "Dropping = ['MIGMTR1', 'MIGMTR3', 'MIGMTR4', 'MIGSUN']\n",
      "(199523, 36)\n"
     ]
    }
   ],
   "source": [
    "data = preprocessing(population_data_raw)\n",
    "print(data.shape)"
   ]
  },
  {
   "cell_type": "code",
   "execution_count": 7,
   "metadata": {},
   "outputs": [
    {
     "name": "stdout",
     "output_type": "stream",
     "text": [
      "Dropping = ['MIGMTR1', 'MIGMTR3', 'MIGMTR4', 'MIGSUN']\n",
      "(3580, 36)\n"
     ]
    }
   ],
   "source": [
    "data_more_than_50 = preprocessing(more_than_50_raw)\n",
    "print(data_more_than_50.shape)"
   ]
  },
  {
   "cell_type": "code",
   "execution_count": 8,
   "metadata": {},
   "outputs": [],
   "source": [
    "def plot_histogram(df, numeric_columns, categorical_columns, anum):\n",
    "    # features = df.columns\n",
    "    # for feat in features:\n",
    "    #     plt.figure(figsize=(25,5))\n",
    "    #     if(feat in numeric_columns):\n",
    "    #         df[feat].hist(bins=10,edgecolor='black', linewidth=1.5)\n",
    "\n",
    "    #     else:\n",
    "    #         unique_cat_values = len(df[feat].unique())\n",
    "    #         print(f'No. of unique Categories : {unique_cat_values}')\n",
    "    #         df[feat].hist(bins = unique_cat_values, edgecolor='black', linewidth=1.5)\n",
    "    #     plt.xlabel(feat)\n",
    "    #     plt.ylabel('Count')\n",
    "    #     plt.title(f'Histogram : {feat}')\n",
    "    #     plt.savefig(f'../Plots/Feature_Analysis/{feat}_hist', facecolor='w', bbox_inches='tight')\n",
    "    #     plt.show()\n",
    "    features = df.columns\n",
    "    for feat in features:\n",
    "        plt.figure(figsize=(25, 5))\n",
    "        # if(feat in numeric_columns)\n",
    "        unique_cat_values = len(df[feat].unique())\n",
    "        print(f'No. of unique Categories : {unique_cat_values}')\n",
    "        df[feat].astype(str).hist(bins = unique_cat_values, edgecolor='black', linewidth=1.5)\n",
    "        plt.xlabel(feat)\n",
    "        plt.ylabel('Count')\n",
    "        plt.title(f'Histogram : {feat}')\n",
    "        plt.savefig(f'../Plots/Feature_Analysis_{anum}/{feat}_hist', facecolor='w', bbox_inches='tight')\n",
    "        plt.show()"
   ]
  },
  {
   "cell_type": "code",
   "execution_count": 9,
   "metadata": {},
   "outputs": [],
   "source": [
    "def compute(df, col):\n",
    "    max_freq = df[col].value_counts().max()\n",
    "    max_perc = (max_freq / df.shape[0]) * 100\n",
    "    print(max_perc)"
   ]
  },
  {
   "cell_type": "code",
   "execution_count": 10,
   "metadata": {},
   "outputs": [],
   "source": [
    "def feature_analysis(df, anum):\n",
    "    data_columns = df.columns\n",
    "    numeric_columns = ['AAGE', 'AHRSPAY', 'CAPGAIN', 'CAPLOSS', 'DIVVAL', 'WKSWORK']\n",
    "    all_cols_set = set(data_columns)\n",
    "    numerical_cols_set = set(numeric_columns)\n",
    "    categorical_cols = list(all_cols_set - numerical_cols_set)\n",
    "    \n",
    "    for col in numeric_columns:\n",
    "        df[col] = pd.cut(x=df[col], bins=6)\n",
    "    # df['AAGE']\n",
    "    # plot_histogram(df, numeric_columns, categorical_cols, anum)\n",
    "    total_count = df.shape[0]\n",
    "\n",
    "    cols_to_drop = []\n",
    "    for col in data_columns:\n",
    "        max_freq = df[col].value_counts().max()\n",
    "        max_perc = (max_freq / total_count) * 100\n",
    "        if(max_perc > 80.0):\n",
    "            cols_to_drop.append(col)\n",
    "    print(f'{anum} : Dropping {len(cols_to_drop)} cols \\n {cols_to_drop}')\n",
    "    df = df.drop(cols_to_drop, axis=1)\n",
    "    return df\n",
    "\n",
    "    # print(df)\n",
    "\n",
    "\n",
    "    # print(categorical_cols)\n"
   ]
  },
  {
   "cell_type": "code",
   "execution_count": 11,
   "metadata": {},
   "outputs": [],
   "source": [
    "# data.mode()"
   ]
  },
  {
   "cell_type": "code",
   "execution_count": 12,
   "metadata": {},
   "outputs": [
    {
     "name": "stdout",
     "output_type": "stream",
     "text": [
      "1 : Dropping 16 cols \n",
      " ['AHRSPAY', 'AHSCOL', 'ARACE', 'AREORGN', 'AUNMEM', 'AUNTYPE', 'CAPGAIN', 'CAPLOSS', 'DIVVAL', 'GRINREG', 'GRINST', 'PEMNTVTY', 'PENATVTY', 'PRCITSHP', 'SEOTR', 'VETQVA']\n",
      "2 : Dropping 20 cols \n",
      " ['AHRSPAY', 'AHSCOL', 'ARACE', 'AREORGN', 'AUNMEM', 'AUNTYPE', 'CAPGAIN', 'CAPLOSS', 'DIVVAL', 'GRINREG', 'GRINST', 'PARENT', 'PEFNTVTY', 'PEMNTVTY', 'PENATVTY', 'PRCITSHP', 'SEOTR', 'VETQVA', 'VETYN', 'WKSWORK']\n"
     ]
    }
   ],
   "source": [
    "data = feature_analysis(data, 1)\n",
    "data_more_than_50 = feature_analysis(data_more_than_50, 2)"
   ]
  },
  {
   "cell_type": "code",
   "execution_count": 13,
   "metadata": {},
   "outputs": [
    {
     "data": {
      "text/plain": [
       "Index(['AAGE', 'ACLSWKR', 'ADTIND', 'ADTOCC', 'AHGA', 'AMARITL', 'AMJIND',\n",
       "       'AMJOCC', 'ASEX', 'AWKSTAT', 'FILESTAT', 'HHDFMX', 'HHDREL', 'MIGSAME',\n",
       "       'NOEMP', 'PARENT', 'PEFNTVTY', 'VETYN', 'WKSWORK', 'YEAR'],\n",
       "      dtype='object')"
      ]
     },
     "execution_count": 13,
     "metadata": {},
     "output_type": "execute_result"
    }
   ],
   "source": [
    "data.columns"
   ]
  },
  {
   "cell_type": "code",
   "execution_count": 14,
   "metadata": {},
   "outputs": [
    {
     "data": {
      "text/plain": [
       "Index(['AAGE', 'ACLSWKR', 'ADTIND', 'ADTOCC', 'AHGA', 'AMARITL', 'AMJIND',\n",
       "       'AMJOCC', 'ASEX', 'AWKSTAT', 'FILESTAT', 'HHDFMX', 'HHDREL', 'MIGSAME',\n",
       "       'NOEMP', 'YEAR'],\n",
       "      dtype='object')"
      ]
     },
     "execution_count": 14,
     "metadata": {},
     "output_type": "execute_result"
    }
   ],
   "source": [
    "data_more_than_50.columns"
   ]
  },
  {
   "cell_type": "code",
   "execution_count": 15,
   "metadata": {},
   "outputs": [
    {
     "data": {
      "text/plain": [
       "AAGE           0\n",
       "ACLSWKR        0\n",
       "ADTIND         0\n",
       "ADTOCC         0\n",
       "AHGA           0\n",
       "AMARITL        0\n",
       "AMJIND         0\n",
       "AMJOCC         0\n",
       "ASEX           0\n",
       "AWKSTAT        0\n",
       "FILESTAT       0\n",
       "HHDFMX         0\n",
       "HHDREL         0\n",
       "MIGSAME        0\n",
       "NOEMP          0\n",
       "PARENT         0\n",
       "PEFNTVTY    6713\n",
       "VETYN          0\n",
       "WKSWORK        0\n",
       "YEAR           0\n",
       "dtype: int64"
      ]
     },
     "execution_count": 15,
     "metadata": {},
     "output_type": "execute_result"
    }
   ],
   "source": [
    "data.isna().sum()"
   ]
  },
  {
   "cell_type": "code",
   "execution_count": 16,
   "metadata": {},
   "outputs": [
    {
     "data": {
      "text/plain": [
       "AAGE        0\n",
       "ACLSWKR     0\n",
       "ADTIND      0\n",
       "ADTOCC      0\n",
       "AHGA        0\n",
       "AMARITL     0\n",
       "AMJIND      0\n",
       "AMJOCC      0\n",
       "ASEX        0\n",
       "AWKSTAT     0\n",
       "FILESTAT    0\n",
       "HHDFMX      0\n",
       "HHDREL      0\n",
       "MIGSAME     0\n",
       "NOEMP       0\n",
       "YEAR        0\n",
       "dtype: int64"
      ]
     },
     "execution_count": 16,
     "metadata": {},
     "output_type": "execute_result"
    }
   ],
   "source": [
    "data_more_than_50.isna().sum()"
   ]
  },
  {
   "cell_type": "code",
   "execution_count": 17,
   "metadata": {},
   "outputs": [
    {
     "data": {
      "text/html": [
       "<div>\n",
       "<style scoped>\n",
       "    .dataframe tbody tr th:only-of-type {\n",
       "        vertical-align: middle;\n",
       "    }\n",
       "\n",
       "    .dataframe tbody tr th {\n",
       "        vertical-align: top;\n",
       "    }\n",
       "\n",
       "    .dataframe thead th {\n",
       "        text-align: right;\n",
       "    }\n",
       "</style>\n",
       "<table border=\"1\" class=\"dataframe\">\n",
       "  <thead>\n",
       "    <tr style=\"text-align: right;\">\n",
       "      <th></th>\n",
       "      <th>AAGE</th>\n",
       "      <th>ACLSWKR</th>\n",
       "      <th>ADTIND</th>\n",
       "      <th>ADTOCC</th>\n",
       "      <th>AHGA</th>\n",
       "      <th>AMARITL</th>\n",
       "      <th>AMJIND</th>\n",
       "      <th>AMJOCC</th>\n",
       "      <th>ASEX</th>\n",
       "      <th>AWKSTAT</th>\n",
       "      <th>FILESTAT</th>\n",
       "      <th>HHDFMX</th>\n",
       "      <th>HHDREL</th>\n",
       "      <th>MIGSAME</th>\n",
       "      <th>NOEMP</th>\n",
       "      <th>PARENT</th>\n",
       "      <th>PEFNTVTY</th>\n",
       "      <th>VETYN</th>\n",
       "      <th>WKSWORK</th>\n",
       "      <th>YEAR</th>\n",
       "    </tr>\n",
       "  </thead>\n",
       "  <tbody>\n",
       "    <tr>\n",
       "      <th>0</th>\n",
       "      <td>(-0.09, 15.0]</td>\n",
       "      <td>Not in universe</td>\n",
       "      <td>0</td>\n",
       "      <td>0</td>\n",
       "      <td>High school graduate</td>\n",
       "      <td>Never married</td>\n",
       "      <td>Not in universe or children</td>\n",
       "      <td>Not in universe</td>\n",
       "      <td>Female</td>\n",
       "      <td>Children or Armed Forces</td>\n",
       "      <td>Nonfiler</td>\n",
       "      <td>Householder</td>\n",
       "      <td>Householder</td>\n",
       "      <td>Not in universe under 1 year old</td>\n",
       "      <td>0</td>\n",
       "      <td>Not in universe</td>\n",
       "      <td>United-States</td>\n",
       "      <td>2</td>\n",
       "      <td>(-0.052, 8.667]</td>\n",
       "      <td>94</td>\n",
       "    </tr>\n",
       "  </tbody>\n",
       "</table>\n",
       "</div>"
      ],
      "text/plain": [
       "            AAGE           ACLSWKR  ADTIND  ADTOCC                   AHGA  \\\n",
       "0  (-0.09, 15.0]   Not in universe       0       0   High school graduate   \n",
       "\n",
       "          AMARITL                        AMJIND            AMJOCC     ASEX  \\\n",
       "0   Never married   Not in universe or children   Not in universe   Female   \n",
       "\n",
       "                     AWKSTAT   FILESTAT        HHDFMX        HHDREL  \\\n",
       "0   Children or Armed Forces   Nonfiler   Householder   Householder   \n",
       "\n",
       "                             MIGSAME  NOEMP            PARENT        PEFNTVTY  \\\n",
       "0   Not in universe under 1 year old      0   Not in universe   United-States   \n",
       "\n",
       "   VETYN          WKSWORK  YEAR  \n",
       "0      2  (-0.052, 8.667]    94  "
      ]
     },
     "execution_count": 17,
     "metadata": {},
     "output_type": "execute_result"
    }
   ],
   "source": [
    "data.mode()"
   ]
  },
  {
   "cell_type": "code",
   "execution_count": 18,
   "metadata": {},
   "outputs": [
    {
     "data": {
      "text/html": [
       "<div>\n",
       "<style scoped>\n",
       "    .dataframe tbody tr th:only-of-type {\n",
       "        vertical-align: middle;\n",
       "    }\n",
       "\n",
       "    .dataframe tbody tr th {\n",
       "        vertical-align: top;\n",
       "    }\n",
       "\n",
       "    .dataframe thead th {\n",
       "        text-align: right;\n",
       "    }\n",
       "</style>\n",
       "<table border=\"1\" class=\"dataframe\">\n",
       "  <thead>\n",
       "    <tr style=\"text-align: right;\">\n",
       "      <th></th>\n",
       "      <th>AAGE</th>\n",
       "      <th>ACLSWKR</th>\n",
       "      <th>ADTIND</th>\n",
       "      <th>ADTOCC</th>\n",
       "      <th>AHGA</th>\n",
       "      <th>AMARITL</th>\n",
       "      <th>AMJIND</th>\n",
       "      <th>AMJOCC</th>\n",
       "      <th>ASEX</th>\n",
       "      <th>AWKSTAT</th>\n",
       "      <th>FILESTAT</th>\n",
       "      <th>HHDFMX</th>\n",
       "      <th>HHDREL</th>\n",
       "      <th>MIGSAME</th>\n",
       "      <th>NOEMP</th>\n",
       "      <th>YEAR</th>\n",
       "    </tr>\n",
       "  </thead>\n",
       "  <tbody>\n",
       "    <tr>\n",
       "      <th>0</th>\n",
       "      <td>(42.0, 54.0]</td>\n",
       "      <td>Private</td>\n",
       "      <td>45</td>\n",
       "      <td>2</td>\n",
       "      <td>Bachelors degree(BA AB BS)</td>\n",
       "      <td>Married-civilian spouse present</td>\n",
       "      <td>Manufacturing-durable goods</td>\n",
       "      <td>Executive admin and managerial</td>\n",
       "      <td>Male</td>\n",
       "      <td>Children or Armed Forces</td>\n",
       "      <td>Joint both under 65</td>\n",
       "      <td>Householder</td>\n",
       "      <td>Householder</td>\n",
       "      <td>Not in universe under 1 year old</td>\n",
       "      <td>6</td>\n",
       "      <td>95</td>\n",
       "    </tr>\n",
       "  </tbody>\n",
       "</table>\n",
       "</div>"
      ],
      "text/plain": [
       "           AAGE   ACLSWKR  ADTIND  ADTOCC                         AHGA  \\\n",
       "0  (42.0, 54.0]   Private      45       2   Bachelors degree(BA AB BS)   \n",
       "\n",
       "                            AMARITL                        AMJIND  \\\n",
       "0   Married-civilian spouse present   Manufacturing-durable goods   \n",
       "\n",
       "                            AMJOCC   ASEX                    AWKSTAT  \\\n",
       "0   Executive admin and managerial   Male   Children or Armed Forces   \n",
       "\n",
       "               FILESTAT        HHDFMX        HHDREL  \\\n",
       "0   Joint both under 65   Householder   Householder   \n",
       "\n",
       "                             MIGSAME  NOEMP  YEAR  \n",
       "0   Not in universe under 1 year old      6    95  "
      ]
     },
     "execution_count": 18,
     "metadata": {},
     "output_type": "execute_result"
    }
   ],
   "source": [
    "data_more_than_50.mode()"
   ]
  },
  {
   "cell_type": "code",
   "execution_count": 19,
   "metadata": {},
   "outputs": [],
   "source": [
    "def column_modifications(df):\n",
    "    column_modes = df.mode()\n",
    "    data_cols = df.columns\n",
    "    # print(df.isna().sum())\n",
    "    for col in data_cols:\n",
    "        missing_vals = df[col].isna().sum()\n",
    "        if(missing_vals > 0):\n",
    "            df[col] = df[col].fillna(column_modes[col][0])\n",
    "    # print(df.isna().sum())\n",
    "    one_hot_encoded = pd.get_dummies(df, columns=list(df.columns))\n",
    "    df = one_hot_encoded\n",
    "\n",
    "    return df        \n"
   ]
  },
  {
   "cell_type": "code",
   "execution_count": 20,
   "metadata": {},
   "outputs": [
    {
     "name": "stdout",
     "output_type": "stream",
     "text": [
      "(199523, 307)\n"
     ]
    }
   ],
   "source": [
    "data = column_modifications(data)\n",
    "print(data.shape)\n",
    "data_more_than_50 = column_modifications(data_more_than_50)"
   ]
  },
  {
   "cell_type": "code",
   "execution_count": 21,
   "metadata": {},
   "outputs": [
    {
     "data": {
      "text/html": [
       "<div>\n",
       "<style scoped>\n",
       "    .dataframe tbody tr th:only-of-type {\n",
       "        vertical-align: middle;\n",
       "    }\n",
       "\n",
       "    .dataframe tbody tr th {\n",
       "        vertical-align: top;\n",
       "    }\n",
       "\n",
       "    .dataframe thead th {\n",
       "        text-align: right;\n",
       "    }\n",
       "</style>\n",
       "<table border=\"1\" class=\"dataframe\">\n",
       "  <thead>\n",
       "    <tr style=\"text-align: right;\">\n",
       "      <th></th>\n",
       "      <th>AAGE_(-0.09, 15.0]</th>\n",
       "      <th>AAGE_(15.0, 30.0]</th>\n",
       "      <th>AAGE_(30.0, 45.0]</th>\n",
       "      <th>AAGE_(45.0, 60.0]</th>\n",
       "      <th>AAGE_(60.0, 75.0]</th>\n",
       "      <th>AAGE_(75.0, 90.0]</th>\n",
       "      <th>ACLSWKR_ Federal government</th>\n",
       "      <th>ACLSWKR_ Local government</th>\n",
       "      <th>ACLSWKR_ Never worked</th>\n",
       "      <th>ACLSWKR_ Not in universe</th>\n",
       "      <th>...</th>\n",
       "      <th>VETYN_1</th>\n",
       "      <th>VETYN_2</th>\n",
       "      <th>WKSWORK_(-0.052, 8.667]</th>\n",
       "      <th>WKSWORK_(8.667, 17.333]</th>\n",
       "      <th>WKSWORK_(17.333, 26.0]</th>\n",
       "      <th>WKSWORK_(26.0, 34.667]</th>\n",
       "      <th>WKSWORK_(34.667, 43.333]</th>\n",
       "      <th>WKSWORK_(43.333, 52.0]</th>\n",
       "      <th>YEAR_94</th>\n",
       "      <th>YEAR_95</th>\n",
       "    </tr>\n",
       "  </thead>\n",
       "  <tbody>\n",
       "    <tr>\n",
       "      <th>0</th>\n",
       "      <td>0</td>\n",
       "      <td>0</td>\n",
       "      <td>0</td>\n",
       "      <td>0</td>\n",
       "      <td>1</td>\n",
       "      <td>0</td>\n",
       "      <td>0</td>\n",
       "      <td>0</td>\n",
       "      <td>0</td>\n",
       "      <td>1</td>\n",
       "      <td>...</td>\n",
       "      <td>0</td>\n",
       "      <td>1</td>\n",
       "      <td>1</td>\n",
       "      <td>0</td>\n",
       "      <td>0</td>\n",
       "      <td>0</td>\n",
       "      <td>0</td>\n",
       "      <td>0</td>\n",
       "      <td>0</td>\n",
       "      <td>1</td>\n",
       "    </tr>\n",
       "    <tr>\n",
       "      <th>1</th>\n",
       "      <td>0</td>\n",
       "      <td>0</td>\n",
       "      <td>0</td>\n",
       "      <td>1</td>\n",
       "      <td>0</td>\n",
       "      <td>0</td>\n",
       "      <td>0</td>\n",
       "      <td>0</td>\n",
       "      <td>0</td>\n",
       "      <td>0</td>\n",
       "      <td>...</td>\n",
       "      <td>0</td>\n",
       "      <td>1</td>\n",
       "      <td>0</td>\n",
       "      <td>0</td>\n",
       "      <td>0</td>\n",
       "      <td>0</td>\n",
       "      <td>0</td>\n",
       "      <td>1</td>\n",
       "      <td>1</td>\n",
       "      <td>0</td>\n",
       "    </tr>\n",
       "    <tr>\n",
       "      <th>2</th>\n",
       "      <td>0</td>\n",
       "      <td>1</td>\n",
       "      <td>0</td>\n",
       "      <td>0</td>\n",
       "      <td>0</td>\n",
       "      <td>0</td>\n",
       "      <td>0</td>\n",
       "      <td>0</td>\n",
       "      <td>0</td>\n",
       "      <td>1</td>\n",
       "      <td>...</td>\n",
       "      <td>0</td>\n",
       "      <td>1</td>\n",
       "      <td>1</td>\n",
       "      <td>0</td>\n",
       "      <td>0</td>\n",
       "      <td>0</td>\n",
       "      <td>0</td>\n",
       "      <td>0</td>\n",
       "      <td>0</td>\n",
       "      <td>1</td>\n",
       "    </tr>\n",
       "    <tr>\n",
       "      <th>3</th>\n",
       "      <td>1</td>\n",
       "      <td>0</td>\n",
       "      <td>0</td>\n",
       "      <td>0</td>\n",
       "      <td>0</td>\n",
       "      <td>0</td>\n",
       "      <td>0</td>\n",
       "      <td>0</td>\n",
       "      <td>0</td>\n",
       "      <td>1</td>\n",
       "      <td>...</td>\n",
       "      <td>0</td>\n",
       "      <td>0</td>\n",
       "      <td>1</td>\n",
       "      <td>0</td>\n",
       "      <td>0</td>\n",
       "      <td>0</td>\n",
       "      <td>0</td>\n",
       "      <td>0</td>\n",
       "      <td>1</td>\n",
       "      <td>0</td>\n",
       "    </tr>\n",
       "    <tr>\n",
       "      <th>4</th>\n",
       "      <td>1</td>\n",
       "      <td>0</td>\n",
       "      <td>0</td>\n",
       "      <td>0</td>\n",
       "      <td>0</td>\n",
       "      <td>0</td>\n",
       "      <td>0</td>\n",
       "      <td>0</td>\n",
       "      <td>0</td>\n",
       "      <td>1</td>\n",
       "      <td>...</td>\n",
       "      <td>0</td>\n",
       "      <td>0</td>\n",
       "      <td>1</td>\n",
       "      <td>0</td>\n",
       "      <td>0</td>\n",
       "      <td>0</td>\n",
       "      <td>0</td>\n",
       "      <td>0</td>\n",
       "      <td>1</td>\n",
       "      <td>0</td>\n",
       "    </tr>\n",
       "    <tr>\n",
       "      <th>...</th>\n",
       "      <td>...</td>\n",
       "      <td>...</td>\n",
       "      <td>...</td>\n",
       "      <td>...</td>\n",
       "      <td>...</td>\n",
       "      <td>...</td>\n",
       "      <td>...</td>\n",
       "      <td>...</td>\n",
       "      <td>...</td>\n",
       "      <td>...</td>\n",
       "      <td>...</td>\n",
       "      <td>...</td>\n",
       "      <td>...</td>\n",
       "      <td>...</td>\n",
       "      <td>...</td>\n",
       "      <td>...</td>\n",
       "      <td>...</td>\n",
       "      <td>...</td>\n",
       "      <td>...</td>\n",
       "      <td>...</td>\n",
       "      <td>...</td>\n",
       "    </tr>\n",
       "    <tr>\n",
       "      <th>199518</th>\n",
       "      <td>0</td>\n",
       "      <td>0</td>\n",
       "      <td>0</td>\n",
       "      <td>0</td>\n",
       "      <td>0</td>\n",
       "      <td>1</td>\n",
       "      <td>0</td>\n",
       "      <td>0</td>\n",
       "      <td>0</td>\n",
       "      <td>1</td>\n",
       "      <td>...</td>\n",
       "      <td>0</td>\n",
       "      <td>1</td>\n",
       "      <td>1</td>\n",
       "      <td>0</td>\n",
       "      <td>0</td>\n",
       "      <td>0</td>\n",
       "      <td>0</td>\n",
       "      <td>0</td>\n",
       "      <td>0</td>\n",
       "      <td>1</td>\n",
       "    </tr>\n",
       "    <tr>\n",
       "      <th>199519</th>\n",
       "      <td>0</td>\n",
       "      <td>0</td>\n",
       "      <td>0</td>\n",
       "      <td>0</td>\n",
       "      <td>1</td>\n",
       "      <td>0</td>\n",
       "      <td>0</td>\n",
       "      <td>0</td>\n",
       "      <td>0</td>\n",
       "      <td>0</td>\n",
       "      <td>...</td>\n",
       "      <td>0</td>\n",
       "      <td>1</td>\n",
       "      <td>0</td>\n",
       "      <td>0</td>\n",
       "      <td>0</td>\n",
       "      <td>0</td>\n",
       "      <td>0</td>\n",
       "      <td>1</td>\n",
       "      <td>1</td>\n",
       "      <td>0</td>\n",
       "    </tr>\n",
       "    <tr>\n",
       "      <th>199520</th>\n",
       "      <td>0</td>\n",
       "      <td>0</td>\n",
       "      <td>0</td>\n",
       "      <td>1</td>\n",
       "      <td>0</td>\n",
       "      <td>0</td>\n",
       "      <td>0</td>\n",
       "      <td>0</td>\n",
       "      <td>0</td>\n",
       "      <td>1</td>\n",
       "      <td>...</td>\n",
       "      <td>0</td>\n",
       "      <td>1</td>\n",
       "      <td>0</td>\n",
       "      <td>0</td>\n",
       "      <td>0</td>\n",
       "      <td>0</td>\n",
       "      <td>0</td>\n",
       "      <td>1</td>\n",
       "      <td>0</td>\n",
       "      <td>1</td>\n",
       "    </tr>\n",
       "    <tr>\n",
       "      <th>199521</th>\n",
       "      <td>0</td>\n",
       "      <td>1</td>\n",
       "      <td>0</td>\n",
       "      <td>0</td>\n",
       "      <td>0</td>\n",
       "      <td>0</td>\n",
       "      <td>0</td>\n",
       "      <td>0</td>\n",
       "      <td>0</td>\n",
       "      <td>1</td>\n",
       "      <td>...</td>\n",
       "      <td>0</td>\n",
       "      <td>1</td>\n",
       "      <td>1</td>\n",
       "      <td>0</td>\n",
       "      <td>0</td>\n",
       "      <td>0</td>\n",
       "      <td>0</td>\n",
       "      <td>0</td>\n",
       "      <td>0</td>\n",
       "      <td>1</td>\n",
       "    </tr>\n",
       "    <tr>\n",
       "      <th>199522</th>\n",
       "      <td>0</td>\n",
       "      <td>0</td>\n",
       "      <td>1</td>\n",
       "      <td>0</td>\n",
       "      <td>0</td>\n",
       "      <td>0</td>\n",
       "      <td>0</td>\n",
       "      <td>0</td>\n",
       "      <td>0</td>\n",
       "      <td>0</td>\n",
       "      <td>...</td>\n",
       "      <td>0</td>\n",
       "      <td>1</td>\n",
       "      <td>0</td>\n",
       "      <td>0</td>\n",
       "      <td>0</td>\n",
       "      <td>0</td>\n",
       "      <td>0</td>\n",
       "      <td>1</td>\n",
       "      <td>1</td>\n",
       "      <td>0</td>\n",
       "    </tr>\n",
       "  </tbody>\n",
       "</table>\n",
       "<p>199523 rows × 307 columns</p>\n",
       "</div>"
      ],
      "text/plain": [
       "        AAGE_(-0.09, 15.0]  AAGE_(15.0, 30.0]  AAGE_(30.0, 45.0]  \\\n",
       "0                        0                  0                  0   \n",
       "1                        0                  0                  0   \n",
       "2                        0                  1                  0   \n",
       "3                        1                  0                  0   \n",
       "4                        1                  0                  0   \n",
       "...                    ...                ...                ...   \n",
       "199518                   0                  0                  0   \n",
       "199519                   0                  0                  0   \n",
       "199520                   0                  0                  0   \n",
       "199521                   0                  1                  0   \n",
       "199522                   0                  0                  1   \n",
       "\n",
       "        AAGE_(45.0, 60.0]  AAGE_(60.0, 75.0]  AAGE_(75.0, 90.0]  \\\n",
       "0                       0                  1                  0   \n",
       "1                       1                  0                  0   \n",
       "2                       0                  0                  0   \n",
       "3                       0                  0                  0   \n",
       "4                       0                  0                  0   \n",
       "...                   ...                ...                ...   \n",
       "199518                  0                  0                  1   \n",
       "199519                  0                  1                  0   \n",
       "199520                  1                  0                  0   \n",
       "199521                  0                  0                  0   \n",
       "199522                  0                  0                  0   \n",
       "\n",
       "        ACLSWKR_ Federal government  ACLSWKR_ Local government  \\\n",
       "0                                 0                          0   \n",
       "1                                 0                          0   \n",
       "2                                 0                          0   \n",
       "3                                 0                          0   \n",
       "4                                 0                          0   \n",
       "...                             ...                        ...   \n",
       "199518                            0                          0   \n",
       "199519                            0                          0   \n",
       "199520                            0                          0   \n",
       "199521                            0                          0   \n",
       "199522                            0                          0   \n",
       "\n",
       "        ACLSWKR_ Never worked  ACLSWKR_ Not in universe  ...  VETYN_1  \\\n",
       "0                           0                         1  ...        0   \n",
       "1                           0                         0  ...        0   \n",
       "2                           0                         1  ...        0   \n",
       "3                           0                         1  ...        0   \n",
       "4                           0                         1  ...        0   \n",
       "...                       ...                       ...  ...      ...   \n",
       "199518                      0                         1  ...        0   \n",
       "199519                      0                         0  ...        0   \n",
       "199520                      0                         1  ...        0   \n",
       "199521                      0                         1  ...        0   \n",
       "199522                      0                         0  ...        0   \n",
       "\n",
       "        VETYN_2  WKSWORK_(-0.052, 8.667]  WKSWORK_(8.667, 17.333]  \\\n",
       "0             1                        1                        0   \n",
       "1             1                        0                        0   \n",
       "2             1                        1                        0   \n",
       "3             0                        1                        0   \n",
       "4             0                        1                        0   \n",
       "...         ...                      ...                      ...   \n",
       "199518        1                        1                        0   \n",
       "199519        1                        0                        0   \n",
       "199520        1                        0                        0   \n",
       "199521        1                        1                        0   \n",
       "199522        1                        0                        0   \n",
       "\n",
       "        WKSWORK_(17.333, 26.0]  WKSWORK_(26.0, 34.667]  \\\n",
       "0                            0                       0   \n",
       "1                            0                       0   \n",
       "2                            0                       0   \n",
       "3                            0                       0   \n",
       "4                            0                       0   \n",
       "...                        ...                     ...   \n",
       "199518                       0                       0   \n",
       "199519                       0                       0   \n",
       "199520                       0                       0   \n",
       "199521                       0                       0   \n",
       "199522                       0                       0   \n",
       "\n",
       "        WKSWORK_(34.667, 43.333]  WKSWORK_(43.333, 52.0]  YEAR_94  YEAR_95  \n",
       "0                              0                       0        0        1  \n",
       "1                              0                       1        1        0  \n",
       "2                              0                       0        0        1  \n",
       "3                              0                       0        1        0  \n",
       "4                              0                       0        1        0  \n",
       "...                          ...                     ...      ...      ...  \n",
       "199518                         0                       0        0        1  \n",
       "199519                         0                       1        1        0  \n",
       "199520                         0                       1        0        1  \n",
       "199521                         0                       0        0        1  \n",
       "199522                         0                       1        1        0  \n",
       "\n",
       "[199523 rows x 307 columns]"
      ]
     },
     "execution_count": 21,
     "metadata": {},
     "output_type": "execute_result"
    }
   ],
   "source": [
    "data"
   ]
  },
  {
   "cell_type": "code",
   "execution_count": 22,
   "metadata": {},
   "outputs": [
    {
     "data": {
      "text/html": [
       "<div>\n",
       "<style scoped>\n",
       "    .dataframe tbody tr th:only-of-type {\n",
       "        vertical-align: middle;\n",
       "    }\n",
       "\n",
       "    .dataframe tbody tr th {\n",
       "        vertical-align: top;\n",
       "    }\n",
       "\n",
       "    .dataframe thead th {\n",
       "        text-align: right;\n",
       "    }\n",
       "</style>\n",
       "<table border=\"1\" class=\"dataframe\">\n",
       "  <thead>\n",
       "    <tr style=\"text-align: right;\">\n",
       "      <th></th>\n",
       "      <th>AAGE_(17.928, 30.0]</th>\n",
       "      <th>AAGE_(30.0, 42.0]</th>\n",
       "      <th>AAGE_(42.0, 54.0]</th>\n",
       "      <th>AAGE_(54.0, 66.0]</th>\n",
       "      <th>AAGE_(66.0, 78.0]</th>\n",
       "      <th>AAGE_(78.0, 90.0]</th>\n",
       "      <th>ACLSWKR_ Federal government</th>\n",
       "      <th>ACLSWKR_ Local government</th>\n",
       "      <th>ACLSWKR_ Never worked</th>\n",
       "      <th>ACLSWKR_ Not in universe</th>\n",
       "      <th>...</th>\n",
       "      <th>MIGSAME_ Yes</th>\n",
       "      <th>NOEMP_0</th>\n",
       "      <th>NOEMP_1</th>\n",
       "      <th>NOEMP_2</th>\n",
       "      <th>NOEMP_3</th>\n",
       "      <th>NOEMP_4</th>\n",
       "      <th>NOEMP_5</th>\n",
       "      <th>NOEMP_6</th>\n",
       "      <th>YEAR_94</th>\n",
       "      <th>YEAR_95</th>\n",
       "    </tr>\n",
       "  </thead>\n",
       "  <tbody>\n",
       "    <tr>\n",
       "      <th>0</th>\n",
       "      <td>0</td>\n",
       "      <td>0</td>\n",
       "      <td>0</td>\n",
       "      <td>1</td>\n",
       "      <td>0</td>\n",
       "      <td>0</td>\n",
       "      <td>0</td>\n",
       "      <td>0</td>\n",
       "      <td>0</td>\n",
       "      <td>0</td>\n",
       "      <td>...</td>\n",
       "      <td>0</td>\n",
       "      <td>0</td>\n",
       "      <td>0</td>\n",
       "      <td>1</td>\n",
       "      <td>0</td>\n",
       "      <td>0</td>\n",
       "      <td>0</td>\n",
       "      <td>0</td>\n",
       "      <td>0</td>\n",
       "      <td>1</td>\n",
       "    </tr>\n",
       "    <tr>\n",
       "      <th>1</th>\n",
       "      <td>0</td>\n",
       "      <td>0</td>\n",
       "      <td>1</td>\n",
       "      <td>0</td>\n",
       "      <td>0</td>\n",
       "      <td>0</td>\n",
       "      <td>0</td>\n",
       "      <td>0</td>\n",
       "      <td>0</td>\n",
       "      <td>0</td>\n",
       "      <td>...</td>\n",
       "      <td>1</td>\n",
       "      <td>0</td>\n",
       "      <td>0</td>\n",
       "      <td>0</td>\n",
       "      <td>0</td>\n",
       "      <td>1</td>\n",
       "      <td>0</td>\n",
       "      <td>0</td>\n",
       "      <td>1</td>\n",
       "      <td>0</td>\n",
       "    </tr>\n",
       "    <tr>\n",
       "      <th>2</th>\n",
       "      <td>0</td>\n",
       "      <td>0</td>\n",
       "      <td>1</td>\n",
       "      <td>0</td>\n",
       "      <td>0</td>\n",
       "      <td>0</td>\n",
       "      <td>0</td>\n",
       "      <td>0</td>\n",
       "      <td>0</td>\n",
       "      <td>0</td>\n",
       "      <td>...</td>\n",
       "      <td>1</td>\n",
       "      <td>0</td>\n",
       "      <td>0</td>\n",
       "      <td>0</td>\n",
       "      <td>0</td>\n",
       "      <td>0</td>\n",
       "      <td>0</td>\n",
       "      <td>1</td>\n",
       "      <td>1</td>\n",
       "      <td>0</td>\n",
       "    </tr>\n",
       "    <tr>\n",
       "      <th>3</th>\n",
       "      <td>1</td>\n",
       "      <td>0</td>\n",
       "      <td>0</td>\n",
       "      <td>0</td>\n",
       "      <td>0</td>\n",
       "      <td>0</td>\n",
       "      <td>0</td>\n",
       "      <td>0</td>\n",
       "      <td>0</td>\n",
       "      <td>0</td>\n",
       "      <td>...</td>\n",
       "      <td>0</td>\n",
       "      <td>0</td>\n",
       "      <td>0</td>\n",
       "      <td>1</td>\n",
       "      <td>0</td>\n",
       "      <td>0</td>\n",
       "      <td>0</td>\n",
       "      <td>0</td>\n",
       "      <td>0</td>\n",
       "      <td>1</td>\n",
       "    </tr>\n",
       "    <tr>\n",
       "      <th>4</th>\n",
       "      <td>1</td>\n",
       "      <td>0</td>\n",
       "      <td>0</td>\n",
       "      <td>0</td>\n",
       "      <td>0</td>\n",
       "      <td>0</td>\n",
       "      <td>0</td>\n",
       "      <td>0</td>\n",
       "      <td>0</td>\n",
       "      <td>0</td>\n",
       "      <td>...</td>\n",
       "      <td>0</td>\n",
       "      <td>0</td>\n",
       "      <td>0</td>\n",
       "      <td>0</td>\n",
       "      <td>0</td>\n",
       "      <td>0</td>\n",
       "      <td>0</td>\n",
       "      <td>1</td>\n",
       "      <td>0</td>\n",
       "      <td>1</td>\n",
       "    </tr>\n",
       "    <tr>\n",
       "      <th>...</th>\n",
       "      <td>...</td>\n",
       "      <td>...</td>\n",
       "      <td>...</td>\n",
       "      <td>...</td>\n",
       "      <td>...</td>\n",
       "      <td>...</td>\n",
       "      <td>...</td>\n",
       "      <td>...</td>\n",
       "      <td>...</td>\n",
       "      <td>...</td>\n",
       "      <td>...</td>\n",
       "      <td>...</td>\n",
       "      <td>...</td>\n",
       "      <td>...</td>\n",
       "      <td>...</td>\n",
       "      <td>...</td>\n",
       "      <td>...</td>\n",
       "      <td>...</td>\n",
       "      <td>...</td>\n",
       "      <td>...</td>\n",
       "      <td>...</td>\n",
       "    </tr>\n",
       "    <tr>\n",
       "      <th>3575</th>\n",
       "      <td>0</td>\n",
       "      <td>0</td>\n",
       "      <td>0</td>\n",
       "      <td>1</td>\n",
       "      <td>0</td>\n",
       "      <td>0</td>\n",
       "      <td>0</td>\n",
       "      <td>0</td>\n",
       "      <td>0</td>\n",
       "      <td>0</td>\n",
       "      <td>...</td>\n",
       "      <td>1</td>\n",
       "      <td>0</td>\n",
       "      <td>0</td>\n",
       "      <td>0</td>\n",
       "      <td>0</td>\n",
       "      <td>0</td>\n",
       "      <td>0</td>\n",
       "      <td>1</td>\n",
       "      <td>1</td>\n",
       "      <td>0</td>\n",
       "    </tr>\n",
       "    <tr>\n",
       "      <th>3576</th>\n",
       "      <td>0</td>\n",
       "      <td>0</td>\n",
       "      <td>0</td>\n",
       "      <td>1</td>\n",
       "      <td>0</td>\n",
       "      <td>0</td>\n",
       "      <td>0</td>\n",
       "      <td>0</td>\n",
       "      <td>0</td>\n",
       "      <td>0</td>\n",
       "      <td>...</td>\n",
       "      <td>1</td>\n",
       "      <td>0</td>\n",
       "      <td>1</td>\n",
       "      <td>0</td>\n",
       "      <td>0</td>\n",
       "      <td>0</td>\n",
       "      <td>0</td>\n",
       "      <td>0</td>\n",
       "      <td>1</td>\n",
       "      <td>0</td>\n",
       "    </tr>\n",
       "    <tr>\n",
       "      <th>3577</th>\n",
       "      <td>0</td>\n",
       "      <td>1</td>\n",
       "      <td>0</td>\n",
       "      <td>0</td>\n",
       "      <td>0</td>\n",
       "      <td>0</td>\n",
       "      <td>0</td>\n",
       "      <td>0</td>\n",
       "      <td>0</td>\n",
       "      <td>0</td>\n",
       "      <td>...</td>\n",
       "      <td>0</td>\n",
       "      <td>0</td>\n",
       "      <td>0</td>\n",
       "      <td>0</td>\n",
       "      <td>0</td>\n",
       "      <td>0</td>\n",
       "      <td>0</td>\n",
       "      <td>1</td>\n",
       "      <td>0</td>\n",
       "      <td>1</td>\n",
       "    </tr>\n",
       "    <tr>\n",
       "      <th>3578</th>\n",
       "      <td>0</td>\n",
       "      <td>0</td>\n",
       "      <td>1</td>\n",
       "      <td>0</td>\n",
       "      <td>0</td>\n",
       "      <td>0</td>\n",
       "      <td>0</td>\n",
       "      <td>0</td>\n",
       "      <td>0</td>\n",
       "      <td>0</td>\n",
       "      <td>...</td>\n",
       "      <td>1</td>\n",
       "      <td>0</td>\n",
       "      <td>0</td>\n",
       "      <td>1</td>\n",
       "      <td>0</td>\n",
       "      <td>0</td>\n",
       "      <td>0</td>\n",
       "      <td>0</td>\n",
       "      <td>1</td>\n",
       "      <td>0</td>\n",
       "    </tr>\n",
       "    <tr>\n",
       "      <th>3579</th>\n",
       "      <td>0</td>\n",
       "      <td>0</td>\n",
       "      <td>0</td>\n",
       "      <td>0</td>\n",
       "      <td>1</td>\n",
       "      <td>0</td>\n",
       "      <td>0</td>\n",
       "      <td>0</td>\n",
       "      <td>0</td>\n",
       "      <td>1</td>\n",
       "      <td>...</td>\n",
       "      <td>1</td>\n",
       "      <td>1</td>\n",
       "      <td>0</td>\n",
       "      <td>0</td>\n",
       "      <td>0</td>\n",
       "      <td>0</td>\n",
       "      <td>0</td>\n",
       "      <td>0</td>\n",
       "      <td>1</td>\n",
       "      <td>0</td>\n",
       "    </tr>\n",
       "  </tbody>\n",
       "</table>\n",
       "<p>3580 rows × 217 columns</p>\n",
       "</div>"
      ],
      "text/plain": [
       "      AAGE_(17.928, 30.0]  AAGE_(30.0, 42.0]  AAGE_(42.0, 54.0]  \\\n",
       "0                       0                  0                  0   \n",
       "1                       0                  0                  1   \n",
       "2                       0                  0                  1   \n",
       "3                       1                  0                  0   \n",
       "4                       1                  0                  0   \n",
       "...                   ...                ...                ...   \n",
       "3575                    0                  0                  0   \n",
       "3576                    0                  0                  0   \n",
       "3577                    0                  1                  0   \n",
       "3578                    0                  0                  1   \n",
       "3579                    0                  0                  0   \n",
       "\n",
       "      AAGE_(54.0, 66.0]  AAGE_(66.0, 78.0]  AAGE_(78.0, 90.0]  \\\n",
       "0                     1                  0                  0   \n",
       "1                     0                  0                  0   \n",
       "2                     0                  0                  0   \n",
       "3                     0                  0                  0   \n",
       "4                     0                  0                  0   \n",
       "...                 ...                ...                ...   \n",
       "3575                  1                  0                  0   \n",
       "3576                  1                  0                  0   \n",
       "3577                  0                  0                  0   \n",
       "3578                  0                  0                  0   \n",
       "3579                  0                  1                  0   \n",
       "\n",
       "      ACLSWKR_ Federal government  ACLSWKR_ Local government  \\\n",
       "0                               0                          0   \n",
       "1                               0                          0   \n",
       "2                               0                          0   \n",
       "3                               0                          0   \n",
       "4                               0                          0   \n",
       "...                           ...                        ...   \n",
       "3575                            0                          0   \n",
       "3576                            0                          0   \n",
       "3577                            0                          0   \n",
       "3578                            0                          0   \n",
       "3579                            0                          0   \n",
       "\n",
       "      ACLSWKR_ Never worked  ACLSWKR_ Not in universe  ...  MIGSAME_ Yes  \\\n",
       "0                         0                         0  ...             0   \n",
       "1                         0                         0  ...             1   \n",
       "2                         0                         0  ...             1   \n",
       "3                         0                         0  ...             0   \n",
       "4                         0                         0  ...             0   \n",
       "...                     ...                       ...  ...           ...   \n",
       "3575                      0                         0  ...             1   \n",
       "3576                      0                         0  ...             1   \n",
       "3577                      0                         0  ...             0   \n",
       "3578                      0                         0  ...             1   \n",
       "3579                      0                         1  ...             1   \n",
       "\n",
       "      NOEMP_0  NOEMP_1  NOEMP_2  NOEMP_3  NOEMP_4  NOEMP_5  NOEMP_6  YEAR_94  \\\n",
       "0           0        0        1        0        0        0        0        0   \n",
       "1           0        0        0        0        1        0        0        1   \n",
       "2           0        0        0        0        0        0        1        1   \n",
       "3           0        0        1        0        0        0        0        0   \n",
       "4           0        0        0        0        0        0        1        0   \n",
       "...       ...      ...      ...      ...      ...      ...      ...      ...   \n",
       "3575        0        0        0        0        0        0        1        1   \n",
       "3576        0        1        0        0        0        0        0        1   \n",
       "3577        0        0        0        0        0        0        1        0   \n",
       "3578        0        0        1        0        0        0        0        1   \n",
       "3579        1        0        0        0        0        0        0        1   \n",
       "\n",
       "      YEAR_95  \n",
       "0           1  \n",
       "1           0  \n",
       "2           0  \n",
       "3           1  \n",
       "4           1  \n",
       "...       ...  \n",
       "3575        0  \n",
       "3576        0  \n",
       "3577        1  \n",
       "3578        0  \n",
       "3579        0  \n",
       "\n",
       "[3580 rows x 217 columns]"
      ]
     },
     "execution_count": 22,
     "metadata": {},
     "output_type": "execute_result"
    }
   ],
   "source": [
    "data_more_than_50"
   ]
  },
  {
   "cell_type": "markdown",
   "metadata": {},
   "source": [
    "PCA"
   ]
  },
  {
   "cell_type": "code",
   "execution_count": 23,
   "metadata": {},
   "outputs": [],
   "source": [
    "def performPCA(df, anum):\n",
    "    pca = PCA()\n",
    "    pca.fit(np.array(df))\n",
    "    exp_var_rat = pca.explained_variance_ratio_\n",
    "    cum_exp_var_perc = np.cumsum(exp_var_rat)\n",
    "    plt.plot(cum_exp_var_perc)\n",
    "    plt.xlabel('Cumulative explained variance')\n",
    "    plt.ylabel('Number of components')\n",
    "    plt.title(f'PCA Analysis - {anum}')\n",
    "    plt.savefig(f'../Plots/Dimesionality_Reduction/pca_plot_{anum}.png', facecolor='white', bbox_inches='tight')\n",
    "    plt.show()\n",
    "\n",
    "    return pca, cum_exp_var_perc\n"
   ]
  },
  {
   "cell_type": "code",
   "execution_count": 24,
   "metadata": {},
   "outputs": [
    {
     "data": {
      "image/png": "[encoded data removed]",
      "text/plain": [
       "<Figure size 432x288 with 1 Axes>"
      ]
     },
     "metadata": {
      "needs_background": "light"
     },
     "output_type": "display_data"
    },
    {
     "data": {
      "image/png": "[encoded data removed]",
      "text/plain": [
       "<Figure size 432x288 with 1 Axes>"
      ]
     },
     "metadata": {
      "needs_background": "light"
     },
     "output_type": "display_data"
    }
   ],
   "source": [
    "pca_1, cum_var_1 = performPCA(data, 1)\n",
    "pca_2, cum_var_2 = performPCA(data_more_than_50, 2)"
   ]
  },
  {
   "cell_type": "code",
   "execution_count": 25,
   "metadata": {},
   "outputs": [],
   "source": [
    "# print(cum_var_1[30])"
   ]
  },
  {
   "cell_type": "code",
   "execution_count": 26,
   "metadata": {},
   "outputs": [],
   "source": [
    "# print(len(cum_var_2))\n",
    "# for i in range(len(cum_var_2)):\n",
    "#     # print(cum_var_2[i])\n",
    "#     if(cum_var_2[i] >= 0.85):\n",
    "#         print(i)\n",
    "#         break\n",
    "# print(cum_var_2[32])"
   ]
  },
  {
   "cell_type": "code",
   "execution_count": 27,
   "metadata": {},
   "outputs": [],
   "source": [
    "pca_final_1 = PCA(n_components=30)\n",
    "dim_reduced_data_1 = pca_final_1.fit_transform(np.array(data))\n",
    "\n",
    "pca_final_2 = PCA(n_components=32)\n",
    "dim_reduced_data_2 = pca_final_2.fit_transform(np.array(data_more_than_50))"
   ]
  },
  {
   "cell_type": "code",
   "execution_count": 28,
   "metadata": {},
   "outputs": [
    {
     "name": "stdout",
     "output_type": "stream",
     "text": [
      " 1 - (199523, 30)\n",
      " 2 - (3580, 32)\n"
     ]
    }
   ],
   "source": [
    "print(f' 1 - {dim_reduced_data_1.shape}')\n",
    "print(f' 2 - {dim_reduced_data_2.shape}')"
   ]
  },
  {
   "cell_type": "markdown",
   "metadata": {},
   "source": [
    "CLUSTERING"
   ]
  },
  {
   "cell_type": "code",
   "execution_count": 29,
   "metadata": {},
   "outputs": [
    {
     "name": "stdout",
     "output_type": "stream",
     "text": [
      "199523 3580\n"
     ]
    }
   ],
   "source": [
    "num_samples_1 = data.shape[0]\n",
    "num_samples_2 = data_more_than_50.shape[0]\n",
    "print(num_samples_1, num_samples_2)"
   ]
  },
  {
   "cell_type": "markdown",
   "metadata": {},
   "source": [
    "Normal population data"
   ]
  },
  {
   "cell_type": "code",
   "execution_count": 30,
   "metadata": {},
   "outputs": [
    {
     "data": {
      "application/vnd.jupyter.widget-view+json": {
       "model_id": "9612f2d33efe492e9eb7acf1b7b933a8",
       "version_major": 2,
       "version_minor": 0
      },
      "text/plain": [
       "  0%|          | 0/15 [00:00<?, ?it/s]"
      ]
     },
     "metadata": {},
     "output_type": "display_data"
    },
    {
     "name": "stdout",
     "output_type": "stream",
     "text": [
      "-------- K VALUE = 10 --------\n",
      "average within cluster distance (byK) = 144199.0557735769\n",
      "average within cluster distance (byN) = 7.227189635960611\n",
      "-------- K VALUE = 11 --------\n"
     ]
    },
    {
     "name": "stderr",
     "output_type": "stream",
     "text": [
      "C:\\Users\\SAMYAK~1\\AppData\\Local\\Temp/ipykernel_28976/4042099762.py:27: VisibleDeprecationWarning: Creating an ndarray from ragged nested sequences (which is a list-or-tuple of lists-or-tuples-or ndarrays with different lengths or shapes) is deprecated. If you meant to do this, you must specify 'dtype=object' when creating the ndarray.\n",
      "  np.save(f'../model_info/part_1/clusters/clusters_{k_value}.npy', np.array(clusters_1))\n"
     ]
    },
    {
     "name": "stdout",
     "output_type": "stream",
     "text": [
      "average within cluster distance (byK) = 155730.0591245555\n",
      "average within cluster distance (byN) = 8.585629979351305\n",
      "-------- K VALUE = 12 --------\n",
      "average within cluster distance (byK) = 116697.9745221997\n",
      "average within cluster distance (byN) = 7.018617874963771\n",
      "-------- K VALUE = 13 --------\n",
      "average within cluster distance (byK) = 110801.63817430915\n",
      "average within cluster distance (byN) = 7.2193245704305715\n",
      "-------- K VALUE = 14 --------\n",
      "average within cluster distance (byK) = 102523.81753650183\n",
      "average within cluster distance (byN) = 7.193824498985208\n",
      "-------- K VALUE = 15 --------\n",
      "average within cluster distance (byK) = 93413.5766375764\n",
      "average within cluster distance (byN) = 7.022767548421215\n",
      "-------- K VALUE = 16 --------\n",
      "average within cluster distance (byK) = 81770.00573731588\n",
      "average within cluster distance (byN) = 6.557239475133463\n",
      "-------- K VALUE = 17 --------\n",
      "average within cluster distance (byK) = 72930.74626004105\n",
      "average within cluster distance (byN) = 6.213933663891872\n",
      "-------- K VALUE = 18 --------\n",
      "average within cluster distance (byK) = 74823.17421692978\n",
      "average within cluster distance (byN) = 6.750184870439679\n",
      "-------- K VALUE = 19 --------\n",
      "average within cluster distance (byK) = 65816.23113179175\n",
      "average within cluster distance (byN) = 6.267489920981758\n",
      "-------- K VALUE = 20 --------\n",
      "average within cluster distance (byK) = 64191.51910716468\n",
      "average within cluster distance (byN) = 6.4344981888969865\n",
      "-------- K VALUE = 21 --------\n",
      "average within cluster distance (byK) = 62749.08274628086\n",
      "average within cluster distance (byN) = 6.604405194748966\n",
      "-------- K VALUE = 22 --------\n",
      "average within cluster distance (byK) = 60666.759895751726\n",
      "average within cluster distance (byN) = 6.689297563220972\n",
      "-------- K VALUE = 23 --------\n",
      "average within cluster distance (byK) = 60792.72925506806\n",
      "average within cluster distance (byN) = 7.007877652534121\n",
      "-------- K VALUE = 24 --------\n",
      "average within cluster distance (byK) = 53368.15931489971\n",
      "average within cluster distance (byN) = 6.4194896004851225\n"
     ]
    }
   ],
   "source": [
    "avg_cluster_distance_byK_1 = {}\n",
    "avg_cluster_distance_byN_1 = {}\n",
    "for k_value in tqdm(range(10, 25)):\n",
    "\n",
    "    print(f'-------- K VALUE = {k_value} --------')\n",
    "    random_points_1 = np.array(pd.DataFrame(dim_reduced_data_1).sample(n=k_value)).tolist()\n",
    "\n",
    "    # print('PERFORMING CLUSTERING')\n",
    "    medians_init_1 = random_points_1\n",
    "    kmedians_clusterer_1 = kmedians(dim_reduced_data_1, medians_init_1)\n",
    "    kmedians_clusterer_1.process()\n",
    "\n",
    "    file = open(f'../models/part_1/kmedians_{k_value}.pickle', 'wb')\n",
    "    pickle.dump(kmedians_clusterer_1, file)\n",
    "    file.close()\n",
    "\n",
    "    avg_dist_byK_1 = kmedians_clusterer_1.get_total_wce() / k_value\n",
    "    avg_dist_byN_1 = kmedians_clusterer_1.get_total_wce() / num_samples_1\n",
    "    \n",
    "    avg_cluster_distance_byK_1[k_value] = avg_dist_byK_1\n",
    "    avg_cluster_distance_byN_1[k_value] = avg_dist_byN_1\n",
    "    print(f'average within cluster distance (byK) = {avg_dist_byK_1}')\n",
    "    print(f'average within cluster distance (byN) = {avg_dist_byN_1}')\n",
    "    # print('INSTANCE PROCESSED')\n",
    "    clusters_1 = kmedians_clusterer_1.get_clusters()\n",
    "    medians_1 = kmedians_clusterer_1.get_medians()\n",
    "    np.save(f'../model_info/part_1/clusters/clusters_{k_value}.npy', np.array(clusters_1))\n",
    "    np.save(f'../model_info/part_1/medians/medians_{k_value}.npy', np.array(medians_1))\n"
   ]
  },
  {
   "cell_type": "code",
   "execution_count": 31,
   "metadata": {},
   "outputs": [],
   "source": [
    "def plot_clust_dist(avg_clust_distance, anum):\n",
    "    plt.plot([x for x in range(10, 25)], list(avg_clust_distance.values()), marker='o')\n",
    "    plt.xlabel('No. of clusters')\n",
    "    plt.ylabel('Average cluster distance')\n",
    "    plt.title('avg cluster distance vs number of clusters (1)')\n",
    "    plt.savefig(f'../Plots/cluster_distance_{anum}', facecolor='white', bbox_inches='tight')\n",
    "    plt.show()"
   ]
  },
  {
   "cell_type": "code",
   "execution_count": 32,
   "metadata": {},
   "outputs": [
    {
     "data": {
      "image/png": "[encoded data removed]",
      "text/plain": [
       "<Figure size 432x288 with 1 Axes>"
      ]
     },
     "metadata": {
      "needs_background": "light"
     },
     "output_type": "display_data"
    }
   ],
   "source": [
    "plot_clust_dist(avg_cluster_distance_byN_1, 1)"
   ]
  },
  {
   "cell_type": "code",
   "execution_count": 33,
   "metadata": {},
   "outputs": [
    {
     "data": {
      "image/png": "[encoded data removed]",
      "text/plain": [
       "<Figure size 432x288 with 1 Axes>"
      ]
     },
     "metadata": {
      "needs_background": "light"
     },
     "output_type": "display_data"
    }
   ],
   "source": [
    "plt.plot([x for x in range(10, 25)], list(avg_cluster_distance_byK_1.values()))\n",
    "plt.xlabel('No. of clusters')\n",
    "plt.ylabel('Average cluster distance')\n",
    "plt.title('avg cluster distance vs number of clusters')\n",
    "plt.show()"
   ]
  },
  {
   "cell_type": "markdown",
   "metadata": {},
   "source": [
    "More than 50k "
   ]
  },
  {
   "cell_type": "code",
   "execution_count": 58,
   "metadata": {},
   "outputs": [
    {
     "data": {
      "application/vnd.jupyter.widget-view+json": {
       "model_id": "7fac462955b5438e86fc1d509debdeca",
       "version_major": 2,
       "version_minor": 0
      },
      "text/plain": [
       "  0%|          | 0/15 [00:00<?, ?it/s]"
      ]
     },
     "metadata": {},
     "output_type": "display_data"
    },
    {
     "name": "stdout",
     "output_type": "stream",
     "text": [
      "-------- K VALUE = 10 --------\n",
      "average within cluster distance (byK) = 3621.911818553628\n",
      "average within cluster distance (byN) = 10.117072118864883\n",
      "-------- K VALUE = 11 --------\n"
     ]
    },
    {
     "name": "stderr",
     "output_type": "stream",
     "text": [
      "C:\\Users\\SAMYAK~1\\AppData\\Local\\Temp/ipykernel_28976/4109842946.py:27: VisibleDeprecationWarning: Creating an ndarray from ragged nested sequences (which is a list-or-tuple of lists-or-tuples-or ndarrays with different lengths or shapes) is deprecated. If you meant to do this, you must specify 'dtype=object' when creating the ndarray.\n",
      "  np.save(f'../model_info/part_2/clusters/clusters_{k_value}.npy', np.array(clusters_2))\n"
     ]
    },
    {
     "name": "stdout",
     "output_type": "stream",
     "text": [
      "average within cluster distance (byK) = 3116.809580511527\n",
      "average within cluster distance (byN) = 9.576789213862234\n",
      "-------- K VALUE = 12 --------\n",
      "average within cluster distance (byK) = 2726.599506120884\n",
      "average within cluster distance (byN) = 9.139439685321399\n",
      "-------- K VALUE = 13 --------\n",
      "average within cluster distance (byK) = 3045.3989682942192\n",
      "average within cluster distance (byN) = 11.058711337381244\n",
      "-------- K VALUE = 14 --------\n",
      "average within cluster distance (byK) = 2099.849333112851\n",
      "average within cluster distance (byN) = 8.211701302675953\n",
      "-------- K VALUE = 15 --------\n",
      "average within cluster distance (byK) = 2153.16138076047\n",
      "average within cluster distance (byN) = 9.021625897041075\n",
      "-------- K VALUE = 16 --------\n",
      "average within cluster distance (byK) = 1841.3282854896424\n",
      "average within cluster distance (byN) = 8.229400158612927\n",
      "-------- K VALUE = 17 --------\n",
      "average within cluster distance (byK) = 1797.1784832970598\n",
      "average within cluster distance (byN) = 8.534087769846373\n",
      "-------- K VALUE = 18 --------\n",
      "average within cluster distance (byK) = 1616.7217149291141\n",
      "average within cluster distance (byN) = 8.128768399084931\n",
      "-------- K VALUE = 19 --------\n",
      "average within cluster distance (byK) = 1569.9618277174711\n",
      "average within cluster distance (byN) = 8.3321996443106\n",
      "-------- K VALUE = 20 --------\n",
      "average within cluster distance (byK) = 1376.3254797423428\n",
      "average within cluster distance (byN) = 7.688969160571748\n",
      "-------- K VALUE = 21 --------\n",
      "average within cluster distance (byK) = 1342.8534801220194\n",
      "average within cluster distance (byN) = 7.877073486749276\n",
      "-------- K VALUE = 22 --------\n",
      "average within cluster distance (byK) = 1304.1563468959894\n",
      "average within cluster distance (byN) = 8.01436861220999\n",
      "-------- K VALUE = 23 --------\n",
      "average within cluster distance (byK) = 1228.555675071283\n",
      "average within cluster distance (byN) = 7.892955454368579\n",
      "-------- K VALUE = 24 --------\n",
      "average within cluster distance (byK) = 1080.0066075667723\n",
      "average within cluster distance (byN) = 7.240267760224172\n"
     ]
    }
   ],
   "source": [
    "avg_cluster_distance_byK_2 = {}\n",
    "avg_cluster_distance_byN_2 = {}\n",
    "for k_value in tqdm(range(10, 25)):\n",
    "\n",
    "    print(f'-------- K VALUE = {k_value} --------')\n",
    "    random_points_2 = np.array(pd.DataFrame(dim_reduced_data_2).sample(n=k_value)).tolist()\n",
    "\n",
    "    # print('PERFORMING CLUSTERING')\n",
    "    medians_init_2 = random_points_2\n",
    "    kmedians_clusterer_2 = kmedians(dim_reduced_data_2, medians_init_2)\n",
    "    kmedians_clusterer_2.process()\n",
    "\n",
    "    file = open(f'../models/part_2/kmedians_{k_value}.pickle', 'wb')\n",
    "    pickle.dump(kmedians_clusterer_2, file)\n",
    "    file.close()\n",
    "\n",
    "    avg_dist_byK_2 = kmedians_clusterer_2.get_total_wce() / k_value\n",
    "    avg_dist_byN_2 = kmedians_clusterer_2.get_total_wce() / num_samples_2\n",
    "    \n",
    "    avg_cluster_distance_byK_2[k_value] = avg_dist_byK_2\n",
    "    avg_cluster_distance_byN_2[k_value] = avg_dist_byN_2\n",
    "    print(f'average within cluster distance (byK) = {avg_dist_byK_2}')\n",
    "    print(f'average within cluster distance (byN) = {avg_dist_byN_2}')\n",
    "    # print('INSTANCE PROCESSED')\n",
    "    clusters_2 = kmedians_clusterer_2.get_clusters()\n",
    "    medians_2 = kmedians_clusterer_2.get_medians()\n",
    "    np.save(f'../model_info/part_2/clusters/clusters_{k_value}.npy', np.array(clusters_2))\n",
    "    np.save(f'../model_info/part_2/medians/medians_{k_value}.npy', np.array(medians_2))\n"
   ]
  },
  {
   "cell_type": "code",
   "execution_count": 59,
   "metadata": {},
   "outputs": [
    {
     "data": {
      "image/png": "[encoded data removed]",
      "text/plain": [
       "<Figure size 432x288 with 1 Axes>"
      ]
     },
     "metadata": {
      "needs_background": "light"
     },
     "output_type": "display_data"
    }
   ],
   "source": [
    "plot_clust_dist(avg_cluster_distance_byN_2, 2)"
   ]
  },
  {
   "cell_type": "code",
   "execution_count": 60,
   "metadata": {},
   "outputs": [
    {
     "ename": "ValueError",
     "evalue": "x and y must have same first dimension, but have shapes (41,) and (15,)",
     "output_type": "error",
     "traceback": [
      "\u001b[1;31m---------------------------------------------------------------------------\u001b[0m",
      "\u001b[1;31mValueError\u001b[0m                                Traceback (most recent call last)",
      "\u001b[1;32mC:\\Users\\SAMYAK~1\\AppData\\Local\\Temp/ipykernel_28976/749043378.py\u001b[0m in \u001b[0;36m<module>\u001b[1;34m\u001b[0m\n\u001b[1;32m----> 1\u001b[1;33m \u001b[0mplt\u001b[0m\u001b[1;33m.\u001b[0m\u001b[0mplot\u001b[0m\u001b[1;33m(\u001b[0m\u001b[1;33m[\u001b[0m\u001b[0mx\u001b[0m \u001b[1;32mfor\u001b[0m \u001b[0mx\u001b[0m \u001b[1;32min\u001b[0m \u001b[0mrange\u001b[0m\u001b[1;33m(\u001b[0m\u001b[1;36m10\u001b[0m\u001b[1;33m,\u001b[0m \u001b[1;36m51\u001b[0m\u001b[1;33m)\u001b[0m\u001b[1;33m]\u001b[0m\u001b[1;33m,\u001b[0m \u001b[0mlist\u001b[0m\u001b[1;33m(\u001b[0m\u001b[0mavg_cluster_distance_byK_2\u001b[0m\u001b[1;33m.\u001b[0m\u001b[0mvalues\u001b[0m\u001b[1;33m(\u001b[0m\u001b[1;33m)\u001b[0m\u001b[1;33m)\u001b[0m\u001b[1;33m)\u001b[0m\u001b[1;33m\u001b[0m\u001b[1;33m\u001b[0m\u001b[0m\n\u001b[0m\u001b[0;32m      2\u001b[0m \u001b[0mplt\u001b[0m\u001b[1;33m.\u001b[0m\u001b[0mxlabel\u001b[0m\u001b[1;33m(\u001b[0m\u001b[1;34m'No. of clusters'\u001b[0m\u001b[1;33m)\u001b[0m\u001b[1;33m\u001b[0m\u001b[1;33m\u001b[0m\u001b[0m\n\u001b[0;32m      3\u001b[0m \u001b[0mplt\u001b[0m\u001b[1;33m.\u001b[0m\u001b[0mylabel\u001b[0m\u001b[1;33m(\u001b[0m\u001b[1;34m'Average cluster distance'\u001b[0m\u001b[1;33m)\u001b[0m\u001b[1;33m\u001b[0m\u001b[1;33m\u001b[0m\u001b[0m\n\u001b[0;32m      4\u001b[0m \u001b[0mplt\u001b[0m\u001b[1;33m.\u001b[0m\u001b[0mtitle\u001b[0m\u001b[1;33m(\u001b[0m\u001b[1;34m'avg cluster distance vs number of clusters'\u001b[0m\u001b[1;33m)\u001b[0m\u001b[1;33m\u001b[0m\u001b[1;33m\u001b[0m\u001b[0m\n\u001b[0;32m      5\u001b[0m \u001b[0mplt\u001b[0m\u001b[1;33m.\u001b[0m\u001b[0mshow\u001b[0m\u001b[1;33m(\u001b[0m\u001b[1;33m)\u001b[0m\u001b[1;33m\u001b[0m\u001b[1;33m\u001b[0m\u001b[0m\n",
      "\u001b[1;32m~\\AppData\\Local\\Programs\\Python\\Python39\\lib\\site-packages\\matplotlib\\pyplot.py\u001b[0m in \u001b[0;36mplot\u001b[1;34m(scalex, scaley, data, *args, **kwargs)\u001b[0m\n\u001b[0;32m   3017\u001b[0m \u001b[1;33m@\u001b[0m\u001b[0m_copy_docstring_and_deprecators\u001b[0m\u001b[1;33m(\u001b[0m\u001b[0mAxes\u001b[0m\u001b[1;33m.\u001b[0m\u001b[0mplot\u001b[0m\u001b[1;33m)\u001b[0m\u001b[1;33m\u001b[0m\u001b[1;33m\u001b[0m\u001b[0m\n\u001b[0;32m   3018\u001b[0m \u001b[1;32mdef\u001b[0m \u001b[0mplot\u001b[0m\u001b[1;33m(\u001b[0m\u001b[1;33m*\u001b[0m\u001b[0margs\u001b[0m\u001b[1;33m,\u001b[0m \u001b[0mscalex\u001b[0m\u001b[1;33m=\u001b[0m\u001b[1;32mTrue\u001b[0m\u001b[1;33m,\u001b[0m \u001b[0mscaley\u001b[0m\u001b[1;33m=\u001b[0m\u001b[1;32mTrue\u001b[0m\u001b[1;33m,\u001b[0m \u001b[0mdata\u001b[0m\u001b[1;33m=\u001b[0m\u001b[1;32mNone\u001b[0m\u001b[1;33m,\u001b[0m \u001b[1;33m**\u001b[0m\u001b[0mkwargs\u001b[0m\u001b[1;33m)\u001b[0m\u001b[1;33m:\u001b[0m\u001b[1;33m\u001b[0m\u001b[1;33m\u001b[0m\u001b[0m\n\u001b[1;32m-> 3019\u001b[1;33m     return gca().plot(\n\u001b[0m\u001b[0;32m   3020\u001b[0m         \u001b[1;33m*\u001b[0m\u001b[0margs\u001b[0m\u001b[1;33m,\u001b[0m \u001b[0mscalex\u001b[0m\u001b[1;33m=\u001b[0m\u001b[0mscalex\u001b[0m\u001b[1;33m,\u001b[0m \u001b[0mscaley\u001b[0m\u001b[1;33m=\u001b[0m\u001b[0mscaley\u001b[0m\u001b[1;33m,\u001b[0m\u001b[1;33m\u001b[0m\u001b[1;33m\u001b[0m\u001b[0m\n\u001b[0;32m   3021\u001b[0m         **({\"data\": data} if data is not None else {}), **kwargs)\n",
      "\u001b[1;32m~\\AppData\\Local\\Programs\\Python\\Python39\\lib\\site-packages\\matplotlib\\axes\\_axes.py\u001b[0m in \u001b[0;36mplot\u001b[1;34m(self, scalex, scaley, data, *args, **kwargs)\u001b[0m\n\u001b[0;32m   1603\u001b[0m         \"\"\"\n\u001b[0;32m   1604\u001b[0m         \u001b[0mkwargs\u001b[0m \u001b[1;33m=\u001b[0m \u001b[0mcbook\u001b[0m\u001b[1;33m.\u001b[0m\u001b[0mnormalize_kwargs\u001b[0m\u001b[1;33m(\u001b[0m\u001b[0mkwargs\u001b[0m\u001b[1;33m,\u001b[0m \u001b[0mmlines\u001b[0m\u001b[1;33m.\u001b[0m\u001b[0mLine2D\u001b[0m\u001b[1;33m)\u001b[0m\u001b[1;33m\u001b[0m\u001b[1;33m\u001b[0m\u001b[0m\n\u001b[1;32m-> 1605\u001b[1;33m         \u001b[0mlines\u001b[0m \u001b[1;33m=\u001b[0m \u001b[1;33m[\u001b[0m\u001b[1;33m*\u001b[0m\u001b[0mself\u001b[0m\u001b[1;33m.\u001b[0m\u001b[0m_get_lines\u001b[0m\u001b[1;33m(\u001b[0m\u001b[1;33m*\u001b[0m\u001b[0margs\u001b[0m\u001b[1;33m,\u001b[0m \u001b[0mdata\u001b[0m\u001b[1;33m=\u001b[0m\u001b[0mdata\u001b[0m\u001b[1;33m,\u001b[0m \u001b[1;33m**\u001b[0m\u001b[0mkwargs\u001b[0m\u001b[1;33m)\u001b[0m\u001b[1;33m]\u001b[0m\u001b[1;33m\u001b[0m\u001b[1;33m\u001b[0m\u001b[0m\n\u001b[0m\u001b[0;32m   1606\u001b[0m         \u001b[1;32mfor\u001b[0m \u001b[0mline\u001b[0m \u001b[1;32min\u001b[0m \u001b[0mlines\u001b[0m\u001b[1;33m:\u001b[0m\u001b[1;33m\u001b[0m\u001b[1;33m\u001b[0m\u001b[0m\n\u001b[0;32m   1607\u001b[0m             \u001b[0mself\u001b[0m\u001b[1;33m.\u001b[0m\u001b[0madd_line\u001b[0m\u001b[1;33m(\u001b[0m\u001b[0mline\u001b[0m\u001b[1;33m)\u001b[0m\u001b[1;33m\u001b[0m\u001b[1;33m\u001b[0m\u001b[0m\n",
      "\u001b[1;32m~\\AppData\\Local\\Programs\\Python\\Python39\\lib\\site-packages\\matplotlib\\axes\\_base.py\u001b[0m in \u001b[0;36m__call__\u001b[1;34m(self, data, *args, **kwargs)\u001b[0m\n\u001b[0;32m    313\u001b[0m                 \u001b[0mthis\u001b[0m \u001b[1;33m+=\u001b[0m \u001b[0margs\u001b[0m\u001b[1;33m[\u001b[0m\u001b[1;36m0\u001b[0m\u001b[1;33m]\u001b[0m\u001b[1;33m,\u001b[0m\u001b[1;33m\u001b[0m\u001b[1;33m\u001b[0m\u001b[0m\n\u001b[0;32m    314\u001b[0m                 \u001b[0margs\u001b[0m \u001b[1;33m=\u001b[0m \u001b[0margs\u001b[0m\u001b[1;33m[\u001b[0m\u001b[1;36m1\u001b[0m\u001b[1;33m:\u001b[0m\u001b[1;33m]\u001b[0m\u001b[1;33m\u001b[0m\u001b[1;33m\u001b[0m\u001b[0m\n\u001b[1;32m--> 315\u001b[1;33m             \u001b[1;32myield\u001b[0m \u001b[1;32mfrom\u001b[0m \u001b[0mself\u001b[0m\u001b[1;33m.\u001b[0m\u001b[0m_plot_args\u001b[0m\u001b[1;33m(\u001b[0m\u001b[0mthis\u001b[0m\u001b[1;33m,\u001b[0m \u001b[0mkwargs\u001b[0m\u001b[1;33m)\u001b[0m\u001b[1;33m\u001b[0m\u001b[1;33m\u001b[0m\u001b[0m\n\u001b[0m\u001b[0;32m    316\u001b[0m \u001b[1;33m\u001b[0m\u001b[0m\n\u001b[0;32m    317\u001b[0m     \u001b[1;32mdef\u001b[0m \u001b[0mget_next_color\u001b[0m\u001b[1;33m(\u001b[0m\u001b[0mself\u001b[0m\u001b[1;33m)\u001b[0m\u001b[1;33m:\u001b[0m\u001b[1;33m\u001b[0m\u001b[1;33m\u001b[0m\u001b[0m\n",
      "\u001b[1;32m~\\AppData\\Local\\Programs\\Python\\Python39\\lib\\site-packages\\matplotlib\\axes\\_base.py\u001b[0m in \u001b[0;36m_plot_args\u001b[1;34m(self, tup, kwargs, return_kwargs)\u001b[0m\n\u001b[0;32m    499\u001b[0m \u001b[1;33m\u001b[0m\u001b[0m\n\u001b[0;32m    500\u001b[0m         \u001b[1;32mif\u001b[0m \u001b[0mx\u001b[0m\u001b[1;33m.\u001b[0m\u001b[0mshape\u001b[0m\u001b[1;33m[\u001b[0m\u001b[1;36m0\u001b[0m\u001b[1;33m]\u001b[0m \u001b[1;33m!=\u001b[0m \u001b[0my\u001b[0m\u001b[1;33m.\u001b[0m\u001b[0mshape\u001b[0m\u001b[1;33m[\u001b[0m\u001b[1;36m0\u001b[0m\u001b[1;33m]\u001b[0m\u001b[1;33m:\u001b[0m\u001b[1;33m\u001b[0m\u001b[1;33m\u001b[0m\u001b[0m\n\u001b[1;32m--> 501\u001b[1;33m             raise ValueError(f\"x and y must have same first dimension, but \"\n\u001b[0m\u001b[0;32m    502\u001b[0m                              f\"have shapes {x.shape} and {y.shape}\")\n\u001b[0;32m    503\u001b[0m         \u001b[1;32mif\u001b[0m \u001b[0mx\u001b[0m\u001b[1;33m.\u001b[0m\u001b[0mndim\u001b[0m \u001b[1;33m>\u001b[0m \u001b[1;36m2\u001b[0m \u001b[1;32mor\u001b[0m \u001b[0my\u001b[0m\u001b[1;33m.\u001b[0m\u001b[0mndim\u001b[0m \u001b[1;33m>\u001b[0m \u001b[1;36m2\u001b[0m\u001b[1;33m:\u001b[0m\u001b[1;33m\u001b[0m\u001b[1;33m\u001b[0m\u001b[0m\n",
      "\u001b[1;31mValueError\u001b[0m: x and y must have same first dimension, but have shapes (41,) and (15,)"
     ]
    },
    {
     "data": {
      "image/png": "[encoded data removed]",
      "text/plain": [
       "<Figure size 432x288 with 1 Axes>"
      ]
     },
     "metadata": {
      "needs_background": "light"
     },
     "output_type": "display_data"
    }
   ],
   "source": [
    "plt.plot([x for x in range(10, 51)], list(avg_cluster_distance_byK_2.values()))\n",
    "plt.xlabel('No. of clusters')\n",
    "plt.ylabel('Average cluster distance')\n",
    "plt.title('avg cluster distance vs number of clusters')\n",
    "plt.show()\n"
   ]
  },
  {
   "cell_type": "markdown",
   "metadata": {},
   "source": [
    "Using 3 dimensional data for visulaization"
   ]
  },
  {
   "cell_type": "code",
   "execution_count": null,
   "metadata": {},
   "outputs": [],
   "source": [
    "# pca_3d = PCA(n_components=3)\n",
    "# dim_3d_data = pca_3d.fit_transform(data)"
   ]
  },
  {
   "cell_type": "code",
   "execution_count": null,
   "metadata": {},
   "outputs": [],
   "source": [
    "# k_value_3d = 10\n",
    "# print(f'-------- K VALUE = {k_value_3d} --------')\n",
    "# random_points_3d = np.array(pd.DataFrame(dim_3d_data).sample(n=k_value_3d)).tolist()\n",
    "# medians_init_3d = random_points_3d\n",
    "# kmedians_clusterer_3d = kmedians(dim_3d_data, medians_init_3d)\n",
    "# kmedians_clusterer_3d.process()\n",
    "# avg_cluster_dist_3d = kmedians_clusterer_3d.get_total_wce() / k_value_3d\n",
    "# temp_avg_cluster_dist_3d = kmedians_clusterer_3d.get_total_wce() / dim_3d_data.shape[0]\n",
    "# print(f'average within cluster distance = {avg_cluster_dist_3d}')\n",
    "# print(f'Temp average within cluster distance = {temp_avg_cluster_dist_3d}')\n",
    "# clusters_3d = kmedians_clusterer_3d.get_clusters()\n",
    "# medians_3d = kmedians_clusterer_3d.get_medians()\n"
   ]
  },
  {
   "cell_type": "code",
   "execution_count": null,
   "metadata": {},
   "outputs": [],
   "source": [
    "# # dim_3d_data\n",
    "# pca_df = pd.DataFrame(dim_3d_data, columns=['pca-one', 'pca-two', 'pca-three'])\n",
    "# pca_df['cluster'] = 0\n",
    "# for clust_idx in tqdm(range(len(clusters_3d))):\n",
    "#     for point_idx in clusters_3d[clust_idx]:\n",
    "#         pca_df.loc[point_idx, 'cluster'] = clust_idx + 1"
   ]
  },
  {
   "cell_type": "code",
   "execution_count": null,
   "metadata": {},
   "outputs": [],
   "source": [
    "# ax = plt.figure(figsize=(20,14)).gca(projection='3d')\n",
    "# # ax.view_init(20, 90)\n",
    "# ax.scatter(\n",
    "#     xs=pca_df['pca-one'], \n",
    "#     ys=pca_df['pca-two'], \n",
    "#     zs=pca_df['pca-three'], \n",
    "#     c=pca_df[\"cluster\"], \n",
    "#     cmap='coolwarm',\n",
    "# )\n",
    "# ax.set_xlabel('x')\n",
    "# ax.set_ylabel('y')\n",
    "# ax.set_zlabel('z')\n",
    "# # labs = [c for c in range(1, 11)]\n",
    "# # plt.legend(handles=labs)\n",
    "# plt.show()"
   ]
  },
  {
   "cell_type": "markdown",
   "metadata": {},
   "source": [
    "Using more_than_50k data"
   ]
  },
  {
   "cell_type": "code",
   "execution_count": null,
   "metadata": {},
   "outputs": [],
   "source": []
  }
 ],
 "metadata": {
  "interpreter": {
   "hash": "95998ac47eb65ec9e5c98c2254b1cb40f9c7258e6e03781a4daecb7b0f9a0cae"
  },
  "kernelspec": {
   "display_name": "Python 3.9.5 64-bit",
   "language": "python",
   "name": "python3"
  },
  "language_info": {
   "codemirror_mode": {
    "name": "ipython",
    "version": 3
   },
   "file_extension": ".py",
   "mimetype": "text/x-python",
   "name": "python",
   "nbconvert_exporter": "python",
   "pygments_lexer": "ipython3",
   "version": "3.9.5"
  },
  "orig_nbformat": 4
 },
 "nbformat": 4,
 "nbformat_minor": 2
}
