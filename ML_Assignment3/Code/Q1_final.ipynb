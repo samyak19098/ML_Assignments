{
 "cells": [
  {
   "cell_type": "code",
   "execution_count": 75,
   "metadata": {},
   "outputs": [],
   "source": [
    "import numpy as np\n",
    "import pandas as pd\n",
    "import matplotlib.pyplot as plt\n",
    "from sklearn import preprocessing\n",
    "from pyclustering.cluster.kmedians import kmedians\n",
    "from pyclustering.cluster import cluster_visualizer\n",
    "from pyclustering.cluster import cluster_visualizer_multidim\n",
    "from sklearn.decomposition import PCA\n",
    "import pickle\n",
    "from tqdm.notebook import tqdm"
   ]
  },
  {
   "cell_type": "code",
   "execution_count": 76,
   "metadata": {},
   "outputs": [],
   "source": [
    "dataset_description = pd.read_csv('../Data/Dataset_Description.csv')"
   ]
  },
  {
   "cell_type": "code",
   "execution_count": 77,
   "metadata": {},
   "outputs": [],
   "source": [
    "# dataset_description"
   ]
  },
  {
   "cell_type": "code",
   "execution_count": 78,
   "metadata": {},
   "outputs": [],
   "source": [
    "population_data_raw = pd.read_csv('../Data/population.csv')\n",
    "# population_data_raw "
   ]
  },
  {
   "cell_type": "code",
   "execution_count": 79,
   "metadata": {},
   "outputs": [],
   "source": [
    "def preprocessing(df):\n",
    "\n",
    "    #replace ? with Nan\n",
    "    df = df.replace({' ?' :  np.nan})\n",
    "\n",
    "    #drop columns with more than 40$ NaN values\n",
    "    cols = df.columns\n",
    "    missing_percentages = (df.isna().sum() / len(df)) * 100\n",
    "    cols_to_drop = []\n",
    "    for col in cols:\n",
    "        if(missing_percentages[col] > 40.0):\n",
    "            cols_to_drop.append(col)\n",
    "    print(f'Dropping = {cols_to_drop}')\n",
    "    df = df.drop(cols_to_drop, axis=1)\n",
    "    return df"
   ]
  },
  {
   "cell_type": "code",
   "execution_count": 80,
   "metadata": {},
   "outputs": [
    {
     "name": "stdout",
     "output_type": "stream",
     "text": [
      "Dropping = ['MIGMTR1', 'MIGMTR3', 'MIGMTR4', 'MIGSUN']\n",
      "(199523, 36)\n"
     ]
    }
   ],
   "source": [
    "data = preprocessing(population_data_raw)\n",
    "print(data.shape)"
   ]
  },
  {
   "cell_type": "code",
   "execution_count": 81,
   "metadata": {},
   "outputs": [],
   "source": [
    "def plot_histogram(df, numeric_columns, categorical_columns):\n",
    "    # features = df.columns\n",
    "    # for feat in features:\n",
    "    #     plt.figure(figsize=(25,5))\n",
    "    #     if(feat in numeric_columns):\n",
    "    #         df[feat].hist(bins=10,edgecolor='black', linewidth=1.5)\n",
    "\n",
    "    #     else:\n",
    "    #         unique_cat_values = len(df[feat].unique())\n",
    "    #         print(f'No. of unique Categories : {unique_cat_values}')\n",
    "    #         df[feat].hist(bins = unique_cat_values, edgecolor='black', linewidth=1.5)\n",
    "    #     plt.xlabel(feat)\n",
    "    #     plt.ylabel('Count')\n",
    "    #     plt.title(f'Histogram : {feat}')\n",
    "    #     plt.savefig(f'../Plots/Feature_Analysis/{feat}_hist', facecolor='w', bbox_inches='tight')\n",
    "    #     plt.show()\n",
    "    features = df.columns\n",
    "    for feat in features:\n",
    "        plt.figure(figsize=(25, 5))\n",
    "        # if(feat in numeric_columns)\n",
    "        unique_cat_values = len(df[feat].unique())\n",
    "        print(f'No. of unique Categories : {unique_cat_values}')\n",
    "        df[feat].astype(str).hist(bins = unique_cat_values, edgecolor='black', linewidth=1.5)\n",
    "        plt.xlabel(feat)\n",
    "        plt.ylabel('Count')\n",
    "        plt.title(f'Histogram : {feat}')\n",
    "        plt.savefig(f'../Plots/Feature_Analysis/{feat}_hist', facecolor='w', bbox_inches='tight')\n",
    "        plt.show()"
   ]
  },
  {
   "cell_type": "code",
   "execution_count": 82,
   "metadata": {},
   "outputs": [],
   "source": [
    "def compute(df, col):\n",
    "    max_freq = df[col].value_counts().max()\n",
    "    max_perc = (max_freq / df.shape[0]) * 100\n",
    "    print(max_perc)"
   ]
  },
  {
   "cell_type": "code",
   "execution_count": 83,
   "metadata": {},
   "outputs": [],
   "source": [
    "def feature_analysis(df):\n",
    "    data_columns = df.columns\n",
    "    numeric_columns = ['AAGE', 'AHRSPAY', 'CAPGAIN', 'CAPLOSS', 'DIVVAL', 'WKSWORK']\n",
    "    all_cols_set = set(data_columns)\n",
    "    numerical_cols_set = set(numeric_columns)\n",
    "    categorical_cols = list(all_cols_set - numerical_cols_set)\n",
    "    \n",
    "    for col in numeric_columns:\n",
    "        df[col] = pd.cut(x=df[col], bins=6)\n",
    "    # df['AAGE']\n",
    "    # plot_histogram(df, numeric_columns, categorical_cols)\n",
    "    total_count = df.shape[0]\n",
    "\n",
    "    cols_to_drop = []\n",
    "    for col in data_columns:\n",
    "        max_freq = df[col].value_counts().max()\n",
    "        max_perc = (max_freq / total_count) * 100\n",
    "        if(max_perc > 80.0):\n",
    "            cols_to_drop.append(col)\n",
    "    print(f'Dropping {len(cols_to_drop)} cols \\n {cols_to_drop}')\n",
    "    df = df.drop(cols_to_drop, axis=1)\n",
    "    return df\n",
    "\n",
    "    # print(df)\n",
    "\n",
    "\n",
    "    # print(categorical_cols)\n"
   ]
  },
  {
   "cell_type": "code",
   "execution_count": 84,
   "metadata": {},
   "outputs": [],
   "source": [
    "# data.mode()"
   ]
  },
  {
   "cell_type": "code",
   "execution_count": 85,
   "metadata": {},
   "outputs": [
    {
     "name": "stdout",
     "output_type": "stream",
     "text": [
      "Dropping 16 cols \n",
      " ['AHRSPAY', 'AHSCOL', 'ARACE', 'AREORGN', 'AUNMEM', 'AUNTYPE', 'CAPGAIN', 'CAPLOSS', 'DIVVAL', 'GRINREG', 'GRINST', 'PEMNTVTY', 'PENATVTY', 'PRCITSHP', 'SEOTR', 'VETQVA']\n"
     ]
    }
   ],
   "source": [
    "data = feature_analysis(data)"
   ]
  },
  {
   "cell_type": "code",
   "execution_count": 86,
   "metadata": {},
   "outputs": [
    {
     "data": {
      "text/plain": [
       "Index(['AAGE', 'ACLSWKR', 'ADTIND', 'ADTOCC', 'AHGA', 'AMARITL', 'AMJIND',\n",
       "       'AMJOCC', 'ASEX', 'AWKSTAT', 'FILESTAT', 'HHDFMX', 'HHDREL', 'MIGSAME',\n",
       "       'NOEMP', 'PARENT', 'PEFNTVTY', 'VETYN', 'WKSWORK', 'YEAR'],\n",
       "      dtype='object')"
      ]
     },
     "execution_count": 86,
     "metadata": {},
     "output_type": "execute_result"
    }
   ],
   "source": [
    "data.columns"
   ]
  },
  {
   "cell_type": "code",
   "execution_count": 87,
   "metadata": {},
   "outputs": [
    {
     "data": {
      "text/plain": [
       "AAGE           0\n",
       "ACLSWKR        0\n",
       "ADTIND         0\n",
       "ADTOCC         0\n",
       "AHGA           0\n",
       "AMARITL        0\n",
       "AMJIND         0\n",
       "AMJOCC         0\n",
       "ASEX           0\n",
       "AWKSTAT        0\n",
       "FILESTAT       0\n",
       "HHDFMX         0\n",
       "HHDREL         0\n",
       "MIGSAME        0\n",
       "NOEMP          0\n",
       "PARENT         0\n",
       "PEFNTVTY    6713\n",
       "VETYN          0\n",
       "WKSWORK        0\n",
       "YEAR           0\n",
       "dtype: int64"
      ]
     },
     "execution_count": 87,
     "metadata": {},
     "output_type": "execute_result"
    }
   ],
   "source": [
    "data.isna().sum()"
   ]
  },
  {
   "cell_type": "code",
   "execution_count": 88,
   "metadata": {},
   "outputs": [
    {
     "data": {
      "text/html": [
       "<div>\n",
       "<style scoped>\n",
       "    .dataframe tbody tr th:only-of-type {\n",
       "        vertical-align: middle;\n",
       "    }\n",
       "\n",
       "    .dataframe tbody tr th {\n",
       "        vertical-align: top;\n",
       "    }\n",
       "\n",
       "    .dataframe thead th {\n",
       "        text-align: right;\n",
       "    }\n",
       "</style>\n",
       "<table border=\"1\" class=\"dataframe\">\n",
       "  <thead>\n",
       "    <tr style=\"text-align: right;\">\n",
       "      <th></th>\n",
       "      <th>AAGE</th>\n",
       "      <th>ACLSWKR</th>\n",
       "      <th>ADTIND</th>\n",
       "      <th>ADTOCC</th>\n",
       "      <th>AHGA</th>\n",
       "      <th>AMARITL</th>\n",
       "      <th>AMJIND</th>\n",
       "      <th>AMJOCC</th>\n",
       "      <th>ASEX</th>\n",
       "      <th>AWKSTAT</th>\n",
       "      <th>FILESTAT</th>\n",
       "      <th>HHDFMX</th>\n",
       "      <th>HHDREL</th>\n",
       "      <th>MIGSAME</th>\n",
       "      <th>NOEMP</th>\n",
       "      <th>PARENT</th>\n",
       "      <th>PEFNTVTY</th>\n",
       "      <th>VETYN</th>\n",
       "      <th>WKSWORK</th>\n",
       "      <th>YEAR</th>\n",
       "    </tr>\n",
       "  </thead>\n",
       "  <tbody>\n",
       "    <tr>\n",
       "      <th>0</th>\n",
       "      <td>(-0.09, 15.0]</td>\n",
       "      <td>Not in universe</td>\n",
       "      <td>0</td>\n",
       "      <td>0</td>\n",
       "      <td>High school graduate</td>\n",
       "      <td>Never married</td>\n",
       "      <td>Not in universe or children</td>\n",
       "      <td>Not in universe</td>\n",
       "      <td>Female</td>\n",
       "      <td>Children or Armed Forces</td>\n",
       "      <td>Nonfiler</td>\n",
       "      <td>Householder</td>\n",
       "      <td>Householder</td>\n",
       "      <td>Not in universe under 1 year old</td>\n",
       "      <td>0</td>\n",
       "      <td>Not in universe</td>\n",
       "      <td>United-States</td>\n",
       "      <td>2</td>\n",
       "      <td>(-0.052, 8.667]</td>\n",
       "      <td>94</td>\n",
       "    </tr>\n",
       "  </tbody>\n",
       "</table>\n",
       "</div>"
      ],
      "text/plain": [
       "            AAGE           ACLSWKR  ADTIND  ADTOCC                   AHGA  \\\n",
       "0  (-0.09, 15.0]   Not in universe       0       0   High school graduate   \n",
       "\n",
       "          AMARITL                        AMJIND            AMJOCC     ASEX  \\\n",
       "0   Never married   Not in universe or children   Not in universe   Female   \n",
       "\n",
       "                     AWKSTAT   FILESTAT        HHDFMX        HHDREL  \\\n",
       "0   Children or Armed Forces   Nonfiler   Householder   Householder   \n",
       "\n",
       "                             MIGSAME  NOEMP            PARENT        PEFNTVTY  \\\n",
       "0   Not in universe under 1 year old      0   Not in universe   United-States   \n",
       "\n",
       "   VETYN          WKSWORK  YEAR  \n",
       "0      2  (-0.052, 8.667]    94  "
      ]
     },
     "execution_count": 88,
     "metadata": {},
     "output_type": "execute_result"
    }
   ],
   "source": [
    "data.mode()"
   ]
  },
  {
   "cell_type": "code",
   "execution_count": 89,
   "metadata": {},
   "outputs": [],
   "source": [
    "def column_modifications(df):\n",
    "    column_modes = df.mode()\n",
    "    data_cols = df.columns\n",
    "    print(df.isna().sum())\n",
    "    for col in data_cols:\n",
    "        missing_vals = df[col].isna().sum()\n",
    "        if(missing_vals > 0):\n",
    "            df[col] = df[col].fillna(column_modes[col][0])\n",
    "    print(df.isna().sum())\n",
    "    one_hot_encoded = pd.get_dummies(df, columns=list(df.columns))\n",
    "    df = one_hot_encoded\n",
    "\n",
    "    return df        \n"
   ]
  },
  {
   "cell_type": "code",
   "execution_count": 90,
   "metadata": {},
   "outputs": [
    {
     "name": "stdout",
     "output_type": "stream",
     "text": [
      "AAGE           0\n",
      "ACLSWKR        0\n",
      "ADTIND         0\n",
      "ADTOCC         0\n",
      "AHGA           0\n",
      "AMARITL        0\n",
      "AMJIND         0\n",
      "AMJOCC         0\n",
      "ASEX           0\n",
      "AWKSTAT        0\n",
      "FILESTAT       0\n",
      "HHDFMX         0\n",
      "HHDREL         0\n",
      "MIGSAME        0\n",
      "NOEMP          0\n",
      "PARENT         0\n",
      "PEFNTVTY    6713\n",
      "VETYN          0\n",
      "WKSWORK        0\n",
      "YEAR           0\n",
      "dtype: int64\n",
      "AAGE        0\n",
      "ACLSWKR     0\n",
      "ADTIND      0\n",
      "ADTOCC      0\n",
      "AHGA        0\n",
      "AMARITL     0\n",
      "AMJIND      0\n",
      "AMJOCC      0\n",
      "ASEX        0\n",
      "AWKSTAT     0\n",
      "FILESTAT    0\n",
      "HHDFMX      0\n",
      "HHDREL      0\n",
      "MIGSAME     0\n",
      "NOEMP       0\n",
      "PARENT      0\n",
      "PEFNTVTY    0\n",
      "VETYN       0\n",
      "WKSWORK     0\n",
      "YEAR        0\n",
      "dtype: int64\n",
      "(199523, 307)\n"
     ]
    }
   ],
   "source": [
    "data = column_modifications(data)\n",
    "print(data.shape)"
   ]
  },
  {
   "cell_type": "code",
   "execution_count": 91,
   "metadata": {},
   "outputs": [
    {
     "data": {
      "text/html": [
       "<div>\n",
       "<style scoped>\n",
       "    .dataframe tbody tr th:only-of-type {\n",
       "        vertical-align: middle;\n",
       "    }\n",
       "\n",
       "    .dataframe tbody tr th {\n",
       "        vertical-align: top;\n",
       "    }\n",
       "\n",
       "    .dataframe thead th {\n",
       "        text-align: right;\n",
       "    }\n",
       "</style>\n",
       "<table border=\"1\" class=\"dataframe\">\n",
       "  <thead>\n",
       "    <tr style=\"text-align: right;\">\n",
       "      <th></th>\n",
       "      <th>AAGE_(-0.09, 15.0]</th>\n",
       "      <th>AAGE_(15.0, 30.0]</th>\n",
       "      <th>AAGE_(30.0, 45.0]</th>\n",
       "      <th>AAGE_(45.0, 60.0]</th>\n",
       "      <th>AAGE_(60.0, 75.0]</th>\n",
       "      <th>AAGE_(75.0, 90.0]</th>\n",
       "      <th>ACLSWKR_ Federal government</th>\n",
       "      <th>ACLSWKR_ Local government</th>\n",
       "      <th>ACLSWKR_ Never worked</th>\n",
       "      <th>ACLSWKR_ Not in universe</th>\n",
       "      <th>...</th>\n",
       "      <th>VETYN_1</th>\n",
       "      <th>VETYN_2</th>\n",
       "      <th>WKSWORK_(-0.052, 8.667]</th>\n",
       "      <th>WKSWORK_(8.667, 17.333]</th>\n",
       "      <th>WKSWORK_(17.333, 26.0]</th>\n",
       "      <th>WKSWORK_(26.0, 34.667]</th>\n",
       "      <th>WKSWORK_(34.667, 43.333]</th>\n",
       "      <th>WKSWORK_(43.333, 52.0]</th>\n",
       "      <th>YEAR_94</th>\n",
       "      <th>YEAR_95</th>\n",
       "    </tr>\n",
       "  </thead>\n",
       "  <tbody>\n",
       "    <tr>\n",
       "      <th>0</th>\n",
       "      <td>0</td>\n",
       "      <td>0</td>\n",
       "      <td>0</td>\n",
       "      <td>0</td>\n",
       "      <td>1</td>\n",
       "      <td>0</td>\n",
       "      <td>0</td>\n",
       "      <td>0</td>\n",
       "      <td>0</td>\n",
       "      <td>1</td>\n",
       "      <td>...</td>\n",
       "      <td>0</td>\n",
       "      <td>1</td>\n",
       "      <td>1</td>\n",
       "      <td>0</td>\n",
       "      <td>0</td>\n",
       "      <td>0</td>\n",
       "      <td>0</td>\n",
       "      <td>0</td>\n",
       "      <td>0</td>\n",
       "      <td>1</td>\n",
       "    </tr>\n",
       "    <tr>\n",
       "      <th>1</th>\n",
       "      <td>0</td>\n",
       "      <td>0</td>\n",
       "      <td>0</td>\n",
       "      <td>1</td>\n",
       "      <td>0</td>\n",
       "      <td>0</td>\n",
       "      <td>0</td>\n",
       "      <td>0</td>\n",
       "      <td>0</td>\n",
       "      <td>0</td>\n",
       "      <td>...</td>\n",
       "      <td>0</td>\n",
       "      <td>1</td>\n",
       "      <td>0</td>\n",
       "      <td>0</td>\n",
       "      <td>0</td>\n",
       "      <td>0</td>\n",
       "      <td>0</td>\n",
       "      <td>1</td>\n",
       "      <td>1</td>\n",
       "      <td>0</td>\n",
       "    </tr>\n",
       "    <tr>\n",
       "      <th>2</th>\n",
       "      <td>0</td>\n",
       "      <td>1</td>\n",
       "      <td>0</td>\n",
       "      <td>0</td>\n",
       "      <td>0</td>\n",
       "      <td>0</td>\n",
       "      <td>0</td>\n",
       "      <td>0</td>\n",
       "      <td>0</td>\n",
       "      <td>1</td>\n",
       "      <td>...</td>\n",
       "      <td>0</td>\n",
       "      <td>1</td>\n",
       "      <td>1</td>\n",
       "      <td>0</td>\n",
       "      <td>0</td>\n",
       "      <td>0</td>\n",
       "      <td>0</td>\n",
       "      <td>0</td>\n",
       "      <td>0</td>\n",
       "      <td>1</td>\n",
       "    </tr>\n",
       "    <tr>\n",
       "      <th>3</th>\n",
       "      <td>1</td>\n",
       "      <td>0</td>\n",
       "      <td>0</td>\n",
       "      <td>0</td>\n",
       "      <td>0</td>\n",
       "      <td>0</td>\n",
       "      <td>0</td>\n",
       "      <td>0</td>\n",
       "      <td>0</td>\n",
       "      <td>1</td>\n",
       "      <td>...</td>\n",
       "      <td>0</td>\n",
       "      <td>0</td>\n",
       "      <td>1</td>\n",
       "      <td>0</td>\n",
       "      <td>0</td>\n",
       "      <td>0</td>\n",
       "      <td>0</td>\n",
       "      <td>0</td>\n",
       "      <td>1</td>\n",
       "      <td>0</td>\n",
       "    </tr>\n",
       "    <tr>\n",
       "      <th>4</th>\n",
       "      <td>1</td>\n",
       "      <td>0</td>\n",
       "      <td>0</td>\n",
       "      <td>0</td>\n",
       "      <td>0</td>\n",
       "      <td>0</td>\n",
       "      <td>0</td>\n",
       "      <td>0</td>\n",
       "      <td>0</td>\n",
       "      <td>1</td>\n",
       "      <td>...</td>\n",
       "      <td>0</td>\n",
       "      <td>0</td>\n",
       "      <td>1</td>\n",
       "      <td>0</td>\n",
       "      <td>0</td>\n",
       "      <td>0</td>\n",
       "      <td>0</td>\n",
       "      <td>0</td>\n",
       "      <td>1</td>\n",
       "      <td>0</td>\n",
       "    </tr>\n",
       "    <tr>\n",
       "      <th>...</th>\n",
       "      <td>...</td>\n",
       "      <td>...</td>\n",
       "      <td>...</td>\n",
       "      <td>...</td>\n",
       "      <td>...</td>\n",
       "      <td>...</td>\n",
       "      <td>...</td>\n",
       "      <td>...</td>\n",
       "      <td>...</td>\n",
       "      <td>...</td>\n",
       "      <td>...</td>\n",
       "      <td>...</td>\n",
       "      <td>...</td>\n",
       "      <td>...</td>\n",
       "      <td>...</td>\n",
       "      <td>...</td>\n",
       "      <td>...</td>\n",
       "      <td>...</td>\n",
       "      <td>...</td>\n",
       "      <td>...</td>\n",
       "      <td>...</td>\n",
       "    </tr>\n",
       "    <tr>\n",
       "      <th>199518</th>\n",
       "      <td>0</td>\n",
       "      <td>0</td>\n",
       "      <td>0</td>\n",
       "      <td>0</td>\n",
       "      <td>0</td>\n",
       "      <td>1</td>\n",
       "      <td>0</td>\n",
       "      <td>0</td>\n",
       "      <td>0</td>\n",
       "      <td>1</td>\n",
       "      <td>...</td>\n",
       "      <td>0</td>\n",
       "      <td>1</td>\n",
       "      <td>1</td>\n",
       "      <td>0</td>\n",
       "      <td>0</td>\n",
       "      <td>0</td>\n",
       "      <td>0</td>\n",
       "      <td>0</td>\n",
       "      <td>0</td>\n",
       "      <td>1</td>\n",
       "    </tr>\n",
       "    <tr>\n",
       "      <th>199519</th>\n",
       "      <td>0</td>\n",
       "      <td>0</td>\n",
       "      <td>0</td>\n",
       "      <td>0</td>\n",
       "      <td>1</td>\n",
       "      <td>0</td>\n",
       "      <td>0</td>\n",
       "      <td>0</td>\n",
       "      <td>0</td>\n",
       "      <td>0</td>\n",
       "      <td>...</td>\n",
       "      <td>0</td>\n",
       "      <td>1</td>\n",
       "      <td>0</td>\n",
       "      <td>0</td>\n",
       "      <td>0</td>\n",
       "      <td>0</td>\n",
       "      <td>0</td>\n",
       "      <td>1</td>\n",
       "      <td>1</td>\n",
       "      <td>0</td>\n",
       "    </tr>\n",
       "    <tr>\n",
       "      <th>199520</th>\n",
       "      <td>0</td>\n",
       "      <td>0</td>\n",
       "      <td>0</td>\n",
       "      <td>1</td>\n",
       "      <td>0</td>\n",
       "      <td>0</td>\n",
       "      <td>0</td>\n",
       "      <td>0</td>\n",
       "      <td>0</td>\n",
       "      <td>1</td>\n",
       "      <td>...</td>\n",
       "      <td>0</td>\n",
       "      <td>1</td>\n",
       "      <td>0</td>\n",
       "      <td>0</td>\n",
       "      <td>0</td>\n",
       "      <td>0</td>\n",
       "      <td>0</td>\n",
       "      <td>1</td>\n",
       "      <td>0</td>\n",
       "      <td>1</td>\n",
       "    </tr>\n",
       "    <tr>\n",
       "      <th>199521</th>\n",
       "      <td>0</td>\n",
       "      <td>1</td>\n",
       "      <td>0</td>\n",
       "      <td>0</td>\n",
       "      <td>0</td>\n",
       "      <td>0</td>\n",
       "      <td>0</td>\n",
       "      <td>0</td>\n",
       "      <td>0</td>\n",
       "      <td>1</td>\n",
       "      <td>...</td>\n",
       "      <td>0</td>\n",
       "      <td>1</td>\n",
       "      <td>1</td>\n",
       "      <td>0</td>\n",
       "      <td>0</td>\n",
       "      <td>0</td>\n",
       "      <td>0</td>\n",
       "      <td>0</td>\n",
       "      <td>0</td>\n",
       "      <td>1</td>\n",
       "    </tr>\n",
       "    <tr>\n",
       "      <th>199522</th>\n",
       "      <td>0</td>\n",
       "      <td>0</td>\n",
       "      <td>1</td>\n",
       "      <td>0</td>\n",
       "      <td>0</td>\n",
       "      <td>0</td>\n",
       "      <td>0</td>\n",
       "      <td>0</td>\n",
       "      <td>0</td>\n",
       "      <td>0</td>\n",
       "      <td>...</td>\n",
       "      <td>0</td>\n",
       "      <td>1</td>\n",
       "      <td>0</td>\n",
       "      <td>0</td>\n",
       "      <td>0</td>\n",
       "      <td>0</td>\n",
       "      <td>0</td>\n",
       "      <td>1</td>\n",
       "      <td>1</td>\n",
       "      <td>0</td>\n",
       "    </tr>\n",
       "  </tbody>\n",
       "</table>\n",
       "<p>199523 rows × 307 columns</p>\n",
       "</div>"
      ],
      "text/plain": [
       "        AAGE_(-0.09, 15.0]  AAGE_(15.0, 30.0]  AAGE_(30.0, 45.0]  \\\n",
       "0                        0                  0                  0   \n",
       "1                        0                  0                  0   \n",
       "2                        0                  1                  0   \n",
       "3                        1                  0                  0   \n",
       "4                        1                  0                  0   \n",
       "...                    ...                ...                ...   \n",
       "199518                   0                  0                  0   \n",
       "199519                   0                  0                  0   \n",
       "199520                   0                  0                  0   \n",
       "199521                   0                  1                  0   \n",
       "199522                   0                  0                  1   \n",
       "\n",
       "        AAGE_(45.0, 60.0]  AAGE_(60.0, 75.0]  AAGE_(75.0, 90.0]  \\\n",
       "0                       0                  1                  0   \n",
       "1                       1                  0                  0   \n",
       "2                       0                  0                  0   \n",
       "3                       0                  0                  0   \n",
       "4                       0                  0                  0   \n",
       "...                   ...                ...                ...   \n",
       "199518                  0                  0                  1   \n",
       "199519                  0                  1                  0   \n",
       "199520                  1                  0                  0   \n",
       "199521                  0                  0                  0   \n",
       "199522                  0                  0                  0   \n",
       "\n",
       "        ACLSWKR_ Federal government  ACLSWKR_ Local government  \\\n",
       "0                                 0                          0   \n",
       "1                                 0                          0   \n",
       "2                                 0                          0   \n",
       "3                                 0                          0   \n",
       "4                                 0                          0   \n",
       "...                             ...                        ...   \n",
       "199518                            0                          0   \n",
       "199519                            0                          0   \n",
       "199520                            0                          0   \n",
       "199521                            0                          0   \n",
       "199522                            0                          0   \n",
       "\n",
       "        ACLSWKR_ Never worked  ACLSWKR_ Not in universe  ...  VETYN_1  \\\n",
       "0                           0                         1  ...        0   \n",
       "1                           0                         0  ...        0   \n",
       "2                           0                         1  ...        0   \n",
       "3                           0                         1  ...        0   \n",
       "4                           0                         1  ...        0   \n",
       "...                       ...                       ...  ...      ...   \n",
       "199518                      0                         1  ...        0   \n",
       "199519                      0                         0  ...        0   \n",
       "199520                      0                         1  ...        0   \n",
       "199521                      0                         1  ...        0   \n",
       "199522                      0                         0  ...        0   \n",
       "\n",
       "        VETYN_2  WKSWORK_(-0.052, 8.667]  WKSWORK_(8.667, 17.333]  \\\n",
       "0             1                        1                        0   \n",
       "1             1                        0                        0   \n",
       "2             1                        1                        0   \n",
       "3             0                        1                        0   \n",
       "4             0                        1                        0   \n",
       "...         ...                      ...                      ...   \n",
       "199518        1                        1                        0   \n",
       "199519        1                        0                        0   \n",
       "199520        1                        0                        0   \n",
       "199521        1                        1                        0   \n",
       "199522        1                        0                        0   \n",
       "\n",
       "        WKSWORK_(17.333, 26.0]  WKSWORK_(26.0, 34.667]  \\\n",
       "0                            0                       0   \n",
       "1                            0                       0   \n",
       "2                            0                       0   \n",
       "3                            0                       0   \n",
       "4                            0                       0   \n",
       "...                        ...                     ...   \n",
       "199518                       0                       0   \n",
       "199519                       0                       0   \n",
       "199520                       0                       0   \n",
       "199521                       0                       0   \n",
       "199522                       0                       0   \n",
       "\n",
       "        WKSWORK_(34.667, 43.333]  WKSWORK_(43.333, 52.0]  YEAR_94  YEAR_95  \n",
       "0                              0                       0        0        1  \n",
       "1                              0                       1        1        0  \n",
       "2                              0                       0        0        1  \n",
       "3                              0                       0        1        0  \n",
       "4                              0                       0        1        0  \n",
       "...                          ...                     ...      ...      ...  \n",
       "199518                         0                       0        0        1  \n",
       "199519                         0                       1        1        0  \n",
       "199520                         0                       1        0        1  \n",
       "199521                         0                       0        0        1  \n",
       "199522                         0                       1        1        0  \n",
       "\n",
       "[199523 rows x 307 columns]"
      ]
     },
     "execution_count": 91,
     "metadata": {},
     "output_type": "execute_result"
    }
   ],
   "source": [
    "data"
   ]
  },
  {
   "cell_type": "markdown",
   "metadata": {},
   "source": [
    "PCA"
   ]
  },
  {
   "cell_type": "code",
   "execution_count": 92,
   "metadata": {},
   "outputs": [
    {
     "data": {
      "image/png": "[encoded data removed]",
      "text/plain": [
       "<Figure size 432x288 with 1 Axes>"
      ]
     },
     "metadata": {
      "needs_background": "light"
     },
     "output_type": "display_data"
    }
   ],
   "source": [
    "pca = PCA()\n",
    "pca.fit(np.array(data))\n",
    "exp_var_rat = pca.explained_variance_ratio_\n",
    "cum_exp_var_perc = np.cumsum(exp_var_rat)\n",
    "plt.plot(cum_exp_var_perc)\n",
    "plt.xlabel('Cumulative explained variance')\n",
    "plt.ylabel('Number of components')\n",
    "plt.title('PCA Analysis')\n",
    "plt.savefig('../Plots/Dimesionality_Reduction/pca_plot.png', facecolor='white', bbox_inches='tight')\n",
    "plt.show()\n"
   ]
  },
  {
   "cell_type": "code",
   "execution_count": 93,
   "metadata": {},
   "outputs": [
    {
     "name": "stdout",
     "output_type": "stream",
     "text": [
      "0.8059342801852417\n"
     ]
    }
   ],
   "source": [
    "print(cum_exp_var_perc[30])"
   ]
  },
  {
   "cell_type": "code",
   "execution_count": 94,
   "metadata": {},
   "outputs": [],
   "source": [
    "# exp_var = []\n",
    "# for comp in tqdm(range(2, 111)):\n",
    "#     pca = PCA(comp)\n",
    "#     pca.fit(np.array(data))\n",
    "#     exp_var_rat = round(sum(list(pca.explained_variance_ratio_))*100, 2)\n",
    "#     print(f'comps = {comp} | var = {exp_var_rat}')\n",
    "#     exp_var.append(exp_var_rat)"
   ]
  },
  {
   "cell_type": "code",
   "execution_count": 95,
   "metadata": {},
   "outputs": [],
   "source": [
    "# plt.plot([x for x in range(2, 101)], exp_var)\n"
   ]
  },
  {
   "cell_type": "code",
   "execution_count": 96,
   "metadata": {},
   "outputs": [],
   "source": [
    "pca_final = PCA(n_components=30)\n",
    "dim_reduced_data = pca_final.fit_transform(np.array(data))"
   ]
  },
  {
   "cell_type": "code",
   "execution_count": 97,
   "metadata": {},
   "outputs": [
    {
     "data": {
      "text/plain": [
       "(199523, 30)"
      ]
     },
     "execution_count": 97,
     "metadata": {},
     "output_type": "execute_result"
    }
   ],
   "source": [
    "dim_reduced_data.shape"
   ]
  },
  {
   "cell_type": "markdown",
   "metadata": {},
   "source": [
    "CLUSTERING"
   ]
  },
  {
   "cell_type": "code",
   "execution_count": 98,
   "metadata": {},
   "outputs": [],
   "source": [
    "num_samples = data.shape[0]\n"
   ]
  },
  {
   "cell_type": "code",
   "execution_count": 99,
   "metadata": {},
   "outputs": [
    {
     "data": {
      "application/vnd.jupyter.widget-view+json": {
       "model_id": "c7f65a79104e40a8928b60d2e2c0eb85",
       "version_major": 2,
       "version_minor": 0
      },
      "text/plain": [
       "  0%|          | 0/15 [00:00<?, ?it/s]"
      ]
     },
     "metadata": {},
     "output_type": "display_data"
    },
    {
     "name": "stdout",
     "output_type": "stream",
     "text": [
      "-------- K VALUE = 10 --------\n",
      "average within cluster distance = 146234.88291260303\n",
      "Temp average within cluster distance = 146234.88291260303\n",
      "-------- K VALUE = 11 --------\n"
     ]
    },
    {
     "name": "stderr",
     "output_type": "stream",
     "text": [
      "C:\\Users\\SAMYAK~1\\AppData\\Local\\Temp/ipykernel_41928/2287205978.py:27: VisibleDeprecationWarning: Creating an ndarray from ragged nested sequences (which is a list-or-tuple of lists-or-tuples-or ndarrays with different lengths or shapes) is deprecated. If you meant to do this, you must specify 'dtype=object' when creating the ndarray.\n",
      "  np.save(f'../model_info/clusters_{k_value}.npy', np.array(clusters))\n"
     ]
    },
    {
     "name": "stdout",
     "output_type": "stream",
     "text": [
      "average within cluster distance = 147652.9226291652\n",
      "Temp average within cluster distance = 147652.9226291652\n",
      "-------- K VALUE = 12 --------\n",
      "average within cluster distance = 115286.2611877601\n",
      "Temp average within cluster distance = 115286.2611877601\n",
      "-------- K VALUE = 13 --------\n",
      "average within cluster distance = 114640.95284172031\n",
      "Temp average within cluster distance = 114640.95284172031\n",
      "-------- K VALUE = 14 --------\n",
      "average within cluster distance = 97418.1117005153\n",
      "Temp average within cluster distance = 97418.1117005153\n",
      "-------- K VALUE = 15 --------\n",
      "average within cluster distance = 81576.28072263119\n",
      "Temp average within cluster distance = 81576.28072263119\n",
      "-------- K VALUE = 16 --------\n",
      "average within cluster distance = 87320.25564299115\n",
      "Temp average within cluster distance = 87320.25564299115\n",
      "-------- K VALUE = 17 --------\n",
      "average within cluster distance = 79353.45536390285\n",
      "Temp average within cluster distance = 79353.45536390285\n",
      "-------- K VALUE = 18 --------\n",
      "average within cluster distance = 76330.52099880119\n",
      "Temp average within cluster distance = 76330.52099880119\n",
      "-------- K VALUE = 19 --------\n",
      "average within cluster distance = 73664.92606442898\n",
      "Temp average within cluster distance = 73664.92606442898\n",
      "-------- K VALUE = 20 --------\n",
      "average within cluster distance = 61547.76400327999\n",
      "Temp average within cluster distance = 61547.76400327999\n",
      "-------- K VALUE = 21 --------\n",
      "average within cluster distance = 56102.96942088386\n",
      "Temp average within cluster distance = 56102.96942088386\n",
      "-------- K VALUE = 22 --------\n",
      "average within cluster distance = 61293.08505866686\n",
      "Temp average within cluster distance = 61293.08505866686\n",
      "-------- K VALUE = 23 --------\n",
      "average within cluster distance = 46677.0094849013\n",
      "Temp average within cluster distance = 46677.0094849013\n",
      "-------- K VALUE = 24 --------\n",
      "average within cluster distance = 51124.26684204044\n",
      "Temp average within cluster distance = 51124.26684204044\n"
     ]
    }
   ],
   "source": [
    "avg_within_cluster_distance = {}\n",
    "temp_avg_within_cluster_distance = {}\n",
    "for k_value in tqdm(range(10, 25)):\n",
    "\n",
    "    print(f'-------- K VALUE = {k_value} --------')\n",
    "    random_points = np.array(pd.DataFrame(dim_reduced_data).sample(n=k_value)).tolist()\n",
    "\n",
    "    # print('PERFORMING CLUSTERING')\n",
    "    medians_init = random_points\n",
    "    kmedians_clusterer = kmedians(dim_reduced_data, medians_init)\n",
    "    kmedians_clusterer.process()\n",
    "\n",
    "    file = open(f'../models/kmedians_{k_value}.pickle', 'wb')\n",
    "    pickle.dump(kmedians_clusterer, file)\n",
    "    file.close()\n",
    "\n",
    "    avg_cluster_dist = kmedians_clusterer.get_total_wce() / k_value\n",
    "    temp_avg_cluster_dist = kmedians_clusterer.get_total_wce() / num_samples\n",
    "    \n",
    "    avg_within_cluster_distance[k_value] = avg_cluster_dist\n",
    "    temp_avg_within_cluster_distance[k_value] = temp_avg_cluster_dist\n",
    "    print(f'average within cluster distance = {avg_cluster_dist}')\n",
    "    print(f'Temp average within cluster distance = {avg_cluster_dist}')\n",
    "    # print('INSTANCE PROCESSED')\n",
    "    clusters = kmedians_clusterer.get_clusters()\n",
    "    medians = kmedians_clusterer.get_medians()\n",
    "    np.save(f'../model_info/clusters_{k_value}.npy', np.array(clusters))\n",
    "    np.save(f'../model_info/medians_{k_value}.npy', np.array(medians))\n",
    "\n",
    "    # print('CLUSTERING PERFORMED')\n",
    "\n"
   ]
  },
  {
   "cell_type": "code",
   "execution_count": 100,
   "metadata": {},
   "outputs": [],
   "source": [
    "# random_points = np.array(pd.DataFrame(B).sample(n=10)).tolist()"
   ]
  },
  {
   "cell_type": "code",
   "execution_count": 101,
   "metadata": {},
   "outputs": [
    {
     "data": {
      "text/plain": [
       "{10: 146234.88291260303,\n",
       " 11: 147652.9226291652,\n",
       " 12: 115286.2611877601,\n",
       " 13: 114640.95284172031,\n",
       " 14: 97418.1117005153,\n",
       " 15: 81576.28072263119,\n",
       " 16: 87320.25564299115,\n",
       " 17: 79353.45536390285,\n",
       " 18: 76330.52099880119,\n",
       " 19: 73664.92606442898,\n",
       " 20: 61547.76400327999,\n",
       " 21: 56102.96942088386,\n",
       " 22: 61293.08505866686,\n",
       " 23: 46677.0094849013,\n",
       " 24: 51124.26684204044}"
      ]
     },
     "execution_count": 101,
     "metadata": {},
     "output_type": "execute_result"
    }
   ],
   "source": [
    "avg_within_cluster_distance"
   ]
  },
  {
   "cell_type": "code",
   "execution_count": 103,
   "metadata": {},
   "outputs": [
    {
     "data": {
      "image/png": "[encoded data removed]",
      "text/plain": [
       "<Figure size 432x288 with 1 Axes>"
      ]
     },
     "metadata": {
      "needs_background": "light"
     },
     "output_type": "display_data"
    }
   ],
   "source": [
    "plt.plot([x for x in range(10, 25)], list(avg_within_cluster_distance.values()))\n",
    "plt.xlabel('No. of clusters')\n",
    "plt.ylabel('Average cluster distance')\n",
    "plt.title('avg cluster distance vs number of clusters')\n",
    "plt.show()"
   ]
  },
  {
   "cell_type": "code",
   "execution_count": 104,
   "metadata": {},
   "outputs": [
    {
     "data": {
      "image/png": "[encoded data removed]",
      "text/plain": [
       "<Figure size 432x288 with 1 Axes>"
      ]
     },
     "metadata": {
      "needs_background": "light"
     },
     "output_type": "display_data"
    }
   ],
   "source": [
    "plt.plot([x for x in range(10, 25)], list(temp_avg_within_cluster_distance.values()))\n",
    "plt.xlabel('No. of clusters')\n",
    "plt.ylabel('Average cluster distance')\n",
    "plt.title('avg cluster distance vs number of clusters')\n",
    "plt.show()\n"
   ]
  },
  {
   "cell_type": "code",
   "execution_count": null,
   "metadata": {},
   "outputs": [],
   "source": [
    "def plot_k_clusters(data_points, k_clusters, k_medians, k):\n",
    "    return\n"
   ]
  },
  {
   "cell_type": "markdown",
   "metadata": {},
   "source": [
    "Using 3 dimensional data for visulaization"
   ]
  },
  {
   "cell_type": "code",
   "execution_count": 122,
   "metadata": {},
   "outputs": [],
   "source": [
    "pca_3d = PCA(n_components=3)\n",
    "dim_3d_data = pca_3d.fit_transform(data)"
   ]
  },
  {
   "cell_type": "code",
   "execution_count": 123,
   "metadata": {},
   "outputs": [
    {
     "name": "stdout",
     "output_type": "stream",
     "text": [
      "-------- K VALUE = 10 --------\n",
      "average within cluster distance = 6609.587728859474\n",
      "Temp average within cluster distance = 0.3312694641148877\n"
     ]
    }
   ],
   "source": [
    "k_value_3d = 10\n",
    "print(f'-------- K VALUE = {k_value_3d} --------')\n",
    "random_points_3d = np.array(pd.DataFrame(dim_3d_data).sample(n=k_value_3d)).tolist()\n",
    "\n",
    "# print('PERFORMING CLUSTERING')\n",
    "medians_init_3d = random_points_3d\n",
    "kmedians_clusterer_3d = kmedians(dim_3d_data, medians_init_3d)\n",
    "kmedians_clusterer_3d.process()\n",
    "\n",
    "# file = open(f'../models/kmedians_{k_value}.pickle', 'wb')\n",
    "# pickle.dump(kmedians_clusterer, file)\n",
    "# file.close()\n",
    "\n",
    "avg_cluster_dist_3d = kmedians_clusterer_3d.get_total_wce() / k_value_3d\n",
    "temp_avg_cluster_dist_3d = kmedians_clusterer_3d.get_total_wce() / dim_3d_data.shape[0]\n",
    "\n",
    "# avg_within_cluster_distance[k_value] = avg_cluster_dist\n",
    "# temp_avg_within_cluster_distance[k_value] = temp_avg_cluster_dist\n",
    "print(f'average within cluster distance = {avg_cluster_dist_3d}')\n",
    "print(f'Temp average within cluster distance = {temp_avg_cluster_dist_3d}')\n",
    "# print('INSTANCE PROCESSED')\n",
    "clusters_3d = kmedians_clusterer_3d.get_clusters()\n",
    "medians_3d = kmedians_clusterer_3d.get_medians()\n",
    "# np.save(f'../model_info/clusters_{k_value}.npy', np.array(clusters))\n",
    "# np.save(f'../model_info/medians_{k_value}.npy', np.array(medians))"
   ]
  },
  {
   "cell_type": "code",
   "execution_count": 153,
   "metadata": {},
   "outputs": [
    {
     "name": "stderr",
     "output_type": "stream",
     "text": [
      "C:\\Users\\Samyak Jain\\AppData\\Local\\Programs\\Python\\Python39\\lib\\site-packages\\pandas\\core\\series.py:1056: SettingWithCopyWarning: \n",
      "A value is trying to be set on a copy of a slice from a DataFrame\n",
      "\n",
      "See the caveats in the documentation: https://pandas.pydata.org/pandas-docs/stable/user_guide/indexing.html#returning-a-view-versus-a-copy\n",
      "  cacher_needs_updating = self._check_is_chained_assignment_possible()\n"
     ]
    }
   ],
   "source": [
    "# dim_3d_data\n",
    "pca_df = pd.DataFrame(dim_3d_data, columns=['pca-one', 'pca-two', 'pca-three'])\n",
    "pca_df['cluster'] = 0\n",
    "\n",
    "for clust_idx in range(len(clusters_3d)):\n",
    "    for point_idx in clusters_3d[clust_idx]:\n",
    "        pca_df.iloc[point_idx]['cluster'] = clust_idx + 1\n",
    "pca_df    \n",
    "# pca_df\n",
    "# ax = plt.figure(figsize=(16,10)).gca(projection='3d')\n",
    "# # ax.view_init(20, 90)\n",
    "# ax.scatter(\n",
    "#     xs=pca_df['pca-one'], \n",
    "#     ys=pca_df['pca-two'], \n",
    "#     zs=pca_df['pca-three'], \n",
    "#     # c=df_cur[\"label\"], \n",
    "#     cmap='coolwarm',\n",
    "# )\n",
    "# ax.set_xlabel('x')\n",
    "# ax.set_ylabel('y')\n",
    "# ax.set_zlabel('z')\n",
    "# plt.show()"
   ]
  },
  {
   "cell_type": "code",
   "execution_count": 142,
   "metadata": {},
   "outputs": [
    {
     "name": "stdout",
     "output_type": "stream",
     "text": [
      "type_encoding.CLUSTER_INDEX_LIST_SEPARATION\n"
     ]
    }
   ],
   "source": [
    "print(kmedians_clusterer_3d.get_cluster_encoding())"
   ]
  }
 ],
 "metadata": {
  "interpreter": {
   "hash": "95998ac47eb65ec9e5c98c2254b1cb40f9c7258e6e03781a4daecb7b0f9a0cae"
  },
  "kernelspec": {
   "display_name": "Python 3.9.5 64-bit",
   "language": "python",
   "name": "python3"
  },
  "language_info": {
   "codemirror_mode": {
    "name": "ipython",
    "version": 3
   },
   "file_extension": ".py",
   "mimetype": "text/x-python",
   "name": "python",
   "nbconvert_exporter": "python",
   "pygments_lexer": "ipython3",
   "version": "3.9.5"
  },
  "orig_nbformat": 4
 },
 "nbformat": 4,
 "nbformat_minor": 2
}
