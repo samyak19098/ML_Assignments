{
 "cells": [
  {
   "cell_type": "code",
   "execution_count": 19,
   "metadata": {},
   "outputs": [],
   "source": [
    "import numpy as np\n",
    "import pandas as pd\n",
    "import matplotlib.pyplot as plt\n",
    "from sklearn import preprocessing\n",
    "from pyclustering.cluster.kmedians import kmedians\n",
    "from pyclustering.cluster import cluster_visualizer\n",
    "from pyclustering.cluster import cluster_visualizer_multidim\n",
    "from sklearn.decomposition import PCA\n",
    "import pickle\n",
    "from tqdm.notebook import tqdm"
   ]
  },
  {
   "cell_type": "code",
   "execution_count": 20,
   "metadata": {},
   "outputs": [],
   "source": [
    "dataset_description = pd.read_csv('../Data/Dataset_Description.csv')"
   ]
  },
  {
   "cell_type": "code",
   "execution_count": 21,
   "metadata": {},
   "outputs": [],
   "source": [
    "# dataset_description"
   ]
  },
  {
   "cell_type": "code",
   "execution_count": 22,
   "metadata": {},
   "outputs": [],
   "source": [
    "population_data_raw = pd.read_csv('../Data/population.csv')\n",
    "# population_data_raw "
   ]
  },
  {
   "cell_type": "code",
   "execution_count": 23,
   "metadata": {},
   "outputs": [],
   "source": [
    "def preprocessing(df):\n",
    "\n",
    "    #replace ? with Nan\n",
    "    df = df.replace({' ?' :  np.nan})\n",
    "\n",
    "    #drop columns with more than 40$ NaN values\n",
    "    cols = df.columns\n",
    "    missing_percentages = (df.isna().sum() / len(df)) * 100\n",
    "    cols_to_drop = []\n",
    "    for col in cols:\n",
    "        if(missing_percentages[col] > 40.0):\n",
    "            cols_to_drop.append(col)\n",
    "    print(f'Dropping = {cols_to_drop}')\n",
    "    df = df.drop(cols_to_drop, axis=1)\n",
    "    return df"
   ]
  },
  {
   "cell_type": "code",
   "execution_count": 24,
   "metadata": {},
   "outputs": [
    {
     "name": "stdout",
     "output_type": "stream",
     "text": [
      "Dropping = ['MIGMTR1', 'MIGMTR3', 'MIGMTR4', 'MIGSUN']\n",
      "(199523, 36)\n"
     ]
    }
   ],
   "source": [
    "data = preprocessing(population_data_raw)\n",
    "print(data.shape)"
   ]
  },
  {
   "cell_type": "code",
   "execution_count": 25,
   "metadata": {},
   "outputs": [],
   "source": [
    "def plot_histogram(df, numeric_columns, categorical_columns):\n",
    "    # features = df.columns\n",
    "    # for feat in features:\n",
    "    #     plt.figure(figsize=(25,5))\n",
    "    #     if(feat in numeric_columns):\n",
    "    #         df[feat].hist(bins=10,edgecolor='black', linewidth=1.5)\n",
    "\n",
    "    #     else:\n",
    "    #         unique_cat_values = len(df[feat].unique())\n",
    "    #         print(f'No. of unique Categories : {unique_cat_values}')\n",
    "    #         df[feat].hist(bins = unique_cat_values, edgecolor='black', linewidth=1.5)\n",
    "    #     plt.xlabel(feat)\n",
    "    #     plt.ylabel('Count')\n",
    "    #     plt.title(f'Histogram : {feat}')\n",
    "    #     plt.savefig(f'../Plots/Feature_Analysis/{feat}_hist', facecolor='w', bbox_inches='tight')\n",
    "    #     plt.show()\n",
    "    features = df.columns\n",
    "    for feat in features:\n",
    "        plt.figure(figsize=(25, 5))\n",
    "        # if(feat in numeric_columns)\n",
    "        unique_cat_values = len(df[feat].unique())\n",
    "        print(f'No. of unique Categories : {unique_cat_values}')\n",
    "        df[feat].astype(str).hist(bins = unique_cat_values, edgecolor='black', linewidth=1.5)\n",
    "        plt.xlabel(feat)\n",
    "        plt.ylabel('Count')\n",
    "        plt.title(f'Histogram : {feat}')\n",
    "        plt.savefig(f'../Plots/Feature_Analysis/{feat}_hist', facecolor='w', bbox_inches='tight')\n",
    "        plt.show()"
   ]
  },
  {
   "cell_type": "code",
   "execution_count": 26,
   "metadata": {},
   "outputs": [],
   "source": [
    "def compute(df, col):\n",
    "    max_freq = df[col].value_counts().max()\n",
    "    max_perc = (max_freq / df.shape[0]) * 100\n",
    "    print(max_perc)"
   ]
  },
  {
   "cell_type": "code",
   "execution_count": 27,
   "metadata": {},
   "outputs": [],
   "source": [
    "def feature_analysis(df):\n",
    "    data_columns = df.columns\n",
    "    numeric_columns = ['AAGE', 'AHRSPAY', 'CAPGAIN', 'CAPLOSS', 'DIVVAL', 'WKSWORK']\n",
    "    all_cols_set = set(data_columns)\n",
    "    numerical_cols_set = set(numeric_columns)\n",
    "    categorical_cols = list(all_cols_set - numerical_cols_set)\n",
    "    \n",
    "    for col in numeric_columns:\n",
    "        df[col] = pd.cut(x=df[col], bins=6)\n",
    "    # df['AAGE']\n",
    "    # plot_histogram(df, numeric_columns, categorical_cols)\n",
    "    total_count = df.shape[0]\n",
    "\n",
    "    cols_to_drop = []\n",
    "    for col in data_columns:\n",
    "        max_freq = df[col].value_counts().max()\n",
    "        max_perc = (max_freq / total_count) * 100\n",
    "        if(max_perc > 70.0):\n",
    "            cols_to_drop.append(col)\n",
    "    print(f'Dropping {len(cols_to_drop)} cols \\n {cols_to_drop}')\n",
    "    df = df.drop(cols_to_drop, axis=1)\n",
    "    return df\n",
    "\n",
    "    # print(df)\n",
    "\n",
    "\n",
    "    # print(categorical_cols)\n"
   ]
  },
  {
   "cell_type": "code",
   "execution_count": 28,
   "metadata": {},
   "outputs": [],
   "source": [
    "# data.mode()"
   ]
  },
  {
   "cell_type": "code",
   "execution_count": 29,
   "metadata": {},
   "outputs": [
    {
     "name": "stdout",
     "output_type": "stream",
     "text": [
      "Dropping 19 cols \n",
      " ['AHRSPAY', 'AHSCOL', 'ARACE', 'AREORGN', 'AUNMEM', 'AUNTYPE', 'CAPGAIN', 'CAPLOSS', 'DIVVAL', 'GRINREG', 'GRINST', 'PARENT', 'PEFNTVTY', 'PEMNTVTY', 'PENATVTY', 'PRCITSHP', 'SEOTR', 'VETQVA', 'VETYN']\n"
     ]
    }
   ],
   "source": [
    "data = feature_analysis(data)"
   ]
  },
  {
   "cell_type": "code",
   "execution_count": 30,
   "metadata": {},
   "outputs": [
    {
     "data": {
      "text/plain": [
       "Index(['AAGE', 'ACLSWKR', 'ADTIND', 'ADTOCC', 'AHGA', 'AMARITL', 'AMJIND',\n",
       "       'AMJOCC', 'ASEX', 'AWKSTAT', 'FILESTAT', 'HHDFMX', 'HHDREL', 'MIGSAME',\n",
       "       'NOEMP', 'WKSWORK', 'YEAR'],\n",
       "      dtype='object')"
      ]
     },
     "execution_count": 30,
     "metadata": {},
     "output_type": "execute_result"
    }
   ],
   "source": [
    "data.columns"
   ]
  },
  {
   "cell_type": "code",
   "execution_count": 31,
   "metadata": {},
   "outputs": [
    {
     "data": {
      "text/plain": [
       "AAGE        0\n",
       "ACLSWKR     0\n",
       "ADTIND      0\n",
       "ADTOCC      0\n",
       "AHGA        0\n",
       "AMARITL     0\n",
       "AMJIND      0\n",
       "AMJOCC      0\n",
       "ASEX        0\n",
       "AWKSTAT     0\n",
       "FILESTAT    0\n",
       "HHDFMX      0\n",
       "HHDREL      0\n",
       "MIGSAME     0\n",
       "NOEMP       0\n",
       "WKSWORK     0\n",
       "YEAR        0\n",
       "dtype: int64"
      ]
     },
     "execution_count": 31,
     "metadata": {},
     "output_type": "execute_result"
    }
   ],
   "source": [
    "data.isna().sum()"
   ]
  },
  {
   "cell_type": "code",
   "execution_count": 32,
   "metadata": {},
   "outputs": [
    {
     "data": {
      "text/html": [
       "<div>\n",
       "<style scoped>\n",
       "    .dataframe tbody tr th:only-of-type {\n",
       "        vertical-align: middle;\n",
       "    }\n",
       "\n",
       "    .dataframe tbody tr th {\n",
       "        vertical-align: top;\n",
       "    }\n",
       "\n",
       "    .dataframe thead th {\n",
       "        text-align: right;\n",
       "    }\n",
       "</style>\n",
       "<table border=\"1\" class=\"dataframe\">\n",
       "  <thead>\n",
       "    <tr style=\"text-align: right;\">\n",
       "      <th></th>\n",
       "      <th>AAGE</th>\n",
       "      <th>ACLSWKR</th>\n",
       "      <th>ADTIND</th>\n",
       "      <th>ADTOCC</th>\n",
       "      <th>AHGA</th>\n",
       "      <th>AMARITL</th>\n",
       "      <th>AMJIND</th>\n",
       "      <th>AMJOCC</th>\n",
       "      <th>ASEX</th>\n",
       "      <th>AWKSTAT</th>\n",
       "      <th>FILESTAT</th>\n",
       "      <th>HHDFMX</th>\n",
       "      <th>HHDREL</th>\n",
       "      <th>MIGSAME</th>\n",
       "      <th>NOEMP</th>\n",
       "      <th>WKSWORK</th>\n",
       "      <th>YEAR</th>\n",
       "    </tr>\n",
       "  </thead>\n",
       "  <tbody>\n",
       "    <tr>\n",
       "      <th>0</th>\n",
       "      <td>(-0.09, 15.0]</td>\n",
       "      <td>Not in universe</td>\n",
       "      <td>0</td>\n",
       "      <td>0</td>\n",
       "      <td>High school graduate</td>\n",
       "      <td>Never married</td>\n",
       "      <td>Not in universe or children</td>\n",
       "      <td>Not in universe</td>\n",
       "      <td>Female</td>\n",
       "      <td>Children or Armed Forces</td>\n",
       "      <td>Nonfiler</td>\n",
       "      <td>Householder</td>\n",
       "      <td>Householder</td>\n",
       "      <td>Not in universe under 1 year old</td>\n",
       "      <td>0</td>\n",
       "      <td>(-0.052, 8.667]</td>\n",
       "      <td>94</td>\n",
       "    </tr>\n",
       "  </tbody>\n",
       "</table>\n",
       "</div>"
      ],
      "text/plain": [
       "            AAGE           ACLSWKR  ADTIND  ADTOCC                   AHGA  \\\n",
       "0  (-0.09, 15.0]   Not in universe       0       0   High school graduate   \n",
       "\n",
       "          AMARITL                        AMJIND            AMJOCC     ASEX  \\\n",
       "0   Never married   Not in universe or children   Not in universe   Female   \n",
       "\n",
       "                     AWKSTAT   FILESTAT        HHDFMX        HHDREL  \\\n",
       "0   Children or Armed Forces   Nonfiler   Householder   Householder   \n",
       "\n",
       "                             MIGSAME  NOEMP          WKSWORK  YEAR  \n",
       "0   Not in universe under 1 year old      0  (-0.052, 8.667]    94  "
      ]
     },
     "execution_count": 32,
     "metadata": {},
     "output_type": "execute_result"
    }
   ],
   "source": [
    "data.mode()"
   ]
  },
  {
   "cell_type": "code",
   "execution_count": 33,
   "metadata": {},
   "outputs": [],
   "source": [
    "def column_modifications(df):\n",
    "    column_modes = df.mode()\n",
    "    data_cols = df.columns\n",
    "    print(df.isna().sum())\n",
    "    for col in data_cols:\n",
    "        missing_vals = df[col].isna().sum()\n",
    "        if(missing_vals > 0):\n",
    "            df[col] = df[col].fillna(column_modes[col][0])\n",
    "    print(df.isna().sum())\n",
    "    one_hot_encoded = pd.get_dummies(df, columns=list(df.columns))\n",
    "    df = one_hot_encoded\n",
    "\n",
    "    return df        \n"
   ]
  },
  {
   "cell_type": "code",
   "execution_count": 34,
   "metadata": {},
   "outputs": [
    {
     "name": "stdout",
     "output_type": "stream",
     "text": [
      "AAGE        0\n",
      "ACLSWKR     0\n",
      "ADTIND      0\n",
      "ADTOCC      0\n",
      "AHGA        0\n",
      "AMARITL     0\n",
      "AMJIND      0\n",
      "AMJOCC      0\n",
      "ASEX        0\n",
      "AWKSTAT     0\n",
      "FILESTAT    0\n",
      "HHDFMX      0\n",
      "HHDREL      0\n",
      "MIGSAME     0\n",
      "NOEMP       0\n",
      "WKSWORK     0\n",
      "YEAR        0\n",
      "dtype: int64\n",
      "AAGE        0\n",
      "ACLSWKR     0\n",
      "ADTIND      0\n",
      "ADTOCC      0\n",
      "AHGA        0\n",
      "AMARITL     0\n",
      "AMJIND      0\n",
      "AMJOCC      0\n",
      "ASEX        0\n",
      "AWKSTAT     0\n",
      "FILESTAT    0\n",
      "HHDFMX      0\n",
      "HHDREL      0\n",
      "MIGSAME     0\n",
      "NOEMP       0\n",
      "WKSWORK     0\n",
      "YEAR        0\n",
      "dtype: int64\n",
      "(199523, 257)\n"
     ]
    }
   ],
   "source": [
    "data = column_modifications(data)\n",
    "print(data.shape)"
   ]
  },
  {
   "cell_type": "code",
   "execution_count": 35,
   "metadata": {},
   "outputs": [
    {
     "data": {
      "text/html": [
       "<div>\n",
       "<style scoped>\n",
       "    .dataframe tbody tr th:only-of-type {\n",
       "        vertical-align: middle;\n",
       "    }\n",
       "\n",
       "    .dataframe tbody tr th {\n",
       "        vertical-align: top;\n",
       "    }\n",
       "\n",
       "    .dataframe thead th {\n",
       "        text-align: right;\n",
       "    }\n",
       "</style>\n",
       "<table border=\"1\" class=\"dataframe\">\n",
       "  <thead>\n",
       "    <tr style=\"text-align: right;\">\n",
       "      <th></th>\n",
       "      <th>AAGE_(-0.09, 15.0]</th>\n",
       "      <th>AAGE_(15.0, 30.0]</th>\n",
       "      <th>AAGE_(30.0, 45.0]</th>\n",
       "      <th>AAGE_(45.0, 60.0]</th>\n",
       "      <th>AAGE_(60.0, 75.0]</th>\n",
       "      <th>AAGE_(75.0, 90.0]</th>\n",
       "      <th>ACLSWKR_ Federal government</th>\n",
       "      <th>ACLSWKR_ Local government</th>\n",
       "      <th>ACLSWKR_ Never worked</th>\n",
       "      <th>ACLSWKR_ Not in universe</th>\n",
       "      <th>...</th>\n",
       "      <th>NOEMP_5</th>\n",
       "      <th>NOEMP_6</th>\n",
       "      <th>WKSWORK_(-0.052, 8.667]</th>\n",
       "      <th>WKSWORK_(8.667, 17.333]</th>\n",
       "      <th>WKSWORK_(17.333, 26.0]</th>\n",
       "      <th>WKSWORK_(26.0, 34.667]</th>\n",
       "      <th>WKSWORK_(34.667, 43.333]</th>\n",
       "      <th>WKSWORK_(43.333, 52.0]</th>\n",
       "      <th>YEAR_94</th>\n",
       "      <th>YEAR_95</th>\n",
       "    </tr>\n",
       "  </thead>\n",
       "  <tbody>\n",
       "    <tr>\n",
       "      <th>0</th>\n",
       "      <td>0</td>\n",
       "      <td>0</td>\n",
       "      <td>0</td>\n",
       "      <td>0</td>\n",
       "      <td>1</td>\n",
       "      <td>0</td>\n",
       "      <td>0</td>\n",
       "      <td>0</td>\n",
       "      <td>0</td>\n",
       "      <td>1</td>\n",
       "      <td>...</td>\n",
       "      <td>0</td>\n",
       "      <td>0</td>\n",
       "      <td>1</td>\n",
       "      <td>0</td>\n",
       "      <td>0</td>\n",
       "      <td>0</td>\n",
       "      <td>0</td>\n",
       "      <td>0</td>\n",
       "      <td>0</td>\n",
       "      <td>1</td>\n",
       "    </tr>\n",
       "    <tr>\n",
       "      <th>1</th>\n",
       "      <td>0</td>\n",
       "      <td>0</td>\n",
       "      <td>0</td>\n",
       "      <td>1</td>\n",
       "      <td>0</td>\n",
       "      <td>0</td>\n",
       "      <td>0</td>\n",
       "      <td>0</td>\n",
       "      <td>0</td>\n",
       "      <td>0</td>\n",
       "      <td>...</td>\n",
       "      <td>0</td>\n",
       "      <td>0</td>\n",
       "      <td>0</td>\n",
       "      <td>0</td>\n",
       "      <td>0</td>\n",
       "      <td>0</td>\n",
       "      <td>0</td>\n",
       "      <td>1</td>\n",
       "      <td>1</td>\n",
       "      <td>0</td>\n",
       "    </tr>\n",
       "    <tr>\n",
       "      <th>2</th>\n",
       "      <td>0</td>\n",
       "      <td>1</td>\n",
       "      <td>0</td>\n",
       "      <td>0</td>\n",
       "      <td>0</td>\n",
       "      <td>0</td>\n",
       "      <td>0</td>\n",
       "      <td>0</td>\n",
       "      <td>0</td>\n",
       "      <td>1</td>\n",
       "      <td>...</td>\n",
       "      <td>0</td>\n",
       "      <td>0</td>\n",
       "      <td>1</td>\n",
       "      <td>0</td>\n",
       "      <td>0</td>\n",
       "      <td>0</td>\n",
       "      <td>0</td>\n",
       "      <td>0</td>\n",
       "      <td>0</td>\n",
       "      <td>1</td>\n",
       "    </tr>\n",
       "    <tr>\n",
       "      <th>3</th>\n",
       "      <td>1</td>\n",
       "      <td>0</td>\n",
       "      <td>0</td>\n",
       "      <td>0</td>\n",
       "      <td>0</td>\n",
       "      <td>0</td>\n",
       "      <td>0</td>\n",
       "      <td>0</td>\n",
       "      <td>0</td>\n",
       "      <td>1</td>\n",
       "      <td>...</td>\n",
       "      <td>0</td>\n",
       "      <td>0</td>\n",
       "      <td>1</td>\n",
       "      <td>0</td>\n",
       "      <td>0</td>\n",
       "      <td>0</td>\n",
       "      <td>0</td>\n",
       "      <td>0</td>\n",
       "      <td>1</td>\n",
       "      <td>0</td>\n",
       "    </tr>\n",
       "    <tr>\n",
       "      <th>4</th>\n",
       "      <td>1</td>\n",
       "      <td>0</td>\n",
       "      <td>0</td>\n",
       "      <td>0</td>\n",
       "      <td>0</td>\n",
       "      <td>0</td>\n",
       "      <td>0</td>\n",
       "      <td>0</td>\n",
       "      <td>0</td>\n",
       "      <td>1</td>\n",
       "      <td>...</td>\n",
       "      <td>0</td>\n",
       "      <td>0</td>\n",
       "      <td>1</td>\n",
       "      <td>0</td>\n",
       "      <td>0</td>\n",
       "      <td>0</td>\n",
       "      <td>0</td>\n",
       "      <td>0</td>\n",
       "      <td>1</td>\n",
       "      <td>0</td>\n",
       "    </tr>\n",
       "    <tr>\n",
       "      <th>...</th>\n",
       "      <td>...</td>\n",
       "      <td>...</td>\n",
       "      <td>...</td>\n",
       "      <td>...</td>\n",
       "      <td>...</td>\n",
       "      <td>...</td>\n",
       "      <td>...</td>\n",
       "      <td>...</td>\n",
       "      <td>...</td>\n",
       "      <td>...</td>\n",
       "      <td>...</td>\n",
       "      <td>...</td>\n",
       "      <td>...</td>\n",
       "      <td>...</td>\n",
       "      <td>...</td>\n",
       "      <td>...</td>\n",
       "      <td>...</td>\n",
       "      <td>...</td>\n",
       "      <td>...</td>\n",
       "      <td>...</td>\n",
       "      <td>...</td>\n",
       "    </tr>\n",
       "    <tr>\n",
       "      <th>199518</th>\n",
       "      <td>0</td>\n",
       "      <td>0</td>\n",
       "      <td>0</td>\n",
       "      <td>0</td>\n",
       "      <td>0</td>\n",
       "      <td>1</td>\n",
       "      <td>0</td>\n",
       "      <td>0</td>\n",
       "      <td>0</td>\n",
       "      <td>1</td>\n",
       "      <td>...</td>\n",
       "      <td>0</td>\n",
       "      <td>0</td>\n",
       "      <td>1</td>\n",
       "      <td>0</td>\n",
       "      <td>0</td>\n",
       "      <td>0</td>\n",
       "      <td>0</td>\n",
       "      <td>0</td>\n",
       "      <td>0</td>\n",
       "      <td>1</td>\n",
       "    </tr>\n",
       "    <tr>\n",
       "      <th>199519</th>\n",
       "      <td>0</td>\n",
       "      <td>0</td>\n",
       "      <td>0</td>\n",
       "      <td>0</td>\n",
       "      <td>1</td>\n",
       "      <td>0</td>\n",
       "      <td>0</td>\n",
       "      <td>0</td>\n",
       "      <td>0</td>\n",
       "      <td>0</td>\n",
       "      <td>...</td>\n",
       "      <td>0</td>\n",
       "      <td>0</td>\n",
       "      <td>0</td>\n",
       "      <td>0</td>\n",
       "      <td>0</td>\n",
       "      <td>0</td>\n",
       "      <td>0</td>\n",
       "      <td>1</td>\n",
       "      <td>1</td>\n",
       "      <td>0</td>\n",
       "    </tr>\n",
       "    <tr>\n",
       "      <th>199520</th>\n",
       "      <td>0</td>\n",
       "      <td>0</td>\n",
       "      <td>0</td>\n",
       "      <td>1</td>\n",
       "      <td>0</td>\n",
       "      <td>0</td>\n",
       "      <td>0</td>\n",
       "      <td>0</td>\n",
       "      <td>0</td>\n",
       "      <td>1</td>\n",
       "      <td>...</td>\n",
       "      <td>0</td>\n",
       "      <td>1</td>\n",
       "      <td>0</td>\n",
       "      <td>0</td>\n",
       "      <td>0</td>\n",
       "      <td>0</td>\n",
       "      <td>0</td>\n",
       "      <td>1</td>\n",
       "      <td>0</td>\n",
       "      <td>1</td>\n",
       "    </tr>\n",
       "    <tr>\n",
       "      <th>199521</th>\n",
       "      <td>0</td>\n",
       "      <td>1</td>\n",
       "      <td>0</td>\n",
       "      <td>0</td>\n",
       "      <td>0</td>\n",
       "      <td>0</td>\n",
       "      <td>0</td>\n",
       "      <td>0</td>\n",
       "      <td>0</td>\n",
       "      <td>1</td>\n",
       "      <td>...</td>\n",
       "      <td>0</td>\n",
       "      <td>0</td>\n",
       "      <td>1</td>\n",
       "      <td>0</td>\n",
       "      <td>0</td>\n",
       "      <td>0</td>\n",
       "      <td>0</td>\n",
       "      <td>0</td>\n",
       "      <td>0</td>\n",
       "      <td>1</td>\n",
       "    </tr>\n",
       "    <tr>\n",
       "      <th>199522</th>\n",
       "      <td>0</td>\n",
       "      <td>0</td>\n",
       "      <td>1</td>\n",
       "      <td>0</td>\n",
       "      <td>0</td>\n",
       "      <td>0</td>\n",
       "      <td>0</td>\n",
       "      <td>0</td>\n",
       "      <td>0</td>\n",
       "      <td>0</td>\n",
       "      <td>...</td>\n",
       "      <td>0</td>\n",
       "      <td>1</td>\n",
       "      <td>0</td>\n",
       "      <td>0</td>\n",
       "      <td>0</td>\n",
       "      <td>0</td>\n",
       "      <td>0</td>\n",
       "      <td>1</td>\n",
       "      <td>1</td>\n",
       "      <td>0</td>\n",
       "    </tr>\n",
       "  </tbody>\n",
       "</table>\n",
       "<p>199523 rows × 257 columns</p>\n",
       "</div>"
      ],
      "text/plain": [
       "        AAGE_(-0.09, 15.0]  AAGE_(15.0, 30.0]  AAGE_(30.0, 45.0]  \\\n",
       "0                        0                  0                  0   \n",
       "1                        0                  0                  0   \n",
       "2                        0                  1                  0   \n",
       "3                        1                  0                  0   \n",
       "4                        1                  0                  0   \n",
       "...                    ...                ...                ...   \n",
       "199518                   0                  0                  0   \n",
       "199519                   0                  0                  0   \n",
       "199520                   0                  0                  0   \n",
       "199521                   0                  1                  0   \n",
       "199522                   0                  0                  1   \n",
       "\n",
       "        AAGE_(45.0, 60.0]  AAGE_(60.0, 75.0]  AAGE_(75.0, 90.0]  \\\n",
       "0                       0                  1                  0   \n",
       "1                       1                  0                  0   \n",
       "2                       0                  0                  0   \n",
       "3                       0                  0                  0   \n",
       "4                       0                  0                  0   \n",
       "...                   ...                ...                ...   \n",
       "199518                  0                  0                  1   \n",
       "199519                  0                  1                  0   \n",
       "199520                  1                  0                  0   \n",
       "199521                  0                  0                  0   \n",
       "199522                  0                  0                  0   \n",
       "\n",
       "        ACLSWKR_ Federal government  ACLSWKR_ Local government  \\\n",
       "0                                 0                          0   \n",
       "1                                 0                          0   \n",
       "2                                 0                          0   \n",
       "3                                 0                          0   \n",
       "4                                 0                          0   \n",
       "...                             ...                        ...   \n",
       "199518                            0                          0   \n",
       "199519                            0                          0   \n",
       "199520                            0                          0   \n",
       "199521                            0                          0   \n",
       "199522                            0                          0   \n",
       "\n",
       "        ACLSWKR_ Never worked  ACLSWKR_ Not in universe  ...  NOEMP_5  \\\n",
       "0                           0                         1  ...        0   \n",
       "1                           0                         0  ...        0   \n",
       "2                           0                         1  ...        0   \n",
       "3                           0                         1  ...        0   \n",
       "4                           0                         1  ...        0   \n",
       "...                       ...                       ...  ...      ...   \n",
       "199518                      0                         1  ...        0   \n",
       "199519                      0                         0  ...        0   \n",
       "199520                      0                         1  ...        0   \n",
       "199521                      0                         1  ...        0   \n",
       "199522                      0                         0  ...        0   \n",
       "\n",
       "        NOEMP_6  WKSWORK_(-0.052, 8.667]  WKSWORK_(8.667, 17.333]  \\\n",
       "0             0                        1                        0   \n",
       "1             0                        0                        0   \n",
       "2             0                        1                        0   \n",
       "3             0                        1                        0   \n",
       "4             0                        1                        0   \n",
       "...         ...                      ...                      ...   \n",
       "199518        0                        1                        0   \n",
       "199519        0                        0                        0   \n",
       "199520        1                        0                        0   \n",
       "199521        0                        1                        0   \n",
       "199522        1                        0                        0   \n",
       "\n",
       "        WKSWORK_(17.333, 26.0]  WKSWORK_(26.0, 34.667]  \\\n",
       "0                            0                       0   \n",
       "1                            0                       0   \n",
       "2                            0                       0   \n",
       "3                            0                       0   \n",
       "4                            0                       0   \n",
       "...                        ...                     ...   \n",
       "199518                       0                       0   \n",
       "199519                       0                       0   \n",
       "199520                       0                       0   \n",
       "199521                       0                       0   \n",
       "199522                       0                       0   \n",
       "\n",
       "        WKSWORK_(34.667, 43.333]  WKSWORK_(43.333, 52.0]  YEAR_94  YEAR_95  \n",
       "0                              0                       0        0        1  \n",
       "1                              0                       1        1        0  \n",
       "2                              0                       0        0        1  \n",
       "3                              0                       0        1        0  \n",
       "4                              0                       0        1        0  \n",
       "...                          ...                     ...      ...      ...  \n",
       "199518                         0                       0        0        1  \n",
       "199519                         0                       1        1        0  \n",
       "199520                         0                       1        0        1  \n",
       "199521                         0                       0        0        1  \n",
       "199522                         0                       1        1        0  \n",
       "\n",
       "[199523 rows x 257 columns]"
      ]
     },
     "execution_count": 35,
     "metadata": {},
     "output_type": "execute_result"
    }
   ],
   "source": [
    "data"
   ]
  },
  {
   "cell_type": "markdown",
   "metadata": {},
   "source": [
    "PCA"
   ]
  },
  {
   "cell_type": "code",
   "execution_count": 36,
   "metadata": {},
   "outputs": [
    {
     "data": {
      "image/png": "[encoded data removed]",
      "text/plain": [
       "<Figure size 432x288 with 1 Axes>"
      ]
     },
     "metadata": {
      "needs_background": "light"
     },
     "output_type": "display_data"
    }
   ],
   "source": [
    "pca = PCA()\n",
    "pca.fit(np.array(data))\n",
    "exp_var_rat = pca.explained_variance_ratio_\n",
    "cum_exp_var_perc = np.cumsum(exp_var_rat)\n",
    "plt.plot(cum_exp_var_perc)\n",
    "plt.xlabel('Cumulative explained variance')\n",
    "plt.ylabel('Number of components')\n",
    "plt.title('PCA Analysis')\n",
    "plt.savefig('../Plots/Dimesionality_Reduction/pca_plot.png', facecolor='white', bbox_inches='tight')\n",
    "plt.show()\n"
   ]
  },
  {
   "cell_type": "code",
   "execution_count": 37,
   "metadata": {},
   "outputs": [
    {
     "name": "stdout",
     "output_type": "stream",
     "text": [
      "0.7079537385078268\n"
     ]
    }
   ],
   "source": [
    "print(cum_exp_var_perc[15])"
   ]
  },
  {
   "cell_type": "code",
   "execution_count": 38,
   "metadata": {},
   "outputs": [],
   "source": [
    "# exp_var = []\n",
    "# for comp in tqdm(range(2, 111)):\n",
    "#     pca = PCA(comp)\n",
    "#     pca.fit(np.array(data))\n",
    "#     exp_var_rat = round(sum(list(pca.explained_variance_ratio_))*100, 2)\n",
    "#     print(f'comps = {comp} | var = {exp_var_rat}')\n",
    "#     exp_var.append(exp_var_rat)"
   ]
  },
  {
   "cell_type": "code",
   "execution_count": 39,
   "metadata": {},
   "outputs": [],
   "source": [
    "# plt.plot([x for x in range(2, 101)], exp_var)\n"
   ]
  },
  {
   "cell_type": "code",
   "execution_count": 40,
   "metadata": {},
   "outputs": [],
   "source": [
    "pca_final = PCA(n_components=15)\n",
    "dim_reduced_data = pca_final.fit_transform(np.array(data))"
   ]
  },
  {
   "cell_type": "code",
   "execution_count": 41,
   "metadata": {},
   "outputs": [
    {
     "data": {
      "text/plain": [
       "(199523, 15)"
      ]
     },
     "execution_count": 41,
     "metadata": {},
     "output_type": "execute_result"
    }
   ],
   "source": [
    "dim_reduced_data.shape"
   ]
  },
  {
   "cell_type": "markdown",
   "metadata": {},
   "source": [
    "CLUSTERING"
   ]
  },
  {
   "cell_type": "code",
   "execution_count": 42,
   "metadata": {},
   "outputs": [
    {
     "data": {
      "application/vnd.jupyter.widget-view+json": {
       "model_id": "31a394b542524c0c9f75f51c83a9addd",
       "version_major": 2,
       "version_minor": 0
      },
      "text/plain": [
       "  0%|          | 0/24 [00:00<?, ?it/s]"
      ]
     },
     "metadata": {},
     "output_type": "display_data"
    },
    {
     "name": "stdout",
     "output_type": "stream",
     "text": [
      "-------- K VALUE = 1 --------\n",
      "average within cluster distance = 3176876.974281428\n",
      "-------- K VALUE = 2 --------\n"
     ]
    }
   ],
   "source": [
    "avg_within_cluster_distance = {}\n",
    "\n",
    "for k_value in tqdm(range(1, 25)):\n",
    "\n",
    "    print(f'-------- K VALUE = {k_value} --------')\n",
    "    random_points = np.array(pd.DataFrame(dim_reduced_data).sample(n=k_value)).tolist()\n",
    "\n",
    "    # print('PERFORMING CLUSTERING')\n",
    "    medians_init = random_points\n",
    "    kmedians_instance = kmedians(dim_reduced_data, medians_init)\n",
    "    kmedians_instance.process()\n",
    "\n",
    "    file = open(f'../models/kmedians_{k_value}.pickle', 'wb')\n",
    "    pickle.dump(kmedians_instance, file)\n",
    "    file.close()\n",
    "\n",
    "    avg_cluster_dist = kmedians_instance.get_total_wce()\n",
    "    avg_within_cluster_distance[k_value] = avg_cluster_dist\n",
    "    print(f'average within cluster distance = {avg_cluster_dist}')\n",
    "\n",
    "    # print('INSTANCE PROCESSED')\n",
    "    clusters = kmedians_instance.get_clusters()\n",
    "    medians = kmedians_instance.get_medians()\n",
    "    np.save(f'../model_info/clusters_{k_value}.npy', np.array(clusters))\n",
    "    np.save(f'../model_info/medians_{k_value}.npy', np.array(medians))\n",
    "\n",
    "    # print('CLUSTERING PERFORMED')\n",
    "\n"
   ]
  },
  {
   "cell_type": "code",
   "execution_count": null,
   "metadata": {},
   "outputs": [],
   "source": [
    "# random_points = np.array(pd.DataFrame(B).sample(n=10)).tolist()"
   ]
  },
  {
   "cell_type": "code",
   "execution_count": null,
   "metadata": {},
   "outputs": [],
   "source": [
    "# print('PERFORMING CLUSTERING')\n",
    "# medians_init = random_points\n",
    "# kmedians_instance = kmedians(B, medians_init)\n",
    "# kmedians_instance.process()\n",
    "# print('INSTANCE PROCESSED')\n",
    "# clusters = kmedians_instance.get_clusters()\n",
    "# medians = kmedians_instance.get_medians()\n",
    "# print('CLUSTERING PERFORMED')\n"
   ]
  },
  {
   "cell_type": "code",
   "execution_count": null,
   "metadata": {},
   "outputs": [],
   "source": [
    "# visualizer = cluster_visualizer_multidim()\n",
    "# # visualizer.append_clusters(clusters, B)\n",
    "# # visualizer.append_cluster(medians_init, marker='*', markersize=10)\n",
    "# visualizer.append_cluster(medians, marker='*', markersize=10)\n",
    "# visualizer.show()"
   ]
  }
 ],
 "metadata": {
  "interpreter": {
   "hash": "95998ac47eb65ec9e5c98c2254b1cb40f9c7258e6e03781a4daecb7b0f9a0cae"
  },
  "kernelspec": {
   "display_name": "Python 3.9.5 64-bit",
   "language": "python",
   "name": "python3"
  },
  "language_info": {
   "codemirror_mode": {
    "name": "ipython",
    "version": 3
   },
   "file_extension": ".py",
   "mimetype": "text/x-python",
   "name": "python",
   "nbconvert_exporter": "python",
   "pygments_lexer": "ipython3",
   "version": "3.9.5"
  },
  "orig_nbformat": 4
 },
 "nbformat": 4,
 "nbformat_minor": 2
}
