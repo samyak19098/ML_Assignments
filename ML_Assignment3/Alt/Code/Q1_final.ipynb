{
 "cells": [
  {
   "cell_type": "code",
   "execution_count": 45,
   "metadata": {},
   "outputs": [],
   "source": [
    "import numpy as np\n",
    "import pandas as pd\n",
    "import matplotlib.pyplot as plt\n",
    "from sklearn import preprocessing\n",
    "from pyclustering.cluster.kmedians import kmedians\n",
    "from pyclustering.cluster import cluster_visualizer\n",
    "from pyclustering.cluster import cluster_visualizer_multidim\n",
    "from sklearn.decomposition import PCA\n",
    "import pickle\n",
    "from tqdm.notebook import tqdm"
   ]
  },
  {
   "cell_type": "code",
   "execution_count": 46,
   "metadata": {},
   "outputs": [],
   "source": [
    "population_data_raw = pd.read_csv('../Data/population.csv')\n",
    "more_than_50_raw = pd.read_csv('../Data/more_than_50k.csv')"
   ]
  },
  {
   "cell_type": "code",
   "execution_count": 47,
   "metadata": {},
   "outputs": [],
   "source": [
    "def preprocessing(df):\n",
    "\n",
    "    #replace ? with Nan\n",
    "    df = df.replace({' ?' :  np.nan})\n",
    "\n",
    "    #drop columns with more than 40$ NaN values\n",
    "    cols = df.columns\n",
    "    missing_percentages = (df.isna().sum() / len(df)) * 100\n",
    "    cols_to_drop = []\n",
    "    for col in cols:\n",
    "        if(missing_percentages[col] > 40.0):\n",
    "            cols_to_drop.append(col)\n",
    "    print(f'Dropping = {cols_to_drop}')\n",
    "    df = df.drop(cols_to_drop, axis=1)\n",
    "    return df"
   ]
  },
  {
   "cell_type": "code",
   "execution_count": 48,
   "metadata": {},
   "outputs": [
    {
     "name": "stdout",
     "output_type": "stream",
     "text": [
      "Dropping = ['MIGMTR1', 'MIGMTR3', 'MIGMTR4', 'MIGSUN']\n",
      "Population data shape: (199523, 36)\n",
      "Dropping = ['MIGMTR1', 'MIGMTR3', 'MIGMTR4', 'MIGSUN']\n",
      "More than 50k data shape: (3580, 36)\n"
     ]
    }
   ],
   "source": [
    "data = preprocessing(population_data_raw)\n",
    "print(f'Population data shape: {data.shape}')\n",
    "data_more_than_50 = preprocessing(more_than_50_raw)\n",
    "print(f'More than 50k data shape: {data_more_than_50.shape}')"
   ]
  },
  {
   "cell_type": "code",
   "execution_count": 49,
   "metadata": {},
   "outputs": [],
   "source": [
    "def plot_histogram(df, numeric_columns, anum):\n",
    "    # features = df.columns\n",
    "    # for feat in features:\n",
    "    #     plt.figure(figsize=(25,5))\n",
    "    #     if(feat in numeric_columns):\n",
    "    #         df[feat].hist(bins=10,edgecolor='black', linewidth=1.5)\n",
    "\n",
    "    #     else:\n",
    "    #         unique_cat_values = len(df[feat].unique())\n",
    "    #         print(f'No. of unique Categories : {unique_cat_values}')\n",
    "    #         df[feat].hist(bins = unique_cat_values, edgecolor='black', linewidth=1.5)\n",
    "    #     plt.xlabel(feat)\n",
    "    #     plt.ylabel('Count')\n",
    "    #     plt.title(f'Histogram : {feat}')\n",
    "    #     plt.savefig(f'../Plots/Feature_Analysis/{feat}_hist', facecolor='w', bbox_inches='tight')\n",
    "    #     plt.show()\n",
    "    features = df.columns\n",
    "    for feat in features:\n",
    "        plt.figure(figsize=(25, 5))\n",
    "        if(feat in numeric_columns):\n",
    "            print('Numeric Column')\n",
    "            df[feat].astype(str).hist(bins = 6, edgecolor='black', linewidth=1.5)\n",
    "            \n",
    "        else:\n",
    "            unique_cat_values = len(df[feat].unique())\n",
    "            print(f'Categorical Column || No. of unique Categories : {unique_cat_values}')\n",
    "            df[feat].astype(str).hist(bins = unique_cat_values, edgecolor='black', linewidth=1.5)\n",
    "        plt.xlabel(feat)\n",
    "        plt.ylabel('Count')\n",
    "        plt.title(f'Histogram : {feat}')\n",
    "        plt.savefig(f'../Plots/Feature_Analysis_{anum}/{feat}_hist', facecolor='w', bbox_inches='tight')\n",
    "        plt.show()"
   ]
  },
  {
   "cell_type": "code",
   "execution_count": 50,
   "metadata": {},
   "outputs": [],
   "source": [
    "def feature_analysis(df, anum):\n",
    "    data_columns = df.columns\n",
    "    numeric_columns = ['AAGE', 'AHRSPAY', 'CAPGAIN', 'CAPLOSS', 'DIVVAL', 'WKSWORK']\n",
    "    df_copy = df.copy(deep=True)\n",
    "    for col in numeric_columns:\n",
    "        df_copy[col] = pd.cut(x=df_copy[col], bins=6)\n",
    "    # plot_histogram(df_copy, numeric_columns, anum)\n",
    "    total_count = df_copy.shape[0]\n",
    "    cols_to_drop = []\n",
    "    for col in df_copy.columns:\n",
    "        max_freq = df_copy[col].value_counts().max()\n",
    "        max_perc = (max_freq / total_count) * 100\n",
    "        if(max_perc > 80.0):\n",
    "            cols_to_drop.append(col)\n",
    "    print(f'{anum} : Dropping {len(cols_to_drop)} cols \\n {cols_to_drop}')\n",
    "    df = df.drop(cols_to_drop, axis=1)\n",
    "    return df, cols_to_drop\n",
    "\n",
    "    # print(df)\n",
    "    # print(categorical_cols)\n"
   ]
  },
  {
   "cell_type": "code",
   "execution_count": 51,
   "metadata": {},
   "outputs": [
    {
     "name": "stdout",
     "output_type": "stream",
     "text": [
      "1 : Dropping 16 cols \n",
      " ['AHRSPAY', 'AHSCOL', 'ARACE', 'AREORGN', 'AUNMEM', 'AUNTYPE', 'CAPGAIN', 'CAPLOSS', 'DIVVAL', 'GRINREG', 'GRINST', 'PEMNTVTY', 'PENATVTY', 'PRCITSHP', 'SEOTR', 'VETQVA']\n",
      "2 : Dropping 20 cols \n",
      " ['AHRSPAY', 'AHSCOL', 'ARACE', 'AREORGN', 'AUNMEM', 'AUNTYPE', 'CAPGAIN', 'CAPLOSS', 'DIVVAL', 'GRINREG', 'GRINST', 'PARENT', 'PEFNTVTY', 'PEMNTVTY', 'PENATVTY', 'PRCITSHP', 'SEOTR', 'VETQVA', 'VETYN', 'WKSWORK']\n"
     ]
    }
   ],
   "source": [
    "data, cols_to_drop_1 = feature_analysis(data, 1)\n",
    "data_more_than_50, cols_to_drop_2 = feature_analysis(data_more_than_50, 2)"
   ]
  },
  {
   "cell_type": "code",
   "execution_count": 52,
   "metadata": {},
   "outputs": [],
   "source": [
    "# column_modes_1 = data.mode()\n",
    "# column_modes_1"
   ]
  },
  {
   "cell_type": "code",
   "execution_count": 53,
   "metadata": {},
   "outputs": [],
   "source": [
    "def column_modifications(df):\n",
    "    column_modes = df.mode()\n",
    "    data_cols = df.columns\n",
    "    numeric_columns = ['AAGE', 'AHRSPAY', 'CAPGAIN', 'CAPLOSS', 'DIVVAL', 'WKSWORK']\n",
    "    for col in data_cols:\n",
    "        missing_vals = df[col].isna().sum()\n",
    "        if(missing_vals > 0):\n",
    "            df[col] = df[col].fillna(column_modes[col][0])\n",
    "    for col in df.columns:\n",
    "        if(col in numeric_columns):\n",
    "            df[col] = pd.cut(x=df[col], bins=6)\n",
    "    one_hot_encoded = pd.get_dummies(df, columns=list(df.columns))\n",
    "    df = one_hot_encoded\n",
    "    return df"
   ]
  },
  {
   "cell_type": "code",
   "execution_count": 54,
   "metadata": {},
   "outputs": [
    {
     "name": "stdout",
     "output_type": "stream",
     "text": [
      "(199523, 307)\n",
      "(3580, 217)\n"
     ]
    }
   ],
   "source": [
    "data = column_modifications(data)\n",
    "print(data.shape)\n",
    "data_more_than_50 = column_modifications(data_more_than_50)\n",
    "print(data_more_than_50.shape)"
   ]
  },
  {
   "cell_type": "markdown",
   "metadata": {},
   "source": [
    "PCA "
   ]
  },
  {
   "cell_type": "code",
   "execution_count": 55,
   "metadata": {},
   "outputs": [],
   "source": [
    "def performPCA(df, anum):\n",
    "    pca = PCA()\n",
    "    pca.fit(np.array(df))\n",
    "    exp_var_rat = pca.explained_variance_ratio_\n",
    "    cum_exp_var_perc = np.cumsum(exp_var_rat)\n",
    "    plt.plot(cum_exp_var_perc)\n",
    "    plt.xlabel('Cumulative explained variance')\n",
    "    plt.ylabel('Number of components')\n",
    "    plt.title(f'PCA Analysis - {anum}')\n",
    "    plt.savefig(f'../Plots/Dimensionality_Reduction/pca_plot_{anum}.png', facecolor='white', bbox_inches='tight')\n",
    "    plt.show()\n",
    "\n",
    "    return pca, cum_exp_var_perc   "
   ]
  },
  {
   "cell_type": "code",
   "execution_count": 56,
   "metadata": {},
   "outputs": [
    {
     "data": {
      "image/png": "[encoded data removed]",
      "text/plain": [
       "<Figure size 432x288 with 1 Axes>"
      ]
     },
     "metadata": {
      "needs_background": "light"
     },
     "output_type": "display_data"
    },
    {
     "data": {
      "image/png": "[encoded data removed]",
      "text/plain": [
       "<Figure size 432x288 with 1 Axes>"
      ]
     },
     "metadata": {
      "needs_background": "light"
     },
     "output_type": "display_data"
    }
   ],
   "source": [
    "pca_1, cum_var_1 = performPCA(data, 1)\n",
    "pca_2, cum_var_2 = performPCA(data_more_than_50, 2)"
   ]
  },
  {
   "cell_type": "code",
   "execution_count": 57,
   "metadata": {},
   "outputs": [
    {
     "name": "stdout",
     "output_type": "stream",
     "text": [
      " 1 - (199523, 40)\n",
      " 2 - (3580, 40)\n"
     ]
    }
   ],
   "source": [
    "pca_final_1 = PCA(n_components=40)\n",
    "dim_reduced_data_1 = pca_final_1.fit_transform(np.array(data))\n",
    "\n",
    "pca_final_2 = PCA(n_components=40)\n",
    "dim_reduced_data_2 = pca_final_2.fit_transform(np.array(data_more_than_50))\n",
    "\n",
    "print(f' 1 - {dim_reduced_data_1.shape}')\n",
    "print(f' 2 - {dim_reduced_data_2.shape}')"
   ]
  },
  {
   "cell_type": "markdown",
   "metadata": {},
   "source": [
    "CLUSTERING"
   ]
  },
  {
   "cell_type": "code",
   "execution_count": 58,
   "metadata": {},
   "outputs": [
    {
     "name": "stdout",
     "output_type": "stream",
     "text": [
      "199523 3580\n"
     ]
    }
   ],
   "source": [
    "num_samples_1 = data.shape[0]\n",
    "num_samples_2 = data_more_than_50.shape[0]\n",
    "print(num_samples_1, num_samples_2)"
   ]
  },
  {
   "cell_type": "code",
   "execution_count": 91,
   "metadata": {},
   "outputs": [],
   "source": [
    "def compute_avg_within_cluster_dist(dim_red_data, clust, centroids, k):\n",
    "    total_sum = 0\n",
    "    for i in range(k):\n",
    "        clust_dist = 0\n",
    "        print(f'i = {i} | len = {len(clust)}')\n",
    "        for idx in clust[i]:\n",
    "            point = np.array(dim_red_data[idx])\n",
    "            dist_val = np.sqrt(np.sum(np.square(point - centroids[i])))\n",
    "            clust_dist += dist_val\n",
    "        total_sum += clust_dist / len(clust[i])\n",
    "    return total_sum / k"
   ]
  },
  {
   "cell_type": "code",
   "execution_count": 110,
   "metadata": {},
   "outputs": [],
   "source": [
    "def plot_clust_dist(avg_clust_distance, anum):\n",
    "    plt.plot([x for x in range(10, 25)], list(avg_clust_distance.values()), marker='o')\n",
    "    plt.xlabel('No. of clusters')\n",
    "    plt.ylabel('Average cluster distance')\n",
    "    plt.title(f'avg cluster distance vs number of clusters-{anum}')\n",
    "    plt.savefig(f'../Plots/cluster_distance_{anum}', facecolor='white', bbox_inches='tight')\n",
    "    plt.show()"
   ]
  },
  {
   "cell_type": "code",
   "execution_count": 61,
   "metadata": {},
   "outputs": [
    {
     "data": {
      "application/vnd.jupyter.widget-view+json": {
       "model_id": "bbf58b8ae0054208aeee053b4164bb4c",
       "version_major": 2,
       "version_minor": 0
      },
      "text/plain": [
       "  0%|          | 0/15 [00:00<?, ?it/s]"
      ]
     },
     "metadata": {},
     "output_type": "display_data"
    },
    {
     "name": "stdout",
     "output_type": "stream",
     "text": [
      "-------- K VALUE = 10 --------\n",
      "len cluster = 10 || len medians = 10\n",
      "i = 0 | len = 10\n"
     ]
    },
    {
     "name": "stderr",
     "output_type": "stream",
     "text": [
      "C:\\Users\\SAMYAK~1\\AppData\\Local\\Temp/ipykernel_5852/1798722348.py:21: VisibleDeprecationWarning: Creating an ndarray from ragged nested sequences (which is a list-or-tuple of lists-or-tuples-or ndarrays with different lengths or shapes) is deprecated. If you meant to do this, you must specify 'dtype=object' when creating the ndarray.\n",
      "  np.save(f'../model_info/Part_1/clusters_{k_value}.npy', np.array(clusters_1))\n"
     ]
    },
    {
     "name": "stdout",
     "output_type": "stream",
     "text": [
      "i = 1 | len = 10\n",
      "i = 2 | len = 10\n",
      "i = 3 | len = 10\n",
      "i = 4 | len = 10\n",
      "i = 5 | len = 10\n",
      "i = 6 | len = 10\n",
      "i = 7 | len = 10\n",
      "i = 8 | len = 10\n",
      "i = 9 | len = 10\n",
      "average within cluster distance (byK) = 179206.1776156821\n",
      "average within cluster distance (byN) = 8.981730307567654\n",
      "average within cluster distance = 2.7734242952167505\n",
      "-------- K VALUE = 11 --------\n",
      "len cluster = 11 || len medians = 11\n",
      "i = 0 | len = 11\n",
      "i = 1 | len = 11\n",
      "i = 2 | len = 11\n",
      "i = 3 | len = 11\n",
      "i = 4 | len = 11\n",
      "i = 5 | len = 11\n",
      "i = 6 | len = 11\n",
      "i = 7 | len = 11\n",
      "i = 8 | len = 11\n",
      "i = 9 | len = 11\n",
      "i = 10 | len = 11\n",
      "average within cluster distance (byK) = 159180.46994018226\n",
      "average within cluster distance (byN) = 8.775856263899424\n",
      "average within cluster distance = 2.6638183874634147\n",
      "-------- K VALUE = 12 --------\n",
      "len cluster = 12 || len medians = 12\n",
      "i = 0 | len = 12\n",
      "i = 1 | len = 12\n",
      "i = 2 | len = 12\n",
      "i = 3 | len = 12\n",
      "i = 4 | len = 12\n",
      "i = 5 | len = 12\n",
      "i = 6 | len = 12\n",
      "i = 7 | len = 12\n",
      "i = 8 | len = 12\n",
      "i = 9 | len = 12\n",
      "i = 10 | len = 12\n",
      "i = 11 | len = 12\n",
      "average within cluster distance (byK) = 146254.24857226523\n",
      "average within cluster distance (byN) = 8.796233932264364\n",
      "average within cluster distance = 2.635037498084712\n",
      "-------- K VALUE = 13 --------\n",
      "len cluster = 12 || len medians = 12\n",
      "i = 0 | len = 12\n",
      "i = 1 | len = 12\n",
      "i = 2 | len = 12\n",
      "i = 3 | len = 12\n",
      "i = 4 | len = 12\n",
      "i = 5 | len = 12\n",
      "i = 6 | len = 12\n",
      "i = 7 | len = 12\n",
      "i = 8 | len = 12\n",
      "i = 9 | len = 12\n",
      "i = 10 | len = 12\n",
      "i = 11 | len = 12\n",
      "i = 12 | len = 12\n"
     ]
    },
    {
     "ename": "IndexError",
     "evalue": "list index out of range",
     "output_type": "error",
     "traceback": [
      "\u001b[1;31m---------------------------------------------------------------------------\u001b[0m",
      "\u001b[1;31mIndexError\u001b[0m                                Traceback (most recent call last)",
      "\u001b[1;32mC:\\Users\\SAMYAK~1\\AppData\\Local\\Temp/ipykernel_5852/1798722348.py\u001b[0m in \u001b[0;36m<module>\u001b[1;34m\u001b[0m\n\u001b[0;32m     24\u001b[0m     \u001b[0mavg_dist_byK_1\u001b[0m \u001b[1;33m=\u001b[0m \u001b[0mkmedians_clusterer_1\u001b[0m\u001b[1;33m.\u001b[0m\u001b[0mget_total_wce\u001b[0m\u001b[1;33m(\u001b[0m\u001b[1;33m)\u001b[0m \u001b[1;33m/\u001b[0m \u001b[0mk_value\u001b[0m\u001b[1;33m\u001b[0m\u001b[1;33m\u001b[0m\u001b[0m\n\u001b[0;32m     25\u001b[0m     \u001b[0mavg_dist_byN_1\u001b[0m \u001b[1;33m=\u001b[0m \u001b[0mkmedians_clusterer_1\u001b[0m\u001b[1;33m.\u001b[0m\u001b[0mget_total_wce\u001b[0m\u001b[1;33m(\u001b[0m\u001b[1;33m)\u001b[0m \u001b[1;33m/\u001b[0m \u001b[0mnum_samples_1\u001b[0m\u001b[1;33m\u001b[0m\u001b[1;33m\u001b[0m\u001b[0m\n\u001b[1;32m---> 26\u001b[1;33m     \u001b[0mavg_within_clust_dist_1\u001b[0m \u001b[1;33m=\u001b[0m \u001b[0mcompute_avg_within_cluster_dist\u001b[0m\u001b[1;33m(\u001b[0m\u001b[0mdim_reduced_data_1\u001b[0m\u001b[1;33m,\u001b[0m \u001b[0mclusters_1\u001b[0m\u001b[1;33m,\u001b[0m \u001b[0mmedians_1\u001b[0m\u001b[1;33m,\u001b[0m \u001b[0mk_value\u001b[0m\u001b[1;33m)\u001b[0m\u001b[1;33m\u001b[0m\u001b[1;33m\u001b[0m\u001b[0m\n\u001b[0m\u001b[0;32m     27\u001b[0m \u001b[1;33m\u001b[0m\u001b[0m\n\u001b[0;32m     28\u001b[0m     \u001b[0mavg_cluster_distance_byK_1\u001b[0m\u001b[1;33m[\u001b[0m\u001b[0mk_value\u001b[0m\u001b[1;33m]\u001b[0m \u001b[1;33m=\u001b[0m \u001b[0mavg_dist_byK_1\u001b[0m\u001b[1;33m\u001b[0m\u001b[1;33m\u001b[0m\u001b[0m\n",
      "\u001b[1;32mC:\\Users\\SAMYAK~1\\AppData\\Local\\Temp/ipykernel_5852/1741206932.py\u001b[0m in \u001b[0;36mcompute_avg_within_cluster_dist\u001b[1;34m(dim_red_data, clust, centroids, k)\u001b[0m\n\u001b[0;32m      4\u001b[0m         \u001b[0mclust_dist\u001b[0m \u001b[1;33m=\u001b[0m \u001b[1;36m0\u001b[0m\u001b[1;33m\u001b[0m\u001b[1;33m\u001b[0m\u001b[0m\n\u001b[0;32m      5\u001b[0m         \u001b[0mprint\u001b[0m\u001b[1;33m(\u001b[0m\u001b[1;34mf'i = {i} | len = {len(clust)}'\u001b[0m\u001b[1;33m)\u001b[0m\u001b[1;33m\u001b[0m\u001b[1;33m\u001b[0m\u001b[0m\n\u001b[1;32m----> 6\u001b[1;33m         \u001b[1;32mfor\u001b[0m \u001b[0midx\u001b[0m \u001b[1;32min\u001b[0m \u001b[0mclust\u001b[0m\u001b[1;33m[\u001b[0m\u001b[0mi\u001b[0m\u001b[1;33m]\u001b[0m\u001b[1;33m:\u001b[0m\u001b[1;33m\u001b[0m\u001b[1;33m\u001b[0m\u001b[0m\n\u001b[0m\u001b[0;32m      7\u001b[0m             \u001b[0mpoint\u001b[0m \u001b[1;33m=\u001b[0m \u001b[0mnp\u001b[0m\u001b[1;33m.\u001b[0m\u001b[0marray\u001b[0m\u001b[1;33m(\u001b[0m\u001b[0mdim_red_data\u001b[0m\u001b[1;33m[\u001b[0m\u001b[0midx\u001b[0m\u001b[1;33m]\u001b[0m\u001b[1;33m)\u001b[0m\u001b[1;33m\u001b[0m\u001b[1;33m\u001b[0m\u001b[0m\n\u001b[0;32m      8\u001b[0m             \u001b[0mdist_val\u001b[0m \u001b[1;33m=\u001b[0m \u001b[0mnp\u001b[0m\u001b[1;33m.\u001b[0m\u001b[0msqrt\u001b[0m\u001b[1;33m(\u001b[0m\u001b[0mnp\u001b[0m\u001b[1;33m.\u001b[0m\u001b[0msum\u001b[0m\u001b[1;33m(\u001b[0m\u001b[0mnp\u001b[0m\u001b[1;33m.\u001b[0m\u001b[0msquare\u001b[0m\u001b[1;33m(\u001b[0m\u001b[0mpoint\u001b[0m \u001b[1;33m-\u001b[0m \u001b[0mcentroids\u001b[0m\u001b[1;33m[\u001b[0m\u001b[0mi\u001b[0m\u001b[1;33m]\u001b[0m\u001b[1;33m)\u001b[0m\u001b[1;33m)\u001b[0m\u001b[1;33m)\u001b[0m\u001b[1;33m\u001b[0m\u001b[1;33m\u001b[0m\u001b[0m\n",
      "\u001b[1;31mIndexError\u001b[0m: list index out of range"
     ]
    }
   ],
   "source": [
    "avg_cluster_distance_byK_1 = {}\n",
    "avg_cluster_distance_byN_1 = {}\n",
    "avg_within_cluster_distance_1 = {}\n",
    "for k_value in tqdm(range(10, 25)):\n",
    "\n",
    "    print(f'-------- K VALUE = {k_value} --------')\n",
    "    random_points_1 = np.array(pd.DataFrame(dim_reduced_data_1).sample(n=k_value)).tolist()\n",
    "\n",
    "    # print('PERFORMING CLUSTERING')\n",
    "    medians_init_1 = random_points_1\n",
    "    kmedians_clusterer_1 = kmedians(dim_reduced_data_1, medians_init_1)\n",
    "    kmedians_clusterer_1.process()\n",
    "\n",
    "    file = open(f'../models/Part_1/kmedians_{k_value}.pickle', 'wb')\n",
    "    pickle.dump(kmedians_clusterer_1, file)\n",
    "    file.close()\n",
    "\n",
    "    clusters_1 = kmedians_clusterer_1.get_clusters()\n",
    "    medians_1 = kmedians_clusterer_1.get_medians()\n",
    "    print(f'len cluster = {len(clusters_1)} || len medians = {len(medians_1)}')\n",
    "    np.save(f'../model_info/Part_1/clusters_{k_value}.npy', np.array(clusters_1))\n",
    "    np.save(f'../model_info/Part_1/medians_{k_value}.npy', np.array(medians_1))\n",
    "\n",
    "    avg_dist_byK_1 = kmedians_clusterer_1.get_total_wce() / k_value\n",
    "    avg_dist_byN_1 = kmedians_clusterer_1.get_total_wce() / num_samples_1\n",
    "    avg_within_clust_dist_1 = compute_avg_within_cluster_dist(dim_reduced_data_1, clusters_1, medians_1, k_value)\n",
    "    \n",
    "    avg_cluster_distance_byK_1[k_value] = avg_dist_byK_1\n",
    "    avg_cluster_distance_byN_1[k_value] = avg_dist_byN_1\n",
    "    avg_within_cluster_distance_1[k_value] = avg_within_clust_dist_1\n",
    "    print(f'average within cluster distance (byK) = {avg_dist_byK_1}')\n",
    "    print(f'average within cluster distance (byN) = {avg_dist_byN_1}')\n",
    "    print(f'average within cluster distance = {avg_within_clust_dist_1}')\n",
    "    # print('INSTANCE PROCESSED')\n",
    "\n"
   ]
  },
  {
   "cell_type": "code",
   "execution_count": null,
   "metadata": {},
   "outputs": [],
   "source": [
    "plot_clust_dist(avg_within_cluster_distance_1, 1)"
   ]
  },
  {
   "cell_type": "code",
   "execution_count": null,
   "metadata": {},
   "outputs": [],
   "source": [
    "plt.plot([x for x in range(10, 25)], list(avg_cluster_distance_byK_1.values()), marker='o')\n",
    "plt.xlabel('No. of clusters')\n",
    "plt.ylabel('Average cluster distance')\n",
    "plt.title('avg cluster distance vs number of clusters(byK) (1)')\n",
    "# plt.savefig(f'../Plots/cluster_distance_{anum}', facecolor='white', bbox_inches='tight')\n",
    "plt.show()"
   ]
  },
  {
   "cell_type": "code",
   "execution_count": null,
   "metadata": {},
   "outputs": [],
   "source": [
    "plt.plot([x for x in range(10, 25)], list(avg_cluster_distance_byN_1.values()), marker='o')\n",
    "plt.xlabel('No. of clusters')\n",
    "plt.ylabel('Average cluster distance')\n",
    "plt.title('avg cluster distance vs number of clusters(byN) (1)')\n",
    "# plt.savefig(f'../Plots/cluster_distance_{anum}', facecolor='white', bbox_inches='tight')\n",
    "plt.show()"
   ]
  },
  {
   "cell_type": "markdown",
   "metadata": {},
   "source": [
    "More than 50k"
   ]
  },
  {
   "cell_type": "code",
   "execution_count": 108,
   "metadata": {},
   "outputs": [
    {
     "data": {
      "application/vnd.jupyter.widget-view+json": {
       "model_id": "e48b0b3819a74752bd4677adbba65eed",
       "version_major": 2,
       "version_minor": 0
      },
      "text/plain": [
       "  0%|          | 0/15 [00:00<?, ?it/s]"
      ]
     },
     "metadata": {},
     "output_type": "display_data"
    },
    {
     "name": "stdout",
     "output_type": "stream",
     "text": [
      "-------- K VALUE = 10 --------\n",
      "(10, 40)\n"
     ]
    },
    {
     "name": "stderr",
     "output_type": "stream",
     "text": [
      "C:\\Users\\SAMYAK~1\\AppData\\Local\\Temp/ipykernel_5852/71215536.py:24: VisibleDeprecationWarning: Creating an ndarray from ragged nested sequences (which is a list-or-tuple of lists-or-tuples-or ndarrays with different lengths or shapes) is deprecated. If you meant to do this, you must specify 'dtype=object' when creating the ndarray.\n",
      "  np.save(f'../model_info/Part_2/clusters_{k_value}.npy', np.array(clusters_2))\n"
     ]
    },
    {
     "name": "stdout",
     "output_type": "stream",
     "text": [
      "i = 0 | len = 10\n",
      "i = 1 | len = 10\n",
      "i = 2 | len = 10\n",
      "i = 3 | len = 10\n",
      "i = 4 | len = 10\n",
      "i = 5 | len = 10\n",
      "i = 6 | len = 10\n",
      "i = 7 | len = 10\n",
      "i = 8 | len = 10\n",
      "i = 9 | len = 10\n",
      "average within cluster distance (byK) = 3745.26343655066\n",
      "average within cluster distance (byN) = 10.461629711035364\n",
      "average within cluster distance = 3.179187579227769\n",
      "-------- K VALUE = 11 --------\n",
      "(11, 40)\n",
      "i = 0 | len = 11\n",
      "i = 1 | len = 11\n",
      "i = 2 | len = 11\n",
      "i = 3 | len = 11\n",
      "i = 4 | len = 11\n",
      "i = 5 | len = 11\n",
      "i = 6 | len = 11\n",
      "i = 7 | len = 11\n",
      "i = 8 | len = 11\n",
      "i = 9 | len = 11\n",
      "i = 10 | len = 11\n",
      "average within cluster distance (byK) = 3311.7216502132\n",
      "average within cluster distance (byN) = 10.175681048141119\n",
      "average within cluster distance = 3.1259311022551297\n",
      "-------- K VALUE = 12 --------\n",
      "(12, 40)\n",
      "i = 0 | len = 12\n",
      "i = 1 | len = 12\n",
      "i = 2 | len = 12\n",
      "i = 3 | len = 12\n",
      "i = 4 | len = 12\n",
      "i = 5 | len = 12\n",
      "i = 6 | len = 12\n",
      "i = 7 | len = 12\n",
      "i = 8 | len = 12\n",
      "i = 9 | len = 12\n",
      "i = 10 | len = 12\n",
      "i = 11 | len = 12\n",
      "average within cluster distance (byK) = 2932.863366586034\n",
      "average within cluster distance (byN) = 9.830826927104024\n",
      "average within cluster distance = 3.199992067928139\n",
      "-------- K VALUE = 13 --------\n",
      "(13, 40)\n",
      "i = 0 | len = 13\n",
      "i = 1 | len = 13\n",
      "i = 2 | len = 13\n",
      "i = 3 | len = 13\n",
      "i = 4 | len = 13\n",
      "i = 5 | len = 13\n",
      "i = 6 | len = 13\n",
      "i = 7 | len = 13\n",
      "i = 8 | len = 13\n",
      "i = 9 | len = 13\n",
      "i = 10 | len = 13\n",
      "i = 11 | len = 13\n",
      "i = 12 | len = 13\n",
      "average within cluster distance (byK) = 2949.543968453794\n",
      "average within cluster distance (byN) = 10.710634522318246\n",
      "average within cluster distance = 3.1674022441754626\n",
      "-------- K VALUE = 14 --------\n",
      "(14, 40)\n",
      "i = 0 | len = 14\n",
      "i = 1 | len = 14\n",
      "i = 2 | len = 14\n",
      "i = 3 | len = 14\n",
      "i = 4 | len = 14\n",
      "i = 5 | len = 14\n",
      "i = 6 | len = 14\n",
      "i = 7 | len = 14\n",
      "i = 8 | len = 14\n",
      "i = 9 | len = 14\n",
      "i = 10 | len = 14\n",
      "i = 11 | len = 14\n",
      "i = 12 | len = 14\n",
      "i = 13 | len = 14\n",
      "average within cluster distance (byK) = 2432.018830244258\n",
      "average within cluster distance (byN) = 9.510688162966371\n",
      "average within cluster distance = 2.9031398116377938\n",
      "-------- K VALUE = 15 --------\n",
      "(15, 40)\n",
      "i = 0 | len = 15\n",
      "i = 1 | len = 15\n",
      "i = 2 | len = 15\n",
      "i = 3 | len = 15\n",
      "i = 4 | len = 15\n",
      "i = 5 | len = 15\n",
      "i = 6 | len = 15\n",
      "i = 7 | len = 15\n",
      "i = 8 | len = 15\n",
      "i = 9 | len = 15\n",
      "i = 10 | len = 15\n",
      "i = 11 | len = 15\n",
      "i = 12 | len = 15\n",
      "i = 13 | len = 15\n",
      "i = 14 | len = 15\n",
      "average within cluster distance (byK) = 2494.6361608681973\n",
      "average within cluster distance (byN) = 10.452386148889094\n",
      "average within cluster distance = 3.1375252585034428\n",
      "-------- K VALUE = 16 --------\n",
      "(16, 40)\n",
      "i = 0 | len = 16\n",
      "i = 1 | len = 16\n",
      "i = 2 | len = 16\n",
      "i = 3 | len = 16\n",
      "i = 4 | len = 16\n",
      "i = 5 | len = 16\n",
      "i = 6 | len = 16\n",
      "i = 7 | len = 16\n",
      "i = 8 | len = 16\n",
      "i = 9 | len = 16\n",
      "i = 10 | len = 16\n",
      "i = 11 | len = 16\n",
      "i = 12 | len = 16\n",
      "i = 13 | len = 16\n",
      "i = 14 | len = 16\n",
      "i = 15 | len = 16\n",
      "average within cluster distance (byK) = 2138.001857573542\n",
      "average within cluster distance (byN) = 9.55531556457449\n",
      "average within cluster distance = 2.9525210300359954\n",
      "-------- K VALUE = 17 --------\n",
      "(17, 40)\n",
      "i = 0 | len = 17\n",
      "i = 1 | len = 17\n",
      "i = 2 | len = 17\n",
      "i = 3 | len = 17\n",
      "i = 4 | len = 17\n",
      "i = 5 | len = 17\n",
      "i = 6 | len = 17\n",
      "i = 7 | len = 17\n",
      "i = 8 | len = 17\n",
      "i = 9 | len = 17\n",
      "i = 10 | len = 17\n",
      "i = 11 | len = 17\n",
      "i = 12 | len = 17\n",
      "i = 13 | len = 17\n",
      "i = 14 | len = 17\n",
      "i = 15 | len = 17\n",
      "i = 16 | len = 17\n",
      "average within cluster distance (byK) = 1725.0839080797764\n",
      "average within cluster distance (byN) = 8.191739228311787\n",
      "average within cluster distance = 2.8216838356478653\n",
      "-------- K VALUE = 18 --------\n",
      "(18, 40)\n",
      "i = 0 | len = 18\n",
      "i = 1 | len = 18\n",
      "i = 2 | len = 18\n",
      "i = 3 | len = 18\n",
      "i = 4 | len = 18\n",
      "i = 5 | len = 18\n",
      "i = 6 | len = 18\n",
      "i = 7 | len = 18\n",
      "i = 8 | len = 18\n",
      "i = 9 | len = 18\n",
      "i = 10 | len = 18\n",
      "i = 11 | len = 18\n",
      "i = 12 | len = 18\n",
      "i = 13 | len = 18\n",
      "i = 14 | len = 18\n",
      "i = 15 | len = 18\n",
      "i = 16 | len = 18\n",
      "i = 17 | len = 18\n",
      "average within cluster distance (byK) = 1831.7312879743185\n",
      "average within cluster distance (byN) = 9.20982211830663\n",
      "average within cluster distance = 2.95273353646326\n",
      "-------- K VALUE = 19 --------\n",
      "(19, 40)\n",
      "i = 0 | len = 19\n",
      "i = 1 | len = 19\n",
      "i = 2 | len = 19\n",
      "i = 3 | len = 19\n",
      "i = 4 | len = 19\n",
      "i = 5 | len = 19\n",
      "i = 6 | len = 19\n",
      "i = 7 | len = 19\n",
      "i = 8 | len = 19\n",
      "i = 9 | len = 19\n",
      "i = 10 | len = 19\n",
      "i = 11 | len = 19\n",
      "i = 12 | len = 19\n",
      "i = 13 | len = 19\n",
      "i = 14 | len = 19\n",
      "i = 15 | len = 19\n",
      "i = 16 | len = 19\n",
      "i = 17 | len = 19\n",
      "i = 18 | len = 19\n",
      "average within cluster distance (byK) = 1679.6752776381618\n",
      "average within cluster distance (byN) = 8.914477730481865\n",
      "average within cluster distance = 2.8826755915338236\n",
      "-------- K VALUE = 20 --------\n",
      "(20, 40)\n",
      "i = 0 | len = 20\n",
      "i = 1 | len = 20\n",
      "i = 2 | len = 20\n",
      "i = 3 | len = 20\n",
      "i = 4 | len = 20\n",
      "i = 5 | len = 20\n",
      "i = 6 | len = 20\n",
      "i = 7 | len = 20\n",
      "i = 8 | len = 20\n",
      "i = 9 | len = 20\n",
      "i = 10 | len = 20\n",
      "i = 11 | len = 20\n",
      "i = 12 | len = 20\n",
      "i = 13 | len = 20\n",
      "i = 14 | len = 20\n",
      "i = 15 | len = 20\n",
      "i = 16 | len = 20\n",
      "i = 17 | len = 20\n",
      "i = 18 | len = 20\n",
      "i = 19 | len = 20\n",
      "average within cluster distance (byK) = 1567.6565076716654\n",
      "average within cluster distance (byN) = 8.757857584757907\n",
      "average within cluster distance = 2.8855099648663947\n",
      "-------- K VALUE = 21 --------\n",
      "(21, 40)\n",
      "i = 0 | len = 21\n",
      "i = 1 | len = 21\n",
      "i = 2 | len = 21\n",
      "i = 3 | len = 21\n",
      "i = 4 | len = 21\n",
      "i = 5 | len = 21\n",
      "i = 6 | len = 21\n",
      "i = 7 | len = 21\n",
      "i = 8 | len = 21\n",
      "i = 9 | len = 21\n",
      "i = 10 | len = 21\n",
      "i = 11 | len = 21\n",
      "i = 12 | len = 21\n",
      "i = 13 | len = 21\n",
      "i = 14 | len = 21\n",
      "i = 15 | len = 21\n",
      "i = 16 | len = 21\n",
      "i = 17 | len = 21\n",
      "i = 18 | len = 21\n",
      "i = 19 | len = 21\n",
      "i = 20 | len = 21\n",
      "average within cluster distance (byK) = 1476.5737893203493\n",
      "average within cluster distance (byN) = 8.661466361935009\n",
      "average within cluster distance = 2.8974975913424537\n",
      "-------- K VALUE = 22 --------\n",
      "(22, 40)\n",
      "i = 0 | len = 22\n",
      "i = 1 | len = 22\n",
      "i = 2 | len = 22\n",
      "i = 3 | len = 22\n",
      "i = 4 | len = 22\n",
      "i = 5 | len = 22\n",
      "i = 6 | len = 22\n",
      "i = 7 | len = 22\n",
      "i = 8 | len = 22\n",
      "i = 9 | len = 22\n",
      "i = 10 | len = 22\n",
      "i = 11 | len = 22\n",
      "i = 12 | len = 22\n",
      "i = 13 | len = 22\n",
      "i = 14 | len = 22\n",
      "i = 15 | len = 22\n",
      "i = 16 | len = 22\n",
      "i = 17 | len = 22\n",
      "i = 18 | len = 22\n",
      "i = 19 | len = 22\n",
      "i = 20 | len = 22\n",
      "i = 21 | len = 22\n",
      "average within cluster distance (byK) = 1405.679685470863\n",
      "average within cluster distance (byN) = 8.638255050379605\n",
      "average within cluster distance = 2.895478237818876\n",
      "-------- K VALUE = 23 --------\n",
      "(23, 40)\n",
      "i = 0 | len = 23\n",
      "i = 1 | len = 23\n",
      "i = 2 | len = 23\n",
      "i = 3 | len = 23\n",
      "i = 4 | len = 23\n",
      "i = 5 | len = 23\n",
      "i = 6 | len = 23\n",
      "i = 7 | len = 23\n",
      "i = 8 | len = 23\n",
      "i = 9 | len = 23\n",
      "i = 10 | len = 23\n",
      "i = 11 | len = 23\n",
      "i = 12 | len = 23\n",
      "i = 13 | len = 23\n",
      "i = 14 | len = 23\n",
      "i = 15 | len = 23\n",
      "i = 16 | len = 23\n",
      "i = 17 | len = 23\n",
      "i = 18 | len = 23\n",
      "i = 19 | len = 23\n",
      "i = 20 | len = 23\n",
      "i = 21 | len = 23\n",
      "i = 22 | len = 23\n",
      "average within cluster distance (byK) = 1495.8648464673233\n",
      "average within cluster distance (byN) = 9.610304879538669\n",
      "average within cluster distance = 2.979658548246522\n",
      "-------- K VALUE = 24 --------\n",
      "(24, 40)\n",
      "i = 0 | len = 24\n",
      "i = 1 | len = 24\n",
      "i = 2 | len = 24\n",
      "i = 3 | len = 24\n",
      "i = 4 | len = 24\n",
      "i = 5 | len = 24\n",
      "i = 6 | len = 24\n",
      "i = 7 | len = 24\n",
      "i = 8 | len = 24\n",
      "i = 9 | len = 24\n",
      "i = 10 | len = 24\n",
      "i = 11 | len = 24\n",
      "i = 12 | len = 24\n",
      "i = 13 | len = 24\n",
      "i = 14 | len = 24\n",
      "i = 15 | len = 24\n",
      "i = 16 | len = 24\n",
      "i = 17 | len = 24\n",
      "i = 18 | len = 24\n",
      "i = 19 | len = 24\n",
      "i = 20 | len = 24\n",
      "i = 21 | len = 24\n",
      "i = 22 | len = 24\n",
      "i = 23 | len = 24\n",
      "average within cluster distance (byK) = 1320.3283455177038\n",
      "average within cluster distance (byN) = 8.85136321017455\n",
      "average within cluster distance = 2.850401512135006\n"
     ]
    }
   ],
   "source": [
    "avg_cluster_distance_byK_2 = {}\n",
    "avg_cluster_distance_byN_2 = {}\n",
    "avg_within_cluster_distance_2 = {}\n",
    "\n",
    "for k_value in tqdm(range(10, 25)):\n",
    "    \n",
    "    print(f'-------- K VALUE = {k_value} --------')\n",
    "    random_points_2 = np.array(pd.DataFrame(dim_reduced_data_2).sample(n=k_value)).tolist()\n",
    "    # print(random_points_2.shape)\n",
    "    # random_points_2 = np.zeros((k_value, 40))\n",
    "    \n",
    "    # print('PERFORMING CLUSTERING')\n",
    "    medians_init_2 = random_points_2\n",
    "    print(np.array(medians_init_2).shape)\n",
    "    kmedians_clusterer_2 = kmedians(dim_reduced_data_2, medians_init_2)\n",
    "    kmedians_clusterer_2.process()\n",
    "\n",
    "    file = open(f'../models/Part_2/kmedians_{k_value}.pickle', 'wb')\n",
    "    pickle.dump(kmedians_clusterer_2, file)\n",
    "    file.close()\n",
    "\n",
    "    clusters_2 = kmedians_clusterer_2.get_clusters()\n",
    "    medians_2 = kmedians_clusterer_2.get_medians()\n",
    "    np.save(f'../model_info/Part_2/clusters_{k_value}.npy', np.array(clusters_2))\n",
    "    np.save(f'../model_info/Part_2/medians_{k_value}.npy', np.array(medians_2))\n",
    "\n",
    "    avg_dist_byK_2 = kmedians_clusterer_2.get_total_wce() / k_value\n",
    "    avg_dist_byN_2 = kmedians_clusterer_2.get_total_wce() / num_samples_2\n",
    "    avg_within_clust_dist_2 = compute_avg_within_cluster_dist(dim_reduced_data_2, clusters_2, medians_2, k_value)\n",
    "\n",
    "    avg_cluster_distance_byK_2[k_value] = avg_dist_byK_2\n",
    "    avg_cluster_distance_byN_2[k_value] = avg_dist_byN_2\n",
    "    avg_within_cluster_distance_2[k_value] = avg_within_clust_dist_2\n",
    "    print(f'average within cluster distance (byK) = {avg_dist_byK_2}')\n",
    "    print(f'average within cluster distance (byN) = {avg_dist_byN_2}')\n",
    "    print(f'average within cluster distance = {avg_within_clust_dist_2}')\n",
    "    # print('INSTANCE PROCESSED')\n",
    "\n"
   ]
  },
  {
   "cell_type": "code",
   "execution_count": 109,
   "metadata": {},
   "outputs": [
    {
     "ename": "ValueError",
     "evalue": "x and y must have same first dimension, but have shapes (24,) and (15,)",
     "output_type": "error",
     "traceback": [
      "\u001b[1;31m---------------------------------------------------------------------------\u001b[0m",
      "\u001b[1;31mValueError\u001b[0m                                Traceback (most recent call last)",
      "\u001b[1;32mC:\\Users\\SAMYAK~1\\AppData\\Local\\Temp/ipykernel_5852/4234544586.py\u001b[0m in \u001b[0;36m<module>\u001b[1;34m\u001b[0m\n\u001b[1;32m----> 1\u001b[1;33m \u001b[0mplot_clust_dist\u001b[0m\u001b[1;33m(\u001b[0m\u001b[0mavg_within_cluster_distance_2\u001b[0m\u001b[1;33m,\u001b[0m \u001b[1;36m2\u001b[0m\u001b[1;33m)\u001b[0m\u001b[1;33m\u001b[0m\u001b[1;33m\u001b[0m\u001b[0m\n\u001b[0m",
      "\u001b[1;32mC:\\Users\\SAMYAK~1\\AppData\\Local\\Temp/ipykernel_5852/3339606770.py\u001b[0m in \u001b[0;36mplot_clust_dist\u001b[1;34m(avg_clust_distance, anum)\u001b[0m\n\u001b[0;32m      1\u001b[0m \u001b[1;32mdef\u001b[0m \u001b[0mplot_clust_dist\u001b[0m\u001b[1;33m(\u001b[0m\u001b[0mavg_clust_distance\u001b[0m\u001b[1;33m,\u001b[0m \u001b[0manum\u001b[0m\u001b[1;33m)\u001b[0m\u001b[1;33m:\u001b[0m\u001b[1;33m\u001b[0m\u001b[1;33m\u001b[0m\u001b[0m\n\u001b[1;32m----> 2\u001b[1;33m     \u001b[0mplt\u001b[0m\u001b[1;33m.\u001b[0m\u001b[0mplot\u001b[0m\u001b[1;33m(\u001b[0m\u001b[1;33m[\u001b[0m\u001b[0mx\u001b[0m \u001b[1;32mfor\u001b[0m \u001b[0mx\u001b[0m \u001b[1;32min\u001b[0m \u001b[0mrange\u001b[0m\u001b[1;33m(\u001b[0m\u001b[1;36m1\u001b[0m\u001b[1;33m,\u001b[0m \u001b[1;36m25\u001b[0m\u001b[1;33m)\u001b[0m\u001b[1;33m]\u001b[0m\u001b[1;33m,\u001b[0m \u001b[0mlist\u001b[0m\u001b[1;33m(\u001b[0m\u001b[0mavg_clust_distance\u001b[0m\u001b[1;33m.\u001b[0m\u001b[0mvalues\u001b[0m\u001b[1;33m(\u001b[0m\u001b[1;33m)\u001b[0m\u001b[1;33m)\u001b[0m\u001b[1;33m,\u001b[0m \u001b[0mmarker\u001b[0m\u001b[1;33m=\u001b[0m\u001b[1;34m'o'\u001b[0m\u001b[1;33m)\u001b[0m\u001b[1;33m\u001b[0m\u001b[1;33m\u001b[0m\u001b[0m\n\u001b[0m\u001b[0;32m      3\u001b[0m     \u001b[0mplt\u001b[0m\u001b[1;33m.\u001b[0m\u001b[0mxlabel\u001b[0m\u001b[1;33m(\u001b[0m\u001b[1;34m'No. of clusters'\u001b[0m\u001b[1;33m)\u001b[0m\u001b[1;33m\u001b[0m\u001b[1;33m\u001b[0m\u001b[0m\n\u001b[0;32m      4\u001b[0m     \u001b[0mplt\u001b[0m\u001b[1;33m.\u001b[0m\u001b[0mylabel\u001b[0m\u001b[1;33m(\u001b[0m\u001b[1;34m'Average cluster distance'\u001b[0m\u001b[1;33m)\u001b[0m\u001b[1;33m\u001b[0m\u001b[1;33m\u001b[0m\u001b[0m\n\u001b[0;32m      5\u001b[0m     \u001b[0mplt\u001b[0m\u001b[1;33m.\u001b[0m\u001b[0mtitle\u001b[0m\u001b[1;33m(\u001b[0m\u001b[1;34mf'avg cluster distance vs number of clusters-{anum}'\u001b[0m\u001b[1;33m)\u001b[0m\u001b[1;33m\u001b[0m\u001b[1;33m\u001b[0m\u001b[0m\n",
      "\u001b[1;32m~\\AppData\\Local\\Programs\\Python\\Python39\\lib\\site-packages\\matplotlib\\pyplot.py\u001b[0m in \u001b[0;36mplot\u001b[1;34m(scalex, scaley, data, *args, **kwargs)\u001b[0m\n\u001b[0;32m   3017\u001b[0m \u001b[1;33m@\u001b[0m\u001b[0m_copy_docstring_and_deprecators\u001b[0m\u001b[1;33m(\u001b[0m\u001b[0mAxes\u001b[0m\u001b[1;33m.\u001b[0m\u001b[0mplot\u001b[0m\u001b[1;33m)\u001b[0m\u001b[1;33m\u001b[0m\u001b[1;33m\u001b[0m\u001b[0m\n\u001b[0;32m   3018\u001b[0m \u001b[1;32mdef\u001b[0m \u001b[0mplot\u001b[0m\u001b[1;33m(\u001b[0m\u001b[1;33m*\u001b[0m\u001b[0margs\u001b[0m\u001b[1;33m,\u001b[0m \u001b[0mscalex\u001b[0m\u001b[1;33m=\u001b[0m\u001b[1;32mTrue\u001b[0m\u001b[1;33m,\u001b[0m \u001b[0mscaley\u001b[0m\u001b[1;33m=\u001b[0m\u001b[1;32mTrue\u001b[0m\u001b[1;33m,\u001b[0m \u001b[0mdata\u001b[0m\u001b[1;33m=\u001b[0m\u001b[1;32mNone\u001b[0m\u001b[1;33m,\u001b[0m \u001b[1;33m**\u001b[0m\u001b[0mkwargs\u001b[0m\u001b[1;33m)\u001b[0m\u001b[1;33m:\u001b[0m\u001b[1;33m\u001b[0m\u001b[1;33m\u001b[0m\u001b[0m\n\u001b[1;32m-> 3019\u001b[1;33m     return gca().plot(\n\u001b[0m\u001b[0;32m   3020\u001b[0m         \u001b[1;33m*\u001b[0m\u001b[0margs\u001b[0m\u001b[1;33m,\u001b[0m \u001b[0mscalex\u001b[0m\u001b[1;33m=\u001b[0m\u001b[0mscalex\u001b[0m\u001b[1;33m,\u001b[0m \u001b[0mscaley\u001b[0m\u001b[1;33m=\u001b[0m\u001b[0mscaley\u001b[0m\u001b[1;33m,\u001b[0m\u001b[1;33m\u001b[0m\u001b[1;33m\u001b[0m\u001b[0m\n\u001b[0;32m   3021\u001b[0m         **({\"data\": data} if data is not None else {}), **kwargs)\n",
      "\u001b[1;32m~\\AppData\\Local\\Programs\\Python\\Python39\\lib\\site-packages\\matplotlib\\axes\\_axes.py\u001b[0m in \u001b[0;36mplot\u001b[1;34m(self, scalex, scaley, data, *args, **kwargs)\u001b[0m\n\u001b[0;32m   1603\u001b[0m         \"\"\"\n\u001b[0;32m   1604\u001b[0m         \u001b[0mkwargs\u001b[0m \u001b[1;33m=\u001b[0m \u001b[0mcbook\u001b[0m\u001b[1;33m.\u001b[0m\u001b[0mnormalize_kwargs\u001b[0m\u001b[1;33m(\u001b[0m\u001b[0mkwargs\u001b[0m\u001b[1;33m,\u001b[0m \u001b[0mmlines\u001b[0m\u001b[1;33m.\u001b[0m\u001b[0mLine2D\u001b[0m\u001b[1;33m)\u001b[0m\u001b[1;33m\u001b[0m\u001b[1;33m\u001b[0m\u001b[0m\n\u001b[1;32m-> 1605\u001b[1;33m         \u001b[0mlines\u001b[0m \u001b[1;33m=\u001b[0m \u001b[1;33m[\u001b[0m\u001b[1;33m*\u001b[0m\u001b[0mself\u001b[0m\u001b[1;33m.\u001b[0m\u001b[0m_get_lines\u001b[0m\u001b[1;33m(\u001b[0m\u001b[1;33m*\u001b[0m\u001b[0margs\u001b[0m\u001b[1;33m,\u001b[0m \u001b[0mdata\u001b[0m\u001b[1;33m=\u001b[0m\u001b[0mdata\u001b[0m\u001b[1;33m,\u001b[0m \u001b[1;33m**\u001b[0m\u001b[0mkwargs\u001b[0m\u001b[1;33m)\u001b[0m\u001b[1;33m]\u001b[0m\u001b[1;33m\u001b[0m\u001b[1;33m\u001b[0m\u001b[0m\n\u001b[0m\u001b[0;32m   1606\u001b[0m         \u001b[1;32mfor\u001b[0m \u001b[0mline\u001b[0m \u001b[1;32min\u001b[0m \u001b[0mlines\u001b[0m\u001b[1;33m:\u001b[0m\u001b[1;33m\u001b[0m\u001b[1;33m\u001b[0m\u001b[0m\n\u001b[0;32m   1607\u001b[0m             \u001b[0mself\u001b[0m\u001b[1;33m.\u001b[0m\u001b[0madd_line\u001b[0m\u001b[1;33m(\u001b[0m\u001b[0mline\u001b[0m\u001b[1;33m)\u001b[0m\u001b[1;33m\u001b[0m\u001b[1;33m\u001b[0m\u001b[0m\n",
      "\u001b[1;32m~\\AppData\\Local\\Programs\\Python\\Python39\\lib\\site-packages\\matplotlib\\axes\\_base.py\u001b[0m in \u001b[0;36m__call__\u001b[1;34m(self, data, *args, **kwargs)\u001b[0m\n\u001b[0;32m    313\u001b[0m                 \u001b[0mthis\u001b[0m \u001b[1;33m+=\u001b[0m \u001b[0margs\u001b[0m\u001b[1;33m[\u001b[0m\u001b[1;36m0\u001b[0m\u001b[1;33m]\u001b[0m\u001b[1;33m,\u001b[0m\u001b[1;33m\u001b[0m\u001b[1;33m\u001b[0m\u001b[0m\n\u001b[0;32m    314\u001b[0m                 \u001b[0margs\u001b[0m \u001b[1;33m=\u001b[0m \u001b[0margs\u001b[0m\u001b[1;33m[\u001b[0m\u001b[1;36m1\u001b[0m\u001b[1;33m:\u001b[0m\u001b[1;33m]\u001b[0m\u001b[1;33m\u001b[0m\u001b[1;33m\u001b[0m\u001b[0m\n\u001b[1;32m--> 315\u001b[1;33m             \u001b[1;32myield\u001b[0m \u001b[1;32mfrom\u001b[0m \u001b[0mself\u001b[0m\u001b[1;33m.\u001b[0m\u001b[0m_plot_args\u001b[0m\u001b[1;33m(\u001b[0m\u001b[0mthis\u001b[0m\u001b[1;33m,\u001b[0m \u001b[0mkwargs\u001b[0m\u001b[1;33m)\u001b[0m\u001b[1;33m\u001b[0m\u001b[1;33m\u001b[0m\u001b[0m\n\u001b[0m\u001b[0;32m    316\u001b[0m \u001b[1;33m\u001b[0m\u001b[0m\n\u001b[0;32m    317\u001b[0m     \u001b[1;32mdef\u001b[0m \u001b[0mget_next_color\u001b[0m\u001b[1;33m(\u001b[0m\u001b[0mself\u001b[0m\u001b[1;33m)\u001b[0m\u001b[1;33m:\u001b[0m\u001b[1;33m\u001b[0m\u001b[1;33m\u001b[0m\u001b[0m\n",
      "\u001b[1;32m~\\AppData\\Local\\Programs\\Python\\Python39\\lib\\site-packages\\matplotlib\\axes\\_base.py\u001b[0m in \u001b[0;36m_plot_args\u001b[1;34m(self, tup, kwargs, return_kwargs)\u001b[0m\n\u001b[0;32m    499\u001b[0m \u001b[1;33m\u001b[0m\u001b[0m\n\u001b[0;32m    500\u001b[0m         \u001b[1;32mif\u001b[0m \u001b[0mx\u001b[0m\u001b[1;33m.\u001b[0m\u001b[0mshape\u001b[0m\u001b[1;33m[\u001b[0m\u001b[1;36m0\u001b[0m\u001b[1;33m]\u001b[0m \u001b[1;33m!=\u001b[0m \u001b[0my\u001b[0m\u001b[1;33m.\u001b[0m\u001b[0mshape\u001b[0m\u001b[1;33m[\u001b[0m\u001b[1;36m0\u001b[0m\u001b[1;33m]\u001b[0m\u001b[1;33m:\u001b[0m\u001b[1;33m\u001b[0m\u001b[1;33m\u001b[0m\u001b[0m\n\u001b[1;32m--> 501\u001b[1;33m             raise ValueError(f\"x and y must have same first dimension, but \"\n\u001b[0m\u001b[0;32m    502\u001b[0m                              f\"have shapes {x.shape} and {y.shape}\")\n\u001b[0;32m    503\u001b[0m         \u001b[1;32mif\u001b[0m \u001b[0mx\u001b[0m\u001b[1;33m.\u001b[0m\u001b[0mndim\u001b[0m \u001b[1;33m>\u001b[0m \u001b[1;36m2\u001b[0m \u001b[1;32mor\u001b[0m \u001b[0my\u001b[0m\u001b[1;33m.\u001b[0m\u001b[0mndim\u001b[0m \u001b[1;33m>\u001b[0m \u001b[1;36m2\u001b[0m\u001b[1;33m:\u001b[0m\u001b[1;33m\u001b[0m\u001b[1;33m\u001b[0m\u001b[0m\n",
      "\u001b[1;31mValueError\u001b[0m: x and y must have same first dimension, but have shapes (24,) and (15,)"
     ]
    },
    {
     "data": {
      "image/png": "[encoded data removed]",
      "text/plain": [
       "<Figure size 432x288 with 1 Axes>"
      ]
     },
     "metadata": {
      "needs_background": "light"
     },
     "output_type": "display_data"
    }
   ],
   "source": [
    "plot_clust_dist(avg_within_cluster_distance_2, 2)"
   ]
  },
  {
   "cell_type": "code",
   "execution_count": null,
   "metadata": {},
   "outputs": [
    {
     "data": {
      "image/png": "[encoded data removed]",
      "text/plain": [
       "<Figure size 432x288 with 1 Axes>"
      ]
     },
     "metadata": {
      "needs_background": "light"
     },
     "output_type": "display_data"
    }
   ],
   "source": [
    "plt.plot([x for x in range(10, 25)], list(avg_cluster_distance_byK_2.values()), marker='o')\n",
    "plt.xlabel('No. of clusters')\n",
    "plt.ylabel('Average cluster distance')\n",
    "plt.title('avg cluster distance vs number of clusters(byK) (1)')\n",
    "# plt.savefig(f'../Plots/cluster_distance_{anum}', facecolor='white', bbox_inches='tight')\n",
    "plt.show()"
   ]
  },
  {
   "cell_type": "code",
   "execution_count": null,
   "metadata": {},
   "outputs": [
    {
     "data": {
      "image/png": "[encoded data removed]",
      "text/plain": [
       "<Figure size 432x288 with 1 Axes>"
      ]
     },
     "metadata": {
      "needs_background": "light"
     },
     "output_type": "display_data"
    }
   ],
   "source": [
    "plt.plot([x for x in range(10, 25)], list(avg_cluster_distance_byN_2.values()), marker='o')\n",
    "plt.xlabel('No. of clusters')\n",
    "plt.ylabel('Average cluster distance')\n",
    "plt.title('avg cluster distance vs number of clusters(byN) (1)')\n",
    "# plt.savefig(f'../Plots/cluster_distance_{anum}', facecolor='white', bbox_inches='tight')\n",
    "plt.show()"
   ]
  }
 ],
 "metadata": {
  "interpreter": {
   "hash": "95998ac47eb65ec9e5c98c2254b1cb40f9c7258e6e03781a4daecb7b0f9a0cae"
  },
  "kernelspec": {
   "display_name": "Python 3.9.5 64-bit",
   "language": "python",
   "name": "python3"
  },
  "language_info": {
   "codemirror_mode": {
    "name": "ipython",
    "version": 3
   },
   "file_extension": ".py",
   "mimetype": "text/x-python",
   "name": "python",
   "nbconvert_exporter": "python",
   "pygments_lexer": "ipython3",
   "version": "3.9.5"
  },
  "orig_nbformat": 4
 },
 "nbformat": 4,
 "nbformat_minor": 2
}
