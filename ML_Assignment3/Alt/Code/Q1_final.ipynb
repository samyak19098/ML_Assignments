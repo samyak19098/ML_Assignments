{
 "cells": [
  {
   "cell_type": "code",
   "execution_count": 2,
   "metadata": {},
   "outputs": [],
   "source": [
    "import numpy as np\n",
    "import pandas as pd\n",
    "import matplotlib.pyplot as plt\n",
    "from sklearn import preprocessing\n",
    "from pyclustering.cluster.kmedians import kmedians\n",
    "from pyclustering.cluster import cluster_visualizer\n",
    "from pyclustering.cluster import cluster_visualizer_multidim\n",
    "from sklearn.decomposition import PCA\n",
    "import pickle\n",
    "from tqdm.notebook import tqdm"
   ]
  },
  {
   "cell_type": "code",
   "execution_count": 3,
   "metadata": {},
   "outputs": [],
   "source": [
    "population_data_raw = pd.read_csv('../Data/population.csv')\n",
    "more_than_50_raw = pd.read_csv('../Data/more_than_50k.csv')"
   ]
  },
  {
   "cell_type": "code",
   "execution_count": 4,
   "metadata": {},
   "outputs": [],
   "source": [
    "def preprocessing(df):\n",
    "\n",
    "    #replace ? with Nan\n",
    "    df = df.replace({' ?' :  np.nan})\n",
    "\n",
    "    #drop columns with more than 40$ NaN values\n",
    "    cols = df.columns\n",
    "    missing_percentages = (df.isna().sum() / len(df)) * 100\n",
    "    cols_to_drop = []\n",
    "    for col in cols:\n",
    "        if(missing_percentages[col] > 40.0):\n",
    "            cols_to_drop.append(col)\n",
    "    print(f'Dropping = {cols_to_drop}')\n",
    "    df = df.drop(cols_to_drop, axis=1)\n",
    "    return df"
   ]
  },
  {
   "cell_type": "code",
   "execution_count": 5,
   "metadata": {},
   "outputs": [
    {
     "name": "stdout",
     "output_type": "stream",
     "text": [
      "Dropping = ['MIGMTR1', 'MIGMTR3', 'MIGMTR4', 'MIGSUN']\n",
      "Population data shape: (199523, 36)\n",
      "Dropping = ['MIGMTR1', 'MIGMTR3', 'MIGMTR4', 'MIGSUN']\n",
      "More than 50k data shape: (3580, 36)\n"
     ]
    }
   ],
   "source": [
    "data = preprocessing(population_data_raw)\n",
    "print(f'Population data shape: {data.shape}')\n",
    "data_more_than_50 = preprocessing(more_than_50_raw)\n",
    "print(f'More than 50k data shape: {data_more_than_50.shape}')"
   ]
  },
  {
   "cell_type": "code",
   "execution_count": 6,
   "metadata": {},
   "outputs": [],
   "source": [
    "def plot_histogram(df, numeric_columns, anum):\n",
    "    # features = df.columns\n",
    "    # for feat in features:\n",
    "    #     plt.figure(figsize=(25,5))\n",
    "    #     if(feat in numeric_columns):\n",
    "    #         df[feat].hist(bins=10,edgecolor='black', linewidth=1.5)\n",
    "\n",
    "    #     else:\n",
    "    #         unique_cat_values = len(df[feat].unique())\n",
    "    #         print(f'No. of unique Categories : {unique_cat_values}')\n",
    "    #         df[feat].hist(bins = unique_cat_values, edgecolor='black', linewidth=1.5)\n",
    "    #     plt.xlabel(feat)\n",
    "    #     plt.ylabel('Count')\n",
    "    #     plt.title(f'Histogram : {feat}')\n",
    "    #     plt.savefig(f'../Plots/Feature_Analysis/{feat}_hist', facecolor='w', bbox_inches='tight')\n",
    "    #     plt.show()\n",
    "    features = df.columns\n",
    "    for feat in features:\n",
    "        plt.figure(figsize=(25, 5))\n",
    "        if(feat in numeric_columns):\n",
    "            print('Numeric Column')\n",
    "            df[feat].astype(str).hist(bins = 6, edgecolor='black', linewidth=1.5)\n",
    "            \n",
    "        else:\n",
    "            unique_cat_values = len(df[feat].unique())\n",
    "            print(f'Categorical Column || No. of unique Categories : {unique_cat_values}')\n",
    "            df[feat].astype(str).hist(bins = unique_cat_values, edgecolor='black', linewidth=1.5)\n",
    "        plt.xlabel(feat)\n",
    "        plt.ylabel('Count')\n",
    "        plt.title(f'Histogram : {feat}')\n",
    "        plt.savefig(f'../Plots/Feature_Analysis_{anum}/{feat}_hist', facecolor='w', bbox_inches='tight')\n",
    "        plt.show()"
   ]
  },
  {
   "cell_type": "code",
   "execution_count": 7,
   "metadata": {},
   "outputs": [],
   "source": [
    "def feature_analysis(df, anum):\n",
    "    data_columns = df.columns\n",
    "    numeric_columns = ['AAGE', 'AHRSPAY', 'CAPGAIN', 'CAPLOSS', 'DIVVAL', 'WKSWORK']\n",
    "    df_copy = df.copy(deep=True)\n",
    "    for col in numeric_columns:\n",
    "        df_copy[col] = pd.cut(x=df_copy[col], bins=6)\n",
    "    # plot_histogram(df_copy, numeric_columns, anum)\n",
    "    total_count = df_copy.shape[0]\n",
    "    cols_to_drop = []\n",
    "    for col in df_copy.columns:\n",
    "        max_freq = df_copy[col].value_counts().max()\n",
    "        max_perc = (max_freq / total_count) * 100\n",
    "        if(max_perc > 80.0):\n",
    "            cols_to_drop.append(col)\n",
    "    print(f'{anum} : Dropping {len(cols_to_drop)} cols \\n {cols_to_drop}')\n",
    "    df = df.drop(cols_to_drop, axis=1)\n",
    "    return df, cols_to_drop\n",
    "\n",
    "    # print(df)\n",
    "    # print(categorical_cols)\n"
   ]
  },
  {
   "cell_type": "code",
   "execution_count": 1,
   "metadata": {},
   "outputs": [
    {
     "ename": "NameError",
     "evalue": "name 'feature_analysis' is not defined",
     "output_type": "error",
     "traceback": [
      "\u001b[1;31m---------------------------------------------------------------------------\u001b[0m",
      "\u001b[1;31mNameError\u001b[0m                                 Traceback (most recent call last)",
      "\u001b[1;32mC:\\Users\\SAMYAK~1\\AppData\\Local\\Temp/ipykernel_26964/3495084492.py\u001b[0m in \u001b[0;36m<module>\u001b[1;34m\u001b[0m\n\u001b[1;32m----> 1\u001b[1;33m \u001b[0mdata\u001b[0m\u001b[1;33m,\u001b[0m \u001b[0mcols_to_drop_1\u001b[0m \u001b[1;33m=\u001b[0m \u001b[0mfeature_analysis\u001b[0m\u001b[1;33m(\u001b[0m\u001b[0mdata\u001b[0m\u001b[1;33m,\u001b[0m \u001b[1;36m1\u001b[0m\u001b[1;33m)\u001b[0m\u001b[1;33m\u001b[0m\u001b[1;33m\u001b[0m\u001b[0m\n\u001b[0m\u001b[0;32m      2\u001b[0m \u001b[0mdata_more_than_50\u001b[0m \u001b[1;33m=\u001b[0m \u001b[0mdata_more_than_50\u001b[0m\u001b[1;33m.\u001b[0m\u001b[0mdrop\u001b[0m\u001b[1;33m(\u001b[0m\u001b[0mcolumns\u001b[0m\u001b[1;33m=\u001b[0m\u001b[0mcols_to_drop_1\u001b[0m\u001b[1;33m)\u001b[0m\u001b[1;33m\u001b[0m\u001b[1;33m\u001b[0m\u001b[0m\n\u001b[0;32m      3\u001b[0m \u001b[1;31m# data_more_than_50, cols_to_drop_2 = feature_analysis(data_more_than_50, 2)\u001b[0m\u001b[1;33m\u001b[0m\u001b[1;33m\u001b[0m\u001b[1;33m\u001b[0m\u001b[0m\n",
      "\u001b[1;31mNameError\u001b[0m: name 'feature_analysis' is not defined"
     ]
    }
   ],
   "source": [
    "data, cols_to_drop_1 = feature_analysis(data, 1)\n",
    "data_more_than_50 = data_more_than_50.drop(columns=cols_to_drop_1)\n",
    "# data_more_than_50, cols_to_drop_2 = feature_analysis(data_more_than_50, 2)"
   ]
  },
  {
   "cell_type": "code",
   "execution_count": null,
   "metadata": {},
   "outputs": [],
   "source": [
    "# column_modes_1 = data.mode()\n",
    "# column_modes_1"
   ]
  },
  {
   "cell_type": "code",
   "execution_count": null,
   "metadata": {},
   "outputs": [],
   "source": [
    "def column_modifications(df):\n",
    "    column_modes = df.mode()\n",
    "    data_cols = df.columns\n",
    "    numeric_columns = ['AAGE', 'AHRSPAY', 'CAPGAIN', 'CAPLOSS', 'DIVVAL', 'WKSWORK']\n",
    "    for col in data_cols:\n",
    "        missing_vals = df[col].isna().sum()\n",
    "        if(missing_vals > 0):\n",
    "            df[col] = df[col].fillna(column_modes[col][0])\n",
    "    for col in df.columns:\n",
    "        if(col in numeric_columns):\n",
    "            df[col] = pd.cut(x=df[col], bins=6)\n",
    "    one_hot_encoded = pd.get_dummies(df, columns=list(df.columns))\n",
    "    df = one_hot_encoded\n",
    "    return df"
   ]
  },
  {
   "cell_type": "code",
   "execution_count": null,
   "metadata": {},
   "outputs": [],
   "source": [
    "data = column_modifications(data)\n",
    "print(data.shape)\n",
    "data_more_than_50 = column_modifications(data_more_than_50)\n",
    "print(data_more_than_50.shape)"
   ]
  },
  {
   "cell_type": "markdown",
   "metadata": {},
   "source": [
    "PCA "
   ]
  },
  {
   "cell_type": "code",
   "execution_count": null,
   "metadata": {},
   "outputs": [],
   "source": [
    "def performPCA(df, anum):\n",
    "    pca = PCA()\n",
    "    pca.fit(np.array(df))\n",
    "    exp_var_rat = pca.explained_variance_ratio_\n",
    "    cum_exp_var_perc = np.cumsum(exp_var_rat)\n",
    "    plt.plot(cum_exp_var_perc)\n",
    "    plt.xlabel('Cumulative explained variance')\n",
    "    plt.ylabel('Number of components')\n",
    "    plt.title(f'PCA Analysis - {anum}')\n",
    "    plt.savefig(f'../Plots/Dimensionality_Reduction/pca_plot_{anum}.png', facecolor='white', bbox_inches='tight')\n",
    "    plt.show()\n",
    "\n",
    "    return pca, cum_exp_var_perc   "
   ]
  },
  {
   "cell_type": "code",
   "execution_count": null,
   "metadata": {},
   "outputs": [],
   "source": [
    "pca_1, cum_var_1 = performPCA(data, 1)\n",
    "pca_2, cum_var_2 = performPCA(data_more_than_50, 2)"
   ]
  },
  {
   "cell_type": "code",
   "execution_count": null,
   "metadata": {},
   "outputs": [],
   "source": [
    "pca_final_1 = PCA(n_components=40)\n",
    "dim_reduced_data_1 = pca_final_1.fit_transform(np.array(data))\n",
    "\n",
    "pca_final_2 = PCA(n_components=40)\n",
    "dim_reduced_data_2 = pca_final_2.fit_transform(np.array(data_more_than_50))\n",
    "\n",
    "print(f' 1 - {dim_reduced_data_1.shape}')\n",
    "print(f' 2 - {dim_reduced_data_2.shape}')"
   ]
  },
  {
   "cell_type": "markdown",
   "metadata": {},
   "source": [
    "CLUSTERING"
   ]
  },
  {
   "cell_type": "code",
   "execution_count": null,
   "metadata": {},
   "outputs": [],
   "source": [
    "num_samples_1 = data.shape[0]\n",
    "num_samples_2 = data_more_than_50.shape[0]\n",
    "print(num_samples_1, num_samples_2)"
   ]
  },
  {
   "cell_type": "code",
   "execution_count": null,
   "metadata": {},
   "outputs": [],
   "source": [
    "def compute_avg_within_cluster_dist(dim_red_data, clust, centroids, k):\n",
    "    total_sum = 0\n",
    "    for i in range(len(clust)):\n",
    "        clust_dist = 0\n",
    "        # print(f'i = {i} | len = {len(clust)}')\n",
    "        for idx in clust[i]:\n",
    "            point = np.array(dim_red_data[idx])\n",
    "            dist_val = np.sqrt(np.sum(np.square(point - centroids[i])))\n",
    "            clust_dist += dist_val\n",
    "        total_sum += clust_dist / len(clust[i])\n",
    "    return total_sum / k"
   ]
  },
  {
   "cell_type": "code",
   "execution_count": null,
   "metadata": {},
   "outputs": [],
   "source": [
    "def plot_clust_dist(avg_clust_distance, anum):\n",
    "    plt.plot([x for x in range(10, 25)], list(avg_clust_distance.values()), marker='o')\n",
    "    plt.xlabel('No. of clusters')\n",
    "    plt.ylabel('Average cluster distance')\n",
    "    plt.title(f'avg cluster distance vs number of clusters-{anum}')\n",
    "    plt.savefig(f'../Plots/cluster_distance_{anum}', facecolor='white', bbox_inches='tight')\n",
    "    plt.show()"
   ]
  },
  {
   "cell_type": "code",
   "execution_count": null,
   "metadata": {},
   "outputs": [],
   "source": [
    "avg_cluster_distance_byK_1 = {}\n",
    "avg_cluster_distance_byN_1 = {}\n",
    "# avg_within_cluster_distance_1 = {}\n",
    "for k_value in tqdm(range(10, 25)):\n",
    "\n",
    "    print(f'-------- K VALUE = {k_value} --------')\n",
    "    random_points_1 = np.array(pd.DataFrame(dim_reduced_data_1).sample(n=k_value)).tolist()\n",
    "\n",
    "    # print('PERFORMING CLUSTERING')\n",
    "    medians_init_1 = random_points_1\n",
    "    kmedians_clusterer_1 = kmedians(dim_reduced_data_1, medians_init_1)\n",
    "    kmedians_clusterer_1.process()\n",
    "\n",
    "    file = open(f'../models/Part_1/kmedians_{k_value}.pickle', 'wb')\n",
    "    pickle.dump(kmedians_clusterer_1, file)\n",
    "    file.close()\n",
    "\n",
    "    clusters_1 = kmedians_clusterer_1.get_clusters()\n",
    "    medians_1 = kmedians_clusterer_1.get_medians()\n",
    "    print(f'len cluster = {len(clusters_1)} || len medians = {len(medians_1)}')\n",
    "    np.save(f'../model_info/Part_1/clusters_{k_value}.npy', np.array(clusters_1))\n",
    "    np.save(f'../model_info/Part_1/medians_{k_value}.npy', np.array(medians_1))\n",
    "\n",
    "    avg_dist_byK_1 = kmedians_clusterer_1.get_total_wce() / k_value\n",
    "    avg_dist_byN_1 = kmedians_clusterer_1.get_total_wce() / num_samples_1\n",
    "    # avg_within_clust_dist_1 = compute_avg_within_cluster_dist(dim_reduced_data_1, clusters_1, medians_1, k_value)\n",
    "    \n",
    "    avg_cluster_distance_byK_1[k_value] = avg_dist_byK_1\n",
    "    avg_cluster_distance_byN_1[k_value] = avg_dist_byN_1\n",
    "    # avg_within_cluster_distance_1[k_value] = avg_within_clust_dist_1\n",
    "    print(f'average within cluster distance (byK) = {avg_dist_byK_1}')\n",
    "    print(f'average within cluster distance (byN) = {avg_dist_byN_1}')\n",
    "    # print(f'average within cluster distance = {avg_within_clust_dist_1}')\n",
    "    # print('INSTANCE PROCESSED')\n",
    "\n"
   ]
  },
  {
   "cell_type": "code",
   "execution_count": null,
   "metadata": {},
   "outputs": [],
   "source": [
    "plot_clust_dist(avg_cluster_distance_byN_1, 1)"
   ]
  },
  {
   "cell_type": "code",
   "execution_count": null,
   "metadata": {},
   "outputs": [],
   "source": [
    "plt.plot([x for x in range(10, 25)], list(avg_cluster_distance_byK_1.values()), marker='o')\n",
    "plt.xlabel('No. of clusters')\n",
    "plt.ylabel('Average cluster distance')\n",
    "plt.title('avg cluster distance vs number of clusters(byK) (1)')\n",
    "# plt.savefig(f'../Plots/cluster_distance_{anum}', facecolor='white', bbox_inches='tight')\n",
    "plt.show()"
   ]
  },
  {
   "cell_type": "code",
   "execution_count": null,
   "metadata": {},
   "outputs": [],
   "source": [
    "plt.plot([x for x in range(10, 25)], list(avg_cluster_distance_byN_1.values()), marker='o')\n",
    "plt.xlabel('No. of clusters')\n",
    "plt.ylabel('Average cluster distance')\n",
    "plt.title('avg cluster distance vs number of clusters(byN) (1)')\n",
    "# plt.savefig(f'../Plots/cluster_distance_{anum}', facecolor='white', bbox_inches='tight')\n",
    "plt.show()"
   ]
  },
  {
   "cell_type": "markdown",
   "metadata": {},
   "source": [
    "More than 50k"
   ]
  },
  {
   "cell_type": "code",
   "execution_count": null,
   "metadata": {},
   "outputs": [],
   "source": [
    "avg_cluster_distance_byK_2 = {}\n",
    "avg_cluster_distance_byN_2 = {}\n",
    "avg_within_cluster_distance_2 = {}\n",
    "\n",
    "for k_value in tqdm(range(10, 25)):\n",
    "    \n",
    "    print(f'-------- K VALUE = {k_value} --------')\n",
    "    # random_points_2 = np.array(pd.DataFrame(dim_reduced_data_2).sample(n=k_value)).tolist()\n",
    "    random_points_2 = np.random.randn(k_value, 40)\n",
    "    # print(random_points_2.shape)\n",
    "    # random_points_2 = np.zeros((k_value, 40))\n",
    "    \n",
    "    # print('PERFORMING CLUSTERING')\n",
    "    medians_init_2 = random_points_2\n",
    "    print(np.array(medians_init_2).shape)\n",
    "    kmedians_clusterer_2 = kmedians(dim_reduced_data_2, medians_init_2)\n",
    "    kmedians_clusterer_2.process()\n",
    "\n",
    "    file = open(f'../models/Part_2/kmedians_{k_value}.pickle', 'wb')\n",
    "    pickle.dump(kmedians_clusterer_2, file)\n",
    "    file.close()\n",
    "\n",
    "    clusters_2 = kmedians_clusterer_2.get_clusters()\n",
    "    medians_2 = kmedians_clusterer_2.get_medians()\n",
    "    print(np.array(clusters_2).shape, np.array(medians_2).shape)\n",
    "    np.save(f'../model_info/Part_2/clusters_{k_value}.npy', np.array(clusters_2))\n",
    "    np.save(f'../model_info/Part_2/medians_{k_value}.npy', np.array(medians_2))\n",
    "\n",
    "    avg_dist_byK_2 = kmedians_clusterer_2.get_total_wce() / k_value\n",
    "    avg_dist_byN_2 = kmedians_clusterer_2.get_total_wce() / num_samples_2\n",
    "    avg_within_clust_dist_2 = compute_avg_within_cluster_dist(dim_reduced_data_2, clusters_2, medians_2, k_value)\n",
    "\n",
    "    avg_cluster_distance_byK_2[k_value] = avg_dist_byK_2\n",
    "    avg_cluster_distance_byN_2[k_value] = avg_dist_byN_2\n",
    "    avg_within_cluster_distance_2[k_value] = avg_within_clust_dist_2\n",
    "    print(f'average within cluster distance (byK) = {avg_dist_byK_2}')\n",
    "    print(f'average within cluster distance (byN) = {avg_dist_byN_2}')\n",
    "    print(f'average within cluster distance = {avg_within_clust_dist_2}')\n",
    "    # print('INSTANCE PROCESSED')\n",
    "\n"
   ]
  },
  {
   "cell_type": "code",
   "execution_count": null,
   "metadata": {},
   "outputs": [],
   "source": [
    "plot_clust_dist(avg_within_cluster_distance_2, 2)"
   ]
  },
  {
   "cell_type": "code",
   "execution_count": null,
   "metadata": {},
   "outputs": [],
   "source": [
    "plt.plot([x for x in range(10, 25)], list(avg_cluster_distance_byK_2.values()), marker='o')\n",
    "plt.xlabel('No. of clusters')\n",
    "plt.ylabel('Average cluster distance')\n",
    "plt.title('avg cluster distance vs number of clusters(byK) (1)')\n",
    "# plt.savefig(f'../Plots/cluster_distance_{anum}', facecolor='white', bbox_inches='tight')\n",
    "plt.show()"
   ]
  },
  {
   "cell_type": "code",
   "execution_count": null,
   "metadata": {},
   "outputs": [],
   "source": [
    "plt.plot([x for x in range(10, 25)], list(avg_cluster_distance_byN_2.values()), marker='o')\n",
    "plt.xlabel('No. of clusters')\n",
    "plt.ylabel('Average cluster distance')\n",
    "plt.title('avg cluster distance vs number of clusters(byN) (1)')\n",
    "# plt.savefig(f'../Plots/cluster_distance_{anum}', facecolor='white', bbox_inches='tight')\n",
    "plt.show()"
   ]
  }
 ],
 "metadata": {
  "interpreter": {
   "hash": "95998ac47eb65ec9e5c98c2254b1cb40f9c7258e6e03781a4daecb7b0f9a0cae"
  },
  "kernelspec": {
   "display_name": "Python 3.9.5 64-bit",
   "language": "python",
   "name": "python3"
  },
  "language_info": {
   "codemirror_mode": {
    "name": "ipython",
    "version": 3
   },
   "file_extension": ".py",
   "mimetype": "text/x-python",
   "name": "python",
   "nbconvert_exporter": "python",
   "pygments_lexer": "ipython3",
   "version": "3.9.5"
  },
  "orig_nbformat": 4
 },
 "nbformat": 4,
 "nbformat_minor": 2
}
